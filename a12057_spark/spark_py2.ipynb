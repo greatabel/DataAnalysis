{
 "cells": [
  {
   "cell_type": "code",
   "execution_count": 1,
   "metadata": {},
   "outputs": [],
   "source": [
    "from __future__ import print_function\n",
    "import pyspark\n",
    "from pyspark import SparkContext\n",
    "from pyspark.sql import SQLContext, DataFrame\n",
    "from pyspark.sql.functions import desc, mean"
   ]
  },
  {
   "cell_type": "code",
   "execution_count": 2,
   "metadata": {},
   "outputs": [
    {
     "data": {
      "text/html": [
       "\n",
       "        <div>\n",
       "            <p><b>SparkContext</b></p>\n",
       "\n",
       "            <p><a href=\"http://192.168.133.11:4040\">Spark UI</a></p>\n",
       "\n",
       "            <dl>\n",
       "              <dt>Version</dt>\n",
       "                <dd><code>v2.2.0.2.6.3.0-235</code></dd>\n",
       "              <dt>Master</dt>\n",
       "                <dd><code>yarn</code></dd>\n",
       "              <dt>AppName</dt>\n",
       "                <dd><code>PySparkShell</code></dd>\n",
       "            </dl>\n",
       "        </div>\n",
       "        "
      ],
      "text/plain": [
       "<SparkContext master=yarn appName=PySparkShell>"
      ]
     },
     "execution_count": 2,
     "metadata": {},
     "output_type": "execute_result"
    }
   ],
   "source": [
    "sc = SparkContext.getOrCreate()\n",
    "# sc = SparkContext() \n",
    "sc"
   ]
  },
  {
   "cell_type": "code",
   "execution_count": 3,
   "metadata": {},
   "outputs": [],
   "source": [
    "sqlContext = SQLContext(sc)\n",
    "df = sqlContext.read.csv('/data/ProjectDatasetTwitter/statuses.log.2014-07-01.gz') # about 15 minutes to run \n"
   ]
  },
  {
   "cell_type": "code",
   "execution_count": 4,
   "metadata": {},
   "outputs": [
    {
     "name": "stdout",
     "output_type": "stream",
     "text": [
      "+--------------------+--------------------+--------------------+--------------------+\n",
      "|                 _c0|                 _c1|                 _c2|                 _c3|\n",
      "+--------------------+--------------------+--------------------+--------------------+\n",
      "|{\"delete\":{\"statu...|\"id_str\":\"2264482...| \"user_id\":333210228|\"user_id_str\":\"33...|\n",
      "|{\"delete\":{\"statu...|\"id_str\":\"2261170...| \"user_id\":333210228|\"user_id_str\":\"33...|\n",
      "|{\"created_at\":\"Mo...|\"id\":483731701777...|\"id_str\":\"4837317...|\"text\":\"RT @Joey7...|\n",
      "|{\"delete\":{\"statu...|\"id_str\":\"1415155...|  \"user_id\":97782137|\"user_id_str\":\"97...|\n",
      "|{\"created_at\":\"Mo...|\"id\":483731705954...|\"id_str\":\"4837317...|\"text\":\"Pcq si j'...|\n",
      "|{\"created_at\":\"Mo...|\"id\":483731705967...|\"id_str\":\"4837317...|\"text\":\"El f\\u00f...|\n",
      "|{\"created_at\":\"Mo...|\"id\":483731705984...|\"id_str\":\"4837317...|\"text\":\"Sabia que...|\n",
      "|{\"created_at\":\"Mo...|\"id\":483731705984...|\"id_str\":\"4837317...|\"text\":\"\\u00f6fff...|\n",
      "|{\"created_at\":\"Mo...|\"id\":483731705984...|\"id_str\":\"4837317...|\"text\":\"J'voulais...|\n",
      "|{\"created_at\":\"Mo...|\"id\":483731705954...|\"id_str\":\"4837317...|\"text\":\"Not feeli...|\n",
      "|{\"created_at\":\"Mo...|\"id\":483731705984...|\"id_str\":\"4837317...|\"text\":\"ThingsTha...|\n",
      "|{\"created_at\":\"Mo...|\"id\":483731705959...|\"id_str\":\"4837317...|\"text\":\"Oah endli...|\n",
      "|{\"created_at\":\"Mo...|\"id\":483731705967...|\"id_str\":\"4837317...|       \"text\":\"ptdr\"|\n",
      "|{\"created_at\":\"Mo...|\"id\":483731705975...|\"id_str\":\"4837317...|\"text\":\"@LLcurly ...|\n",
      "|{\"created_at\":\"Mo...|\"id\":483731705984...|\"id_str\":\"4837317...|\"text\":\"and Germa...|\n",
      "|{\"created_at\":\"Mo...|\"id\":483731705958...|\"id_str\":\"4837317...|\"text\":\"\\u00a1GRA...|\n",
      "|{\"created_at\":\"Mo...|\"id\":483731705984...|\"id_str\":\"4837317...|\"text\":\"RT @dw_ar...|\n",
      "|{\"created_at\":\"Mo...|\"id\":483731705975...|\"id_str\":\"4837317...|\"text\":\"Ac\\u0131y...|\n",
      "|{\"created_at\":\"Mo...|\"id\":483731705967...|\"id_str\":\"4837317...|\"text\":\"Making pe...|\n",
      "|{\"created_at\":\"Mo...|\"id\":483731705988...|\"id_str\":\"4837317...|\"text\":\"RT @ActuF...|\n",
      "+--------------------+--------------------+--------------------+--------------------+\n",
      "only showing top 20 rows\n",
      "\n",
      "None\n"
     ]
    }
   ],
   "source": [
    "print(df.show())"
   ]
  },
  {
   "cell_type": "code",
   "execution_count": 5,
   "metadata": {},
   "outputs": [
    {
     "name": "stdout",
     "output_type": "stream",
     "text": [
      "+----------------------------------------------+-----------------------------+-----------------------------+---------------------------------------------------------------------------------------------------------------------------------------------------------------------------------------------------------------------------------------------------------------------------------------------------------------------------------------------------+\n",
      "|_c0                                           |_c1                          |_c2                          |_c3                                                                                                                                                                                                                                                                                                                                                |\n",
      "+----------------------------------------------+-----------------------------+-----------------------------+---------------------------------------------------------------------------------------------------------------------------------------------------------------------------------------------------------------------------------------------------------------------------------------------------------------------------------------------------+\n",
      "|{\"delete\":{\"status\":{\"id\":226448283541852162  |\"id_str\":\"226448283541852162\"|\"user_id\":333210228          |\"user_id_str\":\"333210228\"}}}\"                                                                                                                                                                                                                                                                                                                      |\n",
      "|{\"delete\":{\"status\":{\"id\":226117059371749376  |\"id_str\":\"226117059371749376\"|\"user_id\":333210228          |\"user_id_str\":\"333210228\"}}}\"                                                                                                                                                                                                                                                                                                                      |\n",
      "|{\"created_at\":\"Mon Jun 30 21:59:59 +0000 2014\"|\"id\":483731701777305601      |\"id_str\":\"483731701777305601\"|\"text\":\"RT @Joey7Barton: Surely its Klose to that time... #WCgoalmachine\"                                                                                                                                                                                                                                                                          |\n",
      "|{\"delete\":{\"status\":{\"id\":141515556930076672  |\"id_str\":\"141515556930076672\"|\"user_id\":97782137           |\"user_id_str\":\"97782137\"}}}\"                                                                                                                                                                                                                                                                                                                       |\n",
      "|{\"created_at\":\"Mon Jun 30 22:00:00 +0000 2014\"|\"id\":483731705954828288      |\"id_str\":\"483731705954828288\"|\"text\":\"Pcq si j'y vais le soir je vais connaitre personne casiment\"                                                                                                                                                                                                                                                                               |\n",
      "|{\"created_at\":\"Mon Jun 30 22:00:00 +0000 2014\"|\"id\":483731705967443968      |\"id_str\":\"483731705967443968\"|\"text\":\"El f\\u00fatbol sigue cumpliendo sus m\\u00e1ximas.\\n\\nY Muller                                                                                                                                                                                                                                                                              |\n",
      "|{\"created_at\":\"Mon Jun 30 22:00:00 +0000 2014\"|\"id\":483731705984208896      |\"id_str\":\"483731705984208896\"|\"text\":\"Sabia que este partido era cuesti\\u00f3n de barbas\"                                                                                                                                                                                                                                                                                        |\n",
      "|{\"created_at\":\"Mon Jun 30 22:00:00 +0000 2014\"|\"id\":483731705984196610      |\"id_str\":\"483731705984196610\"|\"text\":\"\\u00f6fff s\\u0131k\\u0131nt\\u0131dan uyu\\u00e7am hadi eyv\"                                                                                                                                                                                                                                                                                  |\n",
      "|{\"created_at\":\"Mon Jun 30 22:00:00 +0000 2014\"|\"id\":483731705984212993      |\"id_str\":\"483731705984212993\"|\"text\":\"J'voulais que \\u00e7a aille au penalty :\\/\\/\"                                                                                                                                                                                                                                                                                              |\n",
      "|{\"created_at\":\"Mon Jun 30 22:00:00 +0000 2014\"|\"id\":483731705954856960      |\"id_str\":\"483731705954856960\"|\"text\":\"Not feelin' it anymore                                                                                                                                                                                                                                                                                                                     |\n",
      "|{\"created_at\":\"Mon Jun 30 22:00:00 +0000 2014\"|\"id\":483731705984217088      |\"id_str\":\"483731705984217088\"|\"text\":\"ThingsThatUse2beCool\\nThingsThatUse2beCool calling people instead of texting...\"                                                                                                                                                                                                                                                           |\n",
      "|{\"created_at\":\"Mon Jun 30 22:00:00 +0000 2014\"|\"id\":483731705959022592      |\"id_str\":\"483731705959022592\"|\"text\":\"Oah endlich \\ud83c\\udde9\\ud83c\\uddea\"                                                                                                                                                                                                                                                                                                      |\n",
      "|{\"created_at\":\"Mon Jun 30 22:00:00 +0000 2014\"|\"id\":483731705967443969      |\"id_str\":\"483731705967443969\"|\"text\":\"ptdr\"                                                                                                                                                                                                                                                                                                                                      |\n",
      "|{\"created_at\":\"Mon Jun 30 22:00:00 +0000 2014\"|\"id\":483731705975816192      |\"id_str\":\"483731705975816192\"|\"text\":\"@LLcurly Die 237. Vorhersage hat endlich gez\\u00fcndet!\"                                                                                                                                                                                                                                                                                   |\n",
      "|{\"created_at\":\"Mon Jun 30 22:00:00 +0000 2014\"|\"id\":483731705984212992      |\"id_str\":\"483731705984212992\"|\"text\":\"and Germany scores\"                                                                                                                                                                                                                                                                                                                        |\n",
      "|{\"created_at\":\"Mon Jun 30 22:00:00 +0000 2014\"|\"id\":483731705958645760      |\"id_str\":\"483731705958645760\"|\"text\":\"\\u00a1GRACIAS SCH\\u00dcRRLE!\"                                                                                                                                                                                                                                                                                                              |\n",
      "|{\"created_at\":\"Mon Jun 30 22:00:00 +0000 2014\"|\"id\":483731705984192512      |\"id_str\":\"483731705984192512\"|\"text\":\"RT @dw_arabic: #\\u0623\\u0644\\u0645\\u0627\\u0646\\u064a\\u0627_\\u0627\\u0644\\u062c\\u0632\\u0627\\u0626\\u0631  \\u0623\\u0646\\u062f\\u0631\\u064a \\u0634\\u0648\\u0631\\u0628\\u0628\\u0644\\u0631 \\u064a\\u0633\\u062c\\u0644 \\u0627\\u0644\\u0647\\u062f\\u0641 \\u0627\\u0644\\u0623\\u0648\\u0644 \\u0644\\u0623\\u0644\\u0645\\u0627\\u0646\\u064a\\u0627 \\n#GER 1 - #ALG 0\"|\n",
      "|{\"created_at\":\"Mon Jun 30 22:00:00 +0000 2014\"|\"id\":483731705975820289      |\"id_str\":\"483731705975820289\"|\"text\":\"Ac\\u0131y\\u0131 sevmek olur mu ?? https:\\/\\/t.co\\/OvFXlk2DoF\"                                                                                                                                                                                                                                                                              |\n",
      "|{\"created_at\":\"Mon Jun 30 22:00:00 +0000 2014\"|\"id\":483731705967423489      |\"id_str\":\"483731705967423489\"|\"text\":\"Making peanut butter cake \\ud83d\\ude0d\"                                                                                                                                                                                                                                                                                                    |\n",
      "|{\"created_at\":\"Mon Jun 30 22:00:00 +0000 2014\"|\"id\":483731705988407296      |\"id_str\":\"483731705988407296\"|\"text\":\"RT @ActuFoot_: C'est parti pour les prolongations ! #GER #ALG\"                                                                                                                                                                                                                                                                             |\n",
      "+----------------------------------------------+-----------------------------+-----------------------------+---------------------------------------------------------------------------------------------------------------------------------------------------------------------------------------------------------------------------------------------------------------------------------------------------------------------------------------------------+\n",
      "only showing top 20 rows\n",
      "\n"
     ]
    }
   ],
   "source": [
    "df.show(n=20, truncate=False)"
   ]
  },
  {
   "cell_type": "code",
   "execution_count": 6,
   "metadata": {},
   "outputs": [
    {
     "name": "stdout",
     "output_type": "stream",
     "text": [
      "root\n",
      " |-- _c0: string (nullable = true)\n",
      " |-- _c1: string (nullable = true)\n",
      " |-- _c2: string (nullable = true)\n",
      " |-- _c3: string (nullable = true)\n",
      "\n"
     ]
    },
    {
     "data": {
      "text/plain": [
       "[Row(_c0='{\"delete\":{\"status\":{\"id\":226448283541852162', _c1='\"id_str\":\"226448283541852162\"', _c2='\"user_id\":333210228', _c3='\"user_id_str\":\"333210228\"}}}\"'),\n",
       " Row(_c0='{\"delete\":{\"status\":{\"id\":226117059371749376', _c1='\"id_str\":\"226117059371749376\"', _c2='\"user_id\":333210228', _c3='\"user_id_str\":\"333210228\"}}}\"'),\n",
       " Row(_c0='{\"created_at\":\"Mon Jun 30 21:59:59 +0000 2014\"', _c1='\"id\":483731701777305601', _c2='\"id_str\":\"483731701777305601\"', _c3='\"text\":\"RT @Joey7Barton: Surely its Klose to that time... #WCgoalmachine\"'),\n",
       " Row(_c0='{\"delete\":{\"status\":{\"id\":141515556930076672', _c1='\"id_str\":\"141515556930076672\"', _c2='\"user_id\":97782137', _c3='\"user_id_str\":\"97782137\"}}}\"'),\n",
       " Row(_c0='{\"created_at\":\"Mon Jun 30 22:00:00 +0000 2014\"', _c1='\"id\":483731705954828288', _c2='\"id_str\":\"483731705954828288\"', _c3='\"text\":\"Pcq si j\\'y vais le soir je vais connaitre personne casiment\"')]"
      ]
     },
     "execution_count": 6,
     "metadata": {},
     "output_type": "execute_result"
    }
   ],
   "source": [
    "df.printSchema()\n",
    "\n",
    "mylist = df.head(5) \n",
    "mylist\n",
    "\n"
   ]
  },
  {
   "cell_type": "code",
   "execution_count": 7,
   "metadata": {},
   "outputs": [
    {
     "name": "stdout",
     "output_type": "stream",
     "text": [
      "total num= 5593592\n"
     ]
    }
   ],
   "source": [
    "int_num = df.count()\n",
    "print('total num=', int_num)"
   ]
  },
  {
   "cell_type": "code",
   "execution_count": null,
   "metadata": {},
   "outputs": [],
   "source": []
  },
  {
   "cell_type": "code",
   "execution_count": null,
   "metadata": {},
   "outputs": [],
   "source": []
  }
 ],
 "metadata": {
  "kernelspec": {
   "display_name": "PySpark",
   "language": "python",
   "name": "pyspark"
  },
  "language_info": {
   "codemirror_mode": {
    "name": "ipython",
    "version": 3
   },
   "file_extension": ".py",
   "mimetype": "text/x-python",
   "name": "python",
   "nbconvert_exporter": "python",
   "pygments_lexer": "ipython3",
   "version": "3.7.4"
  }
 },
 "nbformat": 4,
 "nbformat_minor": 2
}
