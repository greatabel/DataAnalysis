{
 "cells": [
  {
   "cell_type": "markdown",
   "metadata": {},
   "source": [
    "# Setup"
   ]
  },
  {
   "cell_type": "code",
   "execution_count": 4,
   "metadata": {},
   "outputs": [
    {
     "name": "stdout",
     "output_type": "stream",
     "text": [
      "Loading tweets from data/test_format1.csv\n"
     ]
    }
   ],
   "source": [
    "# # Init pyspark\n",
    "# from pyspark import SparkContext\n",
    "# sc = SparkContext.getOrCreate()\n",
    "# # Init sparksql -- Only used to format the output nicely!\n",
    "import findspark\n",
    "findspark.init()\n",
    "\n",
    "from pyspark import SparkContext, SparkConf\n",
    "from pyspark.sql import HiveContext, Row\n",
    "from pyspark.sql.types import IntegerType\n",
    "import json\n",
    "import sys\n",
    "\n",
    "\n",
    "\n",
    "inputFile = 'data/test_format1.csv'\n",
    "\n",
    "conf = SparkConf().setAppName(\"SparkSQLAirTransit\")\n",
    "SparkConf().set(\"spark.sql.legacy.timeParserPolicy\",\"LEGACY\")\n",
    "\n",
    "sc = SparkContext.getOrCreate(conf=conf)\n",
    "hiveCtx = HiveContext(sc)\n",
    "print(\"Loading tweets from \" + inputFile)\n"
   ]
  },
  {
   "cell_type": "code",
   "execution_count": 5,
   "metadata": {},
   "outputs": [
    {
     "name": "stdout",
     "output_type": "stream",
     "text": [
      "root\n",
      " |-- user_id: integer (nullable = true)\n",
      " |-- merchant_id: integer (nullable = true)\n",
      " |-- prob: string (nullable = true)\n",
      "\n"
     ]
    }
   ],
   "source": [
    "input = hiveCtx.read.option(\"header\",True).csv(inputFile,inferSchema =True)\n",
    "input.printSchema()\n",
    "\n"
   ]
  },
  {
   "cell_type": "code",
   "execution_count": 6,
   "metadata": {},
   "outputs": [],
   "source": [
    "# Sample Query"
   ]
  },
  {
   "cell_type": "code",
   "execution_count": 7,
   "metadata": {
    "scrolled": false
   },
   "outputs": [
    {
     "name": "stdout",
     "output_type": "stream",
     "text": [
      "myair_transits:\n",
      "Row(user_id=163968, merchant_id=4605, prob=None) \n",
      "\n",
      "Row(user_id=360576, merchant_id=1581, prob=None) \n",
      "\n",
      "Row(user_id=98688, merchant_id=1964, prob=None) \n",
      "\n"
     ]
    }
   ],
   "source": [
    "\n",
    "input.registerTempTable(\"air_transit\")\n",
    "\n",
    "\n",
    "myair_transits = hiveCtx.sql(\"SELECT * FROM air_transit  LIMIT 3\")\n",
    "print('myair_transits:' )\n",
    "for item in myair_transits.collect():\n",
    "    print(item, '\\n')"
   ]
  },
  {
   "cell_type": "markdown",
   "metadata": {},
   "source": [
    "## Q1\n",
    "Compute the total number of records."
   ]
  },
  {
   "cell_type": "code",
   "execution_count": 15,
   "metadata": {
    "scrolled": false
   },
   "outputs": [
    {
     "name": "stderr",
     "output_type": "stream",
     "text": [
      "[Stage 22:======================================>                   (4 + 2) / 6]\r"
     ]
    },
    {
     "name": "stdout",
     "output_type": "stream",
     "text": [
      "total number of user_id-merchant. 7027943\n"
     ]
    },
    {
     "name": "stderr",
     "output_type": "stream",
     "text": [
      "\r",
      "[Stage 22:================================================>         (5 + 1) / 6]\r",
      "\r",
      "                                                                                \r"
     ]
    }
   ],
   "source": [
    "# Response...\n",
    "df = input\n",
    "\n",
    "# mycount = hiveCtx.sql(\"SELECT count(*) as mycount FROM air_transit\")\n",
    "# print('mycount=', mycount.collect()[0]['mycount'] )\n",
    "\n",
    "print('total number of user_id-merchant.',df.count() )"
   ]
  },
  {
   "cell_type": "code",
   "execution_count": 10,
   "metadata": {},
   "outputs": [
    {
     "name": "stdout",
     "output_type": "stream",
     "text": [
      "Q2 group user_id and count:\n"
     ]
    },
    {
     "name": "stderr",
     "output_type": "stream",
     "text": [
      "                                                                                \r"
     ]
    },
    {
     "name": "stdout",
     "output_type": "stream",
     "text": [
      "265990 25\n",
      "246371 13\n",
      "216131 12\n",
      "262623 11\n",
      "50682 11\n",
      "11501 11\n",
      "72099 11\n",
      "147143 11\n",
      "55305 10\n",
      "351748 10\n"
     ]
    }
   ],
   "source": [
    "## Q2\n",
    "\n",
    "\n",
    "\n",
    "# mymonth = hiveCtx.sql(\"select Month, count(*) as flight_number from air_transit group by Month order by Month LIMIT 100\")\n",
    "# print('total number of operated flights per month:')  \n",
    "# for item in mymonth.collect():\n",
    "#     print(item['Month'], 'month', item['flight_number'])\n",
    "    \n",
    "from pyspark.sql.functions import col\n",
    "\n",
    "print('Q2 group user_id and count:')\n",
    "\n",
    "df1 = df.groupBy(\"user_id\").count().sort('count',ascending=False) \n",
    "for item in df1.rdd.collect()[:10]:\n",
    "    print(item['user_id'], item['count'])\n",
    "\n"
   ]
  },
  {
   "cell_type": "code",
   "execution_count": 12,
   "metadata": {},
   "outputs": [
    {
     "name": "stderr",
     "output_type": "stream",
     "text": [
      "[Stage 18:================================================>         (5 + 1) / 6]\r"
     ]
    },
    {
     "name": "stdout",
     "output_type": "stream",
     "text": [
      "root\n",
      " |-- user_id: integer (nullable = true)\n",
      " |-- age_range: integer (nullable = true)\n",
      " |-- gender: integer (nullable = true)\n",
      " |-- merchant_id: integer (nullable = true)\n",
      " |-- label: integer (nullable = true)\n",
      " |-- activity_log: string (nullable = true)\n",
      "\n"
     ]
    },
    {
     "name": "stderr",
     "output_type": "stream",
     "text": [
      "\r",
      "                                                                                \r"
     ]
    }
   ],
   "source": [
    "inputFile = 'data/big/test_format2.csv'\n",
    "input = hiveCtx.read.option(\"header\",True).csv(inputFile,inferSchema =True)\n",
    "input.printSchema()\n"
   ]
  },
  {
   "cell_type": "code",
   "execution_count": 16,
   "metadata": {},
   "outputs": [
    {
     "name": "stderr",
     "output_type": "stream",
     "text": [
      "[Stage 24:======================================>                   (4 + 2) / 6]\r"
     ]
    },
    {
     "name": "stdout",
     "output_type": "stream",
     "text": [
      "total number of activity_log  7027943\n"
     ]
    },
    {
     "name": "stderr",
     "output_type": "stream",
     "text": [
      "\r",
      "                                                                                \r"
     ]
    }
   ],
   "source": [
    "# Response...\n",
    "df = input\n",
    "\n",
    "# mycount = hiveCtx.sql(\"SELECT count(*) as mycount FROM air_transit\")\n",
    "# print('mycount=', mycount.collect()[0]['mycount'] )\n",
    "\n",
    "print('total number of activity_log ',df.count() )"
   ]
  },
  {
   "cell_type": "code",
   "execution_count": 13,
   "metadata": {},
   "outputs": [
    {
     "name": "stdout",
     "output_type": "stream",
     "text": [
      "myair_transits:\n",
      "Row(user_id=163968, age_range=0, gender=0, merchant_id=4378, label=-1, activity_log='101206:812:6968:0614:0') \n",
      "\n",
      "Row(user_id=163968, age_range=0, gender=0, merchant_id=2300, label=-1, activity_log='588758:844:3833:0618:0#71782:844:3833:1111:2#71782:844:3833:1111:0#71782:844:3833:1111:0#71782:844:3833:1102:0#702201:844:3833:1102:0#71782:844:3833:1102:0#1009809:844:3833:1102:0#71782:844:3833:1110:0#71782:844:3833:1110:0#588758:844:3833:0618:2') \n",
      "\n",
      "Row(user_id=163968, age_range=0, gender=0, merchant_id=1551, label=-1, activity_log='312747:243:1954:0627:0#312747:243:1954:0627:0#312747:243:1954:0627:0#312747:243:1954:0627:2#312747:243:1954:0627:0') \n",
      "\n"
     ]
    }
   ],
   "source": [
    "input.registerTempTable(\"air_transit\")\n",
    "\n",
    "\n",
    "myair_transits = hiveCtx.sql(\"SELECT * FROM air_transit  LIMIT 3\")\n",
    "print('myair_transits:' )\n",
    "for item in myair_transits.collect():\n",
    "    print(item, '\\n')"
   ]
  },
  {
   "cell_type": "code",
   "execution_count": 14,
   "metadata": {},
   "outputs": [
    {
     "name": "stderr",
     "output_type": "stream",
     "text": [
      "[Stage 20:================================================>         (5 + 1) / 6]\r"
     ]
    },
    {
     "name": "stdout",
     "output_type": "stream",
     "text": [
      "None age_range 19420\n",
      "0 age_range 1345565\n",
      "1 age_range 260\n",
      "2 age_range 733323\n",
      "3 age_range 1916611\n",
      "4 age_range 1460542\n",
      "5 age_range 752608\n",
      "6 age_range 650358\n",
      "7 age_range 128644\n",
      "8 age_range 20612\n"
     ]
    },
    {
     "name": "stderr",
     "output_type": "stream",
     "text": [
      "\r",
      "                                                                                \r"
     ]
    }
   ],
   "source": [
    "mymonth = hiveCtx.sql(\"select age_range, count(*) as mycount from air_transit group by age_range order by age_range LIMIT 100\")\n",
    " \n",
    "for item in mymonth.collect():\n",
    "    print(item['age_range'], 'age_range', item['mycount'])\n",
    "    "
   ]
  },
  {
   "cell_type": "code",
   "execution_count": 17,
   "metadata": {},
   "outputs": [
    {
     "name": "stderr",
     "output_type": "stream",
     "text": [
      "[Stage 26:================================================>         (5 + 1) / 6]\r"
     ]
    },
    {
     "name": "stdout",
     "output_type": "stream",
     "text": [
      "None gender 63250\n",
      "0 gender 5062667\n",
      "1 gender 1643382\n",
      "2 gender 258644\n"
     ]
    },
    {
     "name": "stderr",
     "output_type": "stream",
     "text": [
      "\r",
      "                                                                                \r"
     ]
    }
   ],
   "source": [
    "# Find the plane with the highest number of flights. Each plane has a unique TailNum\n",
    "mymonth = hiveCtx.sql(\"select gender, count(*) as mycount from air_transit group by gender order by gender LIMIT 100\")\n",
    " \n",
    "for item in mymonth.collect():\n",
    "    print(item['gender'], 'gender', item['mycount'])\n",
    "    "
   ]
  },
  {
   "cell_type": "code",
   "execution_count": 18,
   "metadata": {},
   "outputs": [
    {
     "name": "stdout",
     "output_type": "stream",
     "text": [
      "label 1 is 重复买家  ，label 0 是非重复买家\n"
     ]
    },
    {
     "name": "stderr",
     "output_type": "stream",
     "text": [
      "[Stage 28:================================================>         (5 + 1) / 6]\r"
     ]
    },
    {
     "name": "stdout",
     "output_type": "stream",
     "text": [
      "None label 261477\n",
      "-1 label 6766466\n"
     ]
    },
    {
     "name": "stderr",
     "output_type": "stream",
     "text": [
      "\r",
      "                                                                                \r"
     ]
    }
   ],
   "source": [
    "mymonth = hiveCtx.sql(\"select label, count(*) as mycount from air_transit group by label order by label LIMIT 100\")\n",
    "print('label 1 is 重复买家  ，label 0 是非重复买家')\n",
    "for item in mymonth.collect():\n",
    "    print(item['label'], 'label', item['mycount'])\n",
    "    "
   ]
  },
  {
   "cell_type": "code",
   "execution_count": 19,
   "metadata": {},
   "outputs": [
    {
     "name": "stdout",
     "output_type": "stream",
     "text": [
      "part 3\n"
     ]
    },
    {
     "name": "stderr",
     "output_type": "stream",
     "text": [
      "[Stage 31:====================================================>   (14 + 1) / 15]\r"
     ]
    },
    {
     "name": "stdout",
     "output_type": "stream",
     "text": [
      "root\n",
      " |-- user_id: integer (nullable = true)\n",
      " |-- item_id: integer (nullable = true)\n",
      " |-- cat_id: integer (nullable = true)\n",
      " |-- seller_id: integer (nullable = true)\n",
      " |-- brand_id: integer (nullable = true)\n",
      " |-- time_stamp: integer (nullable = true)\n",
      " |-- action_type: integer (nullable = true)\n",
      "\n"
     ]
    },
    {
     "name": "stderr",
     "output_type": "stream",
     "text": [
      "\r",
      "                                                                                \r"
     ]
    }
   ],
   "source": [
    "print('part 3')\n",
    "inputFile = 'data/big/user_log_format1.csv'\n",
    "input = hiveCtx.read.option(\"header\",True).csv(inputFile,inferSchema =True)\n",
    "input.printSchema()"
   ]
  },
  {
   "cell_type": "code",
   "execution_count": 20,
   "metadata": {},
   "outputs": [
    {
     "name": "stderr",
     "output_type": "stream",
     "text": [
      "[Stage 32:============================================>           (12 + 2) / 15]\r"
     ]
    },
    {
     "name": "stdout",
     "output_type": "stream",
     "text": [
      "total number of activity_log  54925330\n"
     ]
    },
    {
     "name": "stderr",
     "output_type": "stream",
     "text": [
      "\r",
      "[Stage 32:====================================================>   (14 + 1) / 15]\r",
      "\r",
      "                                                                                \r"
     ]
    }
   ],
   "source": [
    "# Response...\n",
    "df = input\n",
    "\n",
    "# mycount = hiveCtx.sql(\"SELECT count(*) as mycount FROM air_transit\")\n",
    "# print('mycount=', mycount.collect()[0]['mycount'] )\n",
    "\n",
    "print('total number of activity_log ',df.count() )"
   ]
  },
  {
   "cell_type": "code",
   "execution_count": 21,
   "metadata": {},
   "outputs": [
    {
     "name": "stdout",
     "output_type": "stream",
     "text": [
      "myair_transits:\n",
      "Row(user_id=328862, item_id=323294, cat_id=833, seller_id=2882, brand_id=2661, time_stamp=829, action_type=0) \n",
      "\n",
      "Row(user_id=328862, item_id=844400, cat_id=1271, seller_id=2882, brand_id=2661, time_stamp=829, action_type=0) \n",
      "\n",
      "Row(user_id=328862, item_id=575153, cat_id=1271, seller_id=2882, brand_id=2661, time_stamp=829, action_type=0) \n",
      "\n"
     ]
    }
   ],
   "source": [
    "input.registerTempTable(\"air_transit\")\n",
    "\n",
    "\n",
    "myair_transits = hiveCtx.sql(\"SELECT * FROM air_transit  LIMIT 3\")\n",
    "print('myair_transits:' )\n",
    "for item in myair_transits.collect():\n",
    "    print(item, '\\n')"
   ]
  },
  {
   "cell_type": "code",
   "execution_count": 24,
   "metadata": {},
   "outputs": [
    {
     "name": "stderr",
     "output_type": "stream",
     "text": [
      "[Stage 39:====================================================>   (14 + 1) / 15]\r"
     ]
    },
    {
     "name": "stdout",
     "output_type": "stream",
     "text": [
      "3738 brand_id 763345\n",
      "1360 brand_id 737545\n",
      "1446 brand_id 729555\n",
      "1214 brand_id 541075\n",
      "5376 brand_id 528003\n",
      "82 brand_id 503911\n",
      "2276 brand_id 491738\n",
      "8235 brand_id 400024\n",
      "4705 brand_id 363417\n",
      "1662 brand_id 332633\n"
     ]
    },
    {
     "name": "stderr",
     "output_type": "stream",
     "text": [
      "\r",
      "[Stage 40:=================================================>    (182 + 4) / 200]\r",
      "\r",
      "                                                                                \r"
     ]
    }
   ],
   "source": [
    "mymonth = hiveCtx.sql(\"select brand_id, count(*) as mycount from air_transit group by brand_id order by mycount desc LIMIT 10\")\n",
    " \n",
    "for item in mymonth.collect():\n",
    "    print(item['brand_id'], 'brand_id', item['mycount'])\n",
    "    "
   ]
  },
  {
   "cell_type": "code",
   "execution_count": 25,
   "metadata": {},
   "outputs": [
    {
     "name": "stderr",
     "output_type": "stream",
     "text": [
      "[Stage 41:====================================================>   (14 + 1) / 15]\r"
     ]
    },
    {
     "name": "stdout",
     "output_type": "stream",
     "text": [
      "0 action_type 48550713\n",
      "2 action_type 3292144\n",
      "3 action_type 3005723\n",
      "1 action_type 76750\n"
     ]
    },
    {
     "name": "stderr",
     "output_type": "stream",
     "text": [
      "\r",
      "                                                                                \r"
     ]
    }
   ],
   "source": [
    "mymonth = hiveCtx.sql(\"select action_type, count(*) as mycount from air_transit group by action_type order by mycount desc LIMIT 10\")\n",
    " \n",
    "for item in mymonth.collect():\n",
    "    print(item['action_type'], 'action_type', item['mycount'])\n",
    "    "
   ]
  },
  {
   "cell_type": "code",
   "execution_count": null,
   "metadata": {},
   "outputs": [],
   "source": []
  }
 ],
 "metadata": {
  "kernelspec": {
   "display_name": "Python 3 (ipykernel)",
   "language": "python",
   "name": "python3"
  },
  "language_info": {
   "codemirror_mode": {
    "name": "ipython",
    "version": 3
   },
   "file_extension": ".py",
   "mimetype": "text/x-python",
   "name": "python",
   "nbconvert_exporter": "python",
   "pygments_lexer": "ipython3",
   "version": "3.8.11"
  }
 },
 "nbformat": 4,
 "nbformat_minor": 2
}
