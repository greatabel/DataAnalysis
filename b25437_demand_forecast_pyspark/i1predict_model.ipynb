{
 "cells": [
  {
   "cell_type": "code",
   "execution_count": 18,
   "id": "3764103f",
   "metadata": {},
   "outputs": [],
   "source": [
    "from pyspark.sql import SparkSession\n",
    "\n",
    "from pyspark.sql.functions import *\n",
    "from pyspark.ml.feature import VectorAssembler\n",
    "from pyspark.ml.regression import LinearRegression\n",
    "\n",
    "from pyspark.ml.regression import RandomForestRegressor\n",
    "from pyspark.ml.evaluation import RegressionEvaluator\n",
    "\n",
    "from pyspark.ml.regression import GBTRegressor\n",
    "from pyspark.ml.evaluation import RegressionEvaluator\n"
   ]
  },
  {
   "cell_type": "code",
   "execution_count": 19,
   "id": "b592141f",
   "metadata": {},
   "outputs": [],
   "source": [
    "# 创建SparkSession\n",
    "spark = SparkSession.builder.appName('Demand Prediction').getOrCreate()\n",
    "\n",
    "from pyspark.sql.functions import col"
   ]
  },
  {
   "cell_type": "code",
   "execution_count": 20,
   "id": "169b2fb9",
   "metadata": {},
   "outputs": [],
   "source": [
    "# 导入数据\n",
    "data = spark.read.format(\"csv\").option(\"header\", \"true\").load(\"data/data_sample.csv\")"
   ]
  },
  {
   "cell_type": "code",
   "execution_count": 21,
   "id": "40a1183d",
   "metadata": {},
   "outputs": [],
   "source": [
    "# Convert the 'demand' column to a numeric type\n",
    "data = data.withColumn(\"demand\", col(\"demand\").cast(\"double\"))\n",
    "# 数据清洗和准备\n",
    "data = data.dropna()\n",
    "data = data.withColumn(\"timestamp\", to_timestamp(col(\"timestamp\"), \"yyyy-MM-dd HH:mm:ss\"))\n",
    "data = data.withColumn(\"year\", year(col(\"timestamp\")))\n",
    "data = data.withColumn(\"month\", month(col(\"timestamp\")))\n",
    "data = data.withColumn(\"day\", dayofmonth(col(\"timestamp\")))"
   ]
  },
  {
   "cell_type": "code",
   "execution_count": 22,
   "id": "e5c139d2",
   "metadata": {},
   "outputs": [],
   "source": [
    "# 特征工程\n",
    "assembler = VectorAssembler(inputCols=[\"year\", \"month\", \"day\"], outputCol=\"features\")\n",
    "data = assembler.transform(data)\n",
    "\n",
    "# 划分训练和测试数据集\n",
    "(train_data, test_data) = data.randomSplit([0.7, 0.3], seed=100)"
   ]
  },
  {
   "cell_type": "code",
   "execution_count": 23,
   "id": "1ace929c",
   "metadata": {},
   "outputs": [
    {
     "name": "stdout",
     "output_type": "stream",
     "text": [
      "23/03/03 01:33:32 WARN Instrumentation: [c3fa84db] regParam is zero, which might cause numerical instability and overfitting.\n",
      "23/03/03 01:33:32 WARN Instrumentation: [c3fa84db] Cholesky solver failed due to singular covariance matrix. Retrying with Quasi-Newton solver.\n",
      "+----+-----+---+------+------------------+\n",
      "|year|month|day|demand|        prediction|\n",
      "+----+-----+---+------+------------------+\n",
      "|2022|    1|  1| 200.0|1045.4444444444441|\n",
      "|2022|    1|  1| 340.0|1045.4444444444441|\n",
      "|2022|    1|  1| 360.0|1045.4444444444441|\n",
      "|2022|    1|  1|4203.0|1045.4444444444441|\n",
      "|2022|    1|  1|4603.0|1045.4444444444441|\n",
      "|2022|    1|  1|1140.0|1045.4444444444441|\n",
      "|2022|    1|  2|5360.0|1812.9259259259265|\n",
      "|2022|    1|  2|3660.0|1812.9259259259265|\n",
      "|2022|    1|  3|3160.0|2580.4074074074088|\n",
      "+----+-----+---+------+------------------+\n",
      "\n"
     ]
    }
   ],
   "source": [
    "# 定义线性回归模型\n",
    "lr = LinearRegression(featuresCol=\"features\", labelCol=\"demand\")\n",
    "\n",
    "# 训练模型\n",
    "lr_model = lr.fit(train_data)\n",
    "\n",
    "# 预测未来需求\n",
    "predictions = lr_model.transform(test_data)\n",
    "\n",
    "# 展示预测结果\n",
    "predictions.select(\"year\", \"month\", \"day\", \"demand\", \"prediction\").show()\n",
    "\n"
   ]
  },
  {
   "cell_type": "code",
   "execution_count": 24,
   "id": "1b8e559a",
   "metadata": {},
   "outputs": [
    {
     "name": "stdout",
     "output_type": "stream",
     "text": [
      "23/03/03 01:33:33 WARN DecisionTreeMetadata: DecisionTree reducing maxBins from 32 to 23 (= number of training instances)\n",
      "+----+-----+---+------+------------------+\n",
      "|year|month|day|demand|        prediction|\n",
      "+----+-----+---+------+------------------+\n",
      "|2022|    1|  1| 200.0|1157.0796144135725|\n",
      "|2022|    1|  1| 340.0|1157.0796144135725|\n",
      "|2022|    1|  1| 360.0|1157.0796144135725|\n",
      "|2022|    1|  1|4203.0|1157.0796144135725|\n",
      "|2022|    1|  1|4603.0|1157.0796144135725|\n",
      "|2022|    1|  1|1140.0|1157.0796144135725|\n",
      "|2022|    1|  2|5360.0| 1224.956237790196|\n",
      "|2022|    1|  2|3660.0| 1224.956237790196|\n",
      "|2022|    1|  3|3160.0| 2251.109159868118|\n",
      "+----+-----+---+------+------------------+\n",
      "\n",
      "Mean Squared Error (MSE) on test data = 5.24726e+06\n"
     ]
    }
   ],
   "source": [
    "# 创建随机森林回归模型\n",
    "rf = RandomForestRegressor(featuresCol=\"features\", labelCol=\"demand\", numTrees=10)\n",
    "\n",
    "# 训练模型\n",
    "rf_model = rf.fit(train_data)\n",
    "\n",
    "# 预测未来需求\n",
    "predictions = rf_model.transform(test_data)\n",
    "\n",
    "# 计算模型的评估指标（均方误差）\n",
    "evaluator = RegressionEvaluator(labelCol=\"demand\", predictionCol=\"prediction\", metricName=\"mse\")\n",
    "mse = evaluator.evaluate(predictions)\n",
    "\n",
    "# 展示预测结果\n",
    "predictions.select(\"year\", \"month\", \"day\", \"demand\", \"prediction\").show()\n",
    "\n",
    "# 输出均方误差\n",
    "print(\"Mean Squared Error (MSE) on test data = %g\" % mse)\n"
   ]
  },
  {
   "cell_type": "code",
   "execution_count": 25,
   "id": "05ea3358",
   "metadata": {},
   "outputs": [
    {
     "name": "stdout",
     "output_type": "stream",
     "text": [
      "23/03/03 01:33:33 WARN DecisionTreeMetadata: DecisionTree reducing maxBins from 32 to 23 (= number of training instances)\n",
      "+----+-----+---+------+-----------------+\n",
      "|year|month|day|demand|       prediction|\n",
      "+----+-----+---+------+-----------------+\n",
      "|2022|    1|  1| 200.0|1223.214285714285|\n",
      "|2022|    1|  1| 340.0|1223.214285714285|\n",
      "|2022|    1|  1| 360.0|1223.214285714285|\n",
      "|2022|    1|  1|4203.0|1223.214285714285|\n",
      "|2022|    1|  1|4603.0|1223.214285714285|\n",
      "|2022|    1|  1|1140.0|1223.214285714285|\n",
      "|2022|    1|  2|5360.0|983.3333333333334|\n",
      "|2022|    1|  2|3660.0|983.3333333333334|\n",
      "|2022|    1|  3|3160.0|           3410.0|\n",
      "+----+-----+---+------+-----------------+\n",
      "\n",
      " 3 Mean Squared Error (MSE) on test data = 5.47371e+06\n"
     ]
    }
   ],
   "source": [
    "# 创建梯度提升树回归模型\n",
    "gbt = GBTRegressor(featuresCol=\"features\", labelCol=\"demand\", maxIter=10)\n",
    "\n",
    "# 训练模型\n",
    "gbt_model = gbt.fit(train_data)\n",
    "\n",
    "# 预测未来需求\n",
    "predictions = gbt_model.transform(test_data)\n",
    "\n",
    "# 计算模型的评估指标（均方误差）\n",
    "evaluator = RegressionEvaluator(labelCol=\"demand\", predictionCol=\"prediction\", metricName=\"mse\")\n",
    "mse = evaluator.evaluate(predictions)\n",
    "\n",
    "# 展示预测结果\n",
    "predictions.select(\"year\", \"month\", \"day\", \"demand\", \"prediction\").show()\n",
    "\n",
    "# 输出均方误差\n",
    "print(\" 3 Mean Squared Error (MSE) on test data = %g\" % mse)"
   ]
  },
  {
   "cell_type": "code",
   "execution_count": 26,
   "id": "ffaf4ec1",
   "metadata": {},
   "outputs": [
    {
     "name": "stdout",
     "output_type": "stream",
     "text": [
      "####################\n"
     ]
    }
   ],
   "source": [
    "print('#'*20)\n",
    "import matplotlib.pyplot as plt\n",
    "\n",
    "# 使用三种不同的模型进行预测\n",
    "lr_predictions = lr_model.transform(test_data)\n",
    "rf_predictions = rf_model.transform(test_data)\n",
    "gbt_predictions = gbt_model.transform(test_data)\n",
    "\n",
    "# 使用均方误差评估每个模型的预测效果\n",
    "lr_evaluator = RegressionEvaluator(labelCol=\"demand\", predictionCol=\"prediction\", metricName=\"mse\")\n",
    "lr_mse = lr_evaluator.evaluate(lr_predictions)\n",
    "rf_evaluator = RegressionEvaluator(labelCol=\"demand\", predictionCol=\"prediction\", metricName=\"mse\")\n",
    "rf_mse = rf_evaluator.evaluate(rf_predictions)\n",
    "gbt_evaluator = RegressionEvaluator(labelCol=\"demand\", predictionCol=\"prediction\", metricName=\"mse\")\n",
    "gbt_mse = gbt_evaluator.evaluate(gbt_predictions)\n",
    "\n"
   ]
  },
  {
   "cell_type": "code",
   "execution_count": 27,
   "id": "2248c844",
   "metadata": {},
   "outputs": [
    {
     "data": {
      "image/png": "[encoded data removed]",
      "text/plain": [
       "<Figure size 640x480 with 1 Axes>"
      ]
     },
     "metadata": {},
     "output_type": "display_data"
    },
    {
     "name": "stdout",
     "output_type": "stream",
     "text": [
      "Linear Regression Mean Squared Error (MSE) on test data = 4.51632e+06\n",
      "Random Forest Mean Squared Error (MSE) on test data = 5.24726e+06\n",
      "Gradient Boosting Tree Mean Squared Error (MSE) on test data = 5.47371e+06\n"
     ]
    }
   ],
   "source": [
    "# 创建一个时间序列的数组\n",
    "time_series = test_data.select(\"timestamp\").rdd.flatMap(lambda x: x).collect()\n",
    "\n",
    "# Create a matplotlib chart and plot the actual demand and predictions from each model\n",
    "fig, ax = plt.subplots()\n",
    "ax.plot(time_series, test_data.select(\"demand\").collect(), label=\"Actual\")\n",
    "ax.plot(time_series, rf_predictions.select(\"prediction\").collect(), label=\"RF Prediction\")\n",
    "ax.plot(time_series, gbt_predictions.select(\"prediction\").collect(), label=\"GBT Prediction\")\n",
    "ax.scatter(time_series, lr_predictions.select(\"prediction\").collect(), label=\"LR Prediction\")\n",
    "ax.set_xlabel(\"Time\")\n",
    "ax.set_ylabel(\"Demand\")\n",
    "ax.set_title(\"Comparison of Demand Prediction Models\")\n",
    "ax.legend()\n",
    "\n",
    "# Show the chart\n",
    "plt.show()\n",
    "\n",
    "\n",
    "# 输出评估结果\n",
    "print(\"Linear Regression Mean Squared Error (MSE) on test data = %g\" % lr_mse)\n",
    "print(\"Random Forest Mean Squared Error (MSE) on test data = %g\" % rf_mse)\n",
    "print(\"Gradient Boosting Tree Mean Squared Error (MSE) on test data = %g\" % gbt_mse)\n"
   ]
  },
  {
   "cell_type": "code",
   "execution_count": null,
   "id": "429f720c",
   "metadata": {},
   "outputs": [],
   "source": []
  },
  {
   "cell_type": "code",
   "execution_count": null,
   "id": "1de459a3",
   "metadata": {},
   "outputs": [],
   "source": []
  }
 ],
 "metadata": {
  "kernelspec": {
   "display_name": "Python 3 (ipykernel)",
   "language": "python",
   "name": "python3"
  },
  "language_info": {
   "codemirror_mode": {
    "name": "ipython",
    "version": 3
   },
   "file_extension": ".py",
   "mimetype": "text/x-python",
   "name": "python",
   "nbconvert_exporter": "python",
   "pygments_lexer": "ipython3",
   "version": "3.9.14"
  }
 },
 "nbformat": 4,
 "nbformat_minor": 5
}
