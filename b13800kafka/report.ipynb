{
 "cells": [
  {
   "cell_type": "code",
   "execution_count": 7,
   "id": "baa49b39",
   "metadata": {},
   "outputs": [],
   "source": [
    "from IPython.display import Image\n",
    "from IPython.core.display import HTML \n",
    "\n"
   ]
  },
  {
   "cell_type": "code",
   "execution_count": 14,
   "id": "221c793e",
   "metadata": {},
   "outputs": [
    {
     "name": "stdout",
     "output_type": "stream",
     "text": [
      "The back end flask make 2type(default and purchase_a_sword) actions:\n"
     ]
    },
    {
     "data": {
      "text/html": [
       "<img src=\"report_resources/i3flask_to_kafka.png\"/>"
      ],
      "text/plain": [
       "<IPython.core.display.Image object>"
      ]
     },
     "execution_count": 14,
     "metadata": {},
     "output_type": "execute_result"
    }
   ],
   "source": [
    "print('The back end flask make 2type(default and purchase_a_sword) actions:')\n",
    "\n",
    "Image(url= \"report_resources/i3flask_to_kafka.png\")\n"
   ]
  },
  {
   "cell_type": "code",
   "execution_count": 15,
   "id": "800e2b01",
   "metadata": {},
   "outputs": [
    {
     "name": "stdout",
     "output_type": "stream",
     "text": [
      "testing the flask api is working as we want.\n"
     ]
    },
    {
     "data": {
      "text/html": [
       "<img src=\"report_resources/i2result.png\"/>"
      ],
      "text/plain": [
       "<IPython.core.display.Image object>"
      ]
     },
     "execution_count": 15,
     "metadata": {},
     "output_type": "execute_result"
    }
   ],
   "source": [
    "print('testing the flask api is working as we want.')\n",
    "\n",
    "Image(url= \"report_resources/i2result.png\")\n"
   ]
  },
  {
   "cell_type": "code",
   "execution_count": 12,
   "id": "1dc24c18",
   "metadata": {},
   "outputs": [
    {
     "name": "stdout",
     "output_type": "stream",
     "text": [
      "The back end flask is serving:\n"
     ]
    },
    {
     "data": {
      "text/html": [
       "<img src=\"report_resources/i2flask_backend.png\"/>"
      ],
      "text/plain": [
       "<IPython.core.display.Image object>"
      ]
     },
     "execution_count": 12,
     "metadata": {},
     "output_type": "execute_result"
    }
   ],
   "source": [
    "print('The back end flask is serving:')\n",
    "\n",
    "Image(url= \"report_resources/i2flask_backend.png\")\n"
   ]
  },
  {
   "cell_type": "code",
   "execution_count": 18,
   "id": "b6402e35",
   "metadata": {},
   "outputs": [
    {
     "name": "stdout",
     "output_type": "stream",
     "text": [
      "before we connecting to pyspark to filter, we need to test kafka can be consumed\n"
     ]
    },
    {
     "data": {
      "text/html": [
       "<img src=\"report_resources/i4consume_kafka_demo.png\"/>"
      ],
      "text/plain": [
       "<IPython.core.display.Image object>"
      ]
     },
     "execution_count": 18,
     "metadata": {},
     "output_type": "execute_result"
    }
   ],
   "source": [
    "print('before we connecting to pyspark to filter, we need to test kafka can be consumed')\n",
    "Image(url= \"report_resources/i4consume_kafka_demo.png\")\n",
    "\n"
   ]
  },
  {
   "cell_type": "code",
   "execution_count": 19,
   "id": "c90c5283",
   "metadata": {},
   "outputs": [
    {
     "name": "stdout",
     "output_type": "stream",
     "text": [
      "\n",
      "\n",
      " kafka data can be consumed:\n"
     ]
    },
    {
     "data": {
      "text/html": [
       "<img src=\"report_resources/i4result.png\"/>"
      ],
      "text/plain": [
       "<IPython.core.display.Image object>"
      ]
     },
     "execution_count": 19,
     "metadata": {},
     "output_type": "execute_result"
    }
   ],
   "source": [
    "print('\\n\\n kafka data can be consumed:')\n",
    "Image(url= \"report_resources/i4result.png\")"
   ]
  },
  {
   "cell_type": "code",
   "execution_count": 20,
   "id": "687f9a55",
   "metadata": {},
   "outputs": [
    {
     "name": "stdout",
     "output_type": "stream",
     "text": [
      "\n",
      "\n",
      " kafka filterd by pypsark\n"
     ]
    },
    {
     "data": {
      "text/html": [
       "<img src=\"report_resources/i5pypark_kafka.png\"/>"
      ],
      "text/plain": [
       "<IPython.core.display.Image object>"
      ]
     },
     "execution_count": 20,
     "metadata": {},
     "output_type": "execute_result"
    }
   ],
   "source": [
    "print('\\n\\n kafka filterd by pypsark')\n",
    "\n",
    "Image(url= \"report_resources/i5pypark_kafka.png\")\n"
   ]
  },
  {
   "cell_type": "code",
   "execution_count": 21,
   "id": "c2259780",
   "metadata": {},
   "outputs": [
    {
     "name": "stdout",
     "output_type": "stream",
     "text": [
      "\n",
      "\n",
      " kafka filterd realtime:\n"
     ]
    },
    {
     "data": {
      "text/html": [
       "<img src=\"report_resources/i6result.png\"/>"
      ],
      "text/plain": [
       "<IPython.core.display.Image object>"
      ]
     },
     "execution_count": 21,
     "metadata": {},
     "output_type": "execute_result"
    }
   ],
   "source": [
    "print('\\n\\n kafka filterd realtime:')\n",
    "Image(url= \"report_resources/i6result.png\")\n"
   ]
  },
  {
   "cell_type": "code",
   "execution_count": 22,
   "id": "970dcc5e",
   "metadata": {},
   "outputs": [
    {
     "name": "stdout",
     "output_type": "stream",
     "text": [
      "\n",
      "\n",
      " save back to hdfs:\n"
     ]
    },
    {
     "data": {
      "text/html": [
       "<img src=\"report_resources/i6filter_to_hdfs.png\"/>"
      ],
      "text/plain": [
       "<IPython.core.display.Image object>"
      ]
     },
     "execution_count": 22,
     "metadata": {},
     "output_type": "execute_result"
    }
   ],
   "source": [
    "print('\\n\\n save back to hdfs:')\n",
    "Image(url= \"report_resources/i6filter_to_hdfs.png\")\n"
   ]
  },
  {
   "cell_type": "code",
   "execution_count": null,
   "id": "bbf989f6",
   "metadata": {},
   "outputs": [],
   "source": []
  },
  {
   "cell_type": "code",
   "execution_count": null,
   "id": "f92e4ea7",
   "metadata": {},
   "outputs": [],
   "source": []
  }
 ],
 "metadata": {
  "kernelspec": {
   "display_name": "Python 3 (ipykernel)",
   "language": "python",
   "name": "python3"
  },
  "language_info": {
   "codemirror_mode": {
    "name": "ipython",
    "version": 3
   },
   "file_extension": ".py",
   "mimetype": "text/x-python",
   "name": "python",
   "nbconvert_exporter": "python",
   "pygments_lexer": "ipython3",
   "version": "3.9.6"
  }
 },
 "nbformat": 4,
 "nbformat_minor": 5
}
