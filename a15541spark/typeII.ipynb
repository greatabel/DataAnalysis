{
 "cells": [
  {
   "cell_type": "markdown",
   "metadata": {},
   "source": [
    "# Setup"
   ]
  },
  {
   "cell_type": "code",
   "execution_count": 368,
   "metadata": {},
   "outputs": [
    {
     "name": "stdout",
     "output_type": "stream",
     "text": [
      "Loading tweets from /Users/abel/Downloads/spare_time/working/a13544_600_spark/air_transit_2007.csv\n"
     ]
    }
   ],
   "source": [
    "# # Init pyspark\n",
    "# from pyspark import SparkContext\n",
    "# sc = SparkContext.getOrCreate()\n",
    "# # Init sparksql -- Only used to format the output nicely!\n",
    "# from pyspark.sql import SQLContext\n",
    "# sqlContext = SQLContext(sc)\n",
    "\n",
    "# rows = sc.textFile(\"/air_transit_2007.csv\")\n",
    "# #rows = sc.textFile(\"/Users/abel/Downloads/spare_time/working/a13544_600_spark/air_transit_2007.csv\")\n",
    "\n",
    "# data = rows.map(lambda line: line.split(\",\"))\n",
    "# # data.cache()\n",
    "\n",
    "# import findspark\n",
    "# findspark.init()\n",
    "# A simple demo for working with SparkSQL and Tweets\n",
    "from pyspark import SparkContext, SparkConf\n",
    "from pyspark.sql import HiveContext, Row\n",
    "from pyspark.sql.types import IntegerType\n",
    "import json\n",
    "import sys\n",
    "\n",
    "\n",
    "inputFile = 'air_transit_2007.csv'\n",
    "inputFile = '/Users/abel/Downloads/spare_time/working/a13544_600_spark/air_transit_2007.csv'\n",
    "\n",
    "conf = SparkConf().setAppName(\"SparkSQLAirTransit\")\n",
    "SparkConf().set(\"spark.sql.legacy.timeParserPolicy\",\"LEGACY\")\n",
    "\n",
    "sc = SparkContext.getOrCreate(conf=conf)\n",
    "hiveCtx = HiveContext(sc)\n",
    "print(\"Loading tweets from \" + inputFile)\n"
   ]
  },
  {
   "cell_type": "code",
   "execution_count": 369,
   "metadata": {},
   "outputs": [
    {
     "name": "stdout",
     "output_type": "stream",
     "text": [
      "root\n",
      " |-- Year: integer (nullable = true)\n",
      " |-- Month: integer (nullable = true)\n",
      " |-- DayofMonth: integer (nullable = true)\n",
      " |-- DayOfWeek: integer (nullable = true)\n",
      " |-- DepTime: string (nullable = true)\n",
      " |-- CRSDepTime: integer (nullable = true)\n",
      " |-- ArrTime: string (nullable = true)\n",
      " |-- CRSArrTime: integer (nullable = true)\n",
      " |-- UniqueCarrier: string (nullable = true)\n",
      " |-- FlightNum: integer (nullable = true)\n",
      " |-- TailNum: string (nullable = true)\n",
      " |-- ActualElapsedTime: string (nullable = true)\n",
      " |-- CRSElapsedTime: string (nullable = true)\n",
      " |-- AirTime: string (nullable = true)\n",
      " |-- ArrDelay: string (nullable = true)\n",
      " |-- DepDelay: string (nullable = true)\n",
      " |-- Origin: string (nullable = true)\n",
      " |-- Dest: string (nullable = true)\n",
      " |-- Distance: integer (nullable = true)\n",
      " |-- TaxiIn: integer (nullable = true)\n",
      " |-- TaxiOut: integer (nullable = true)\n",
      " |-- Cancelled: integer (nullable = true)\n",
      " |-- CancellationCode: string (nullable = true)\n",
      " |-- Diverted: integer (nullable = true)\n",
      " |-- CarrierDelay: integer (nullable = true)\n",
      " |-- WeatherDelay: integer (nullable = true)\n",
      " |-- NASDelay: integer (nullable = true)\n",
      " |-- SecurityDelay: integer (nullable = true)\n",
      " |-- LateAircraftDelay: integer (nullable = true)\n",
      "\n"
     ]
    }
   ],
   "source": [
    "input = hiveCtx.read.option(\"header\",True).csv(inputFile,inferSchema =True)\n",
    "input.printSchema()\n",
    "\n"
   ]
  },
  {
   "cell_type": "code",
   "execution_count": 370,
   "metadata": {},
   "outputs": [],
   "source": [
    "# Sample Query"
   ]
  },
  {
   "cell_type": "code",
   "execution_count": 371,
   "metadata": {
    "scrolled": false
   },
   "outputs": [
    {
     "name": "stdout",
     "output_type": "stream",
     "text": [
      "myair_transits:\n",
      "Row(Year=2007, Month=1, DayofMonth=1, DayOfWeek=1, DepTime='1232', CRSDepTime=1225, ArrTime='1341', CRSArrTime=1340, UniqueCarrier='WN', FlightNum=2891, TailNum='N351', ActualElapsedTime='69', CRSElapsedTime='75', AirTime='54', ArrDelay='1', DepDelay='7', Origin='SMF', Dest='ONT', Distance=389, TaxiIn=4, TaxiOut=11, Cancelled=0, CancellationCode=None, Diverted=0, CarrierDelay=0, WeatherDelay=0, NASDelay=0, SecurityDelay=0, LateAircraftDelay=0) \n",
      "\n",
      "Row(Year=2007, Month=1, DayofMonth=1, DayOfWeek=1, DepTime='1918', CRSDepTime=1905, ArrTime='2043', CRSArrTime=2035, UniqueCarrier='WN', FlightNum=462, TailNum='N370', ActualElapsedTime='85', CRSElapsedTime='90', AirTime='74', ArrDelay='8', DepDelay='13', Origin='SMF', Dest='PDX', Distance=479, TaxiIn=5, TaxiOut=6, Cancelled=0, CancellationCode=None, Diverted=0, CarrierDelay=0, WeatherDelay=0, NASDelay=0, SecurityDelay=0, LateAircraftDelay=0) \n",
      "\n",
      "Row(Year=2007, Month=1, DayofMonth=1, DayOfWeek=1, DepTime='2206', CRSDepTime=2130, ArrTime='2334', CRSArrTime=2300, UniqueCarrier='WN', FlightNum=1229, TailNum='N685', ActualElapsedTime='88', CRSElapsedTime='90', AirTime='73', ArrDelay='34', DepDelay='36', Origin='SMF', Dest='PDX', Distance=479, TaxiIn=6, TaxiOut=9, Cancelled=0, CancellationCode=None, Diverted=0, CarrierDelay=3, WeatherDelay=0, NASDelay=0, SecurityDelay=0, LateAircraftDelay=31) \n",
      "\n"
     ]
    }
   ],
   "source": [
    "\n",
    "input.registerTempTable(\"air_transit\")\n",
    "\n",
    "myair_transits = hiveCtx.sql(\"SELECT * FROM air_transit  LIMIT 3\")\n",
    "print('myair_transits:' )\n",
    "for item in myair_transits.collect():\n",
    "    print(item, '\\n')"
   ]
  },
  {
   "cell_type": "markdown",
   "metadata": {},
   "source": [
    "## Q1\n",
    "Compute the total number of records."
   ]
  },
  {
   "cell_type": "code",
   "execution_count": 372,
   "metadata": {
    "scrolled": false
   },
   "outputs": [
    {
     "name": "stdout",
     "output_type": "stream",
     "text": [
      "total number of records. 7453215\n"
     ]
    }
   ],
   "source": [
    "# Response...\n",
    "df = input\n",
    "\n",
    "# mycount = hiveCtx.sql(\"SELECT count(*) as mycount FROM air_transit\")\n",
    "# print('mycount=', mycount.collect()[0]['mycount'] )\n",
    "\n",
    "print('total number of records.',df.count() )"
   ]
  },
  {
   "cell_type": "code",
   "execution_count": 373,
   "metadata": {},
   "outputs": [
    {
     "name": "stdout",
     "output_type": "stream",
     "text": [
      "Q2 total number of operated flights per month, sorted by the month:\n",
      "1 621559\n",
      "2 565604\n",
      "3 639209\n",
      "4 614648\n",
      "5 631609\n",
      "6 629280\n",
      "7 648560\n",
      "8 653279\n",
      "9 600187\n",
      "10 629992\n",
      "11 605149\n",
      "12 614139\n"
     ]
    }
   ],
   "source": [
    "## Q2\n",
    "#Find total number of operated flights per month, sorted by the month..\n",
    "\n",
    "\n",
    "# mymonth = hiveCtx.sql(\"select Month, count(*) as flight_number from air_transit group by Month order by Month LIMIT 100\")\n",
    "# print('total number of operated flights per month:')  \n",
    "# for item in mymonth.collect():\n",
    "#     print(item['Month'], 'month', item['flight_number'])\n",
    "    \n",
    "from pyspark.sql.functions import col\n",
    "\n",
    "print('Q2 total number of operated flights per month, sorted by the month:')\n",
    "\n",
    "df1 = df.groupBy(\"Month\").count().sort('Month',ascending=True) \n",
    "for item in df1.rdd.collect():\n",
    "    print(item['Month'], item['count'])\n",
    "\n"
   ]
  },
  {
   "cell_type": "code",
   "execution_count": 374,
   "metadata": {},
   "outputs": [
    {
     "name": "stdout",
     "output_type": "stream",
     "text": [
      "Q3: highest number of flights. Each plane has a unique TailNum\n",
      "N655BR 4483\n",
      "N479HA 4359\n",
      "N651BR 4346\n",
      "highest_number_filghts:  N655BR\n"
     ]
    }
   ],
   "source": [
    "## Q3\n",
    "# Find the plane with the highest number of flights. Each plane has a unique TailNum\n",
    "\n",
    "print('Q3: highest number of flights. Each plane has a unique TailNum')\n",
    "df1 = df.filter(~col('TailNum').isin(['0', '000000']))\n",
    "df1 = df1.groupBy(\"TailNum\").count().sort('count',ascending=False)\n",
    "\n",
    "if df1 is not None:\n",
    "    for item in df1.rdd.collect()[:3]:\n",
    "        print(item['TailNum'], item['count'])\n",
    "    print('highest_number_filghts: ', df1.collect()[0]['TailNum'] )\n"
   ]
  },
  {
   "cell_type": "code",
   "execution_count": 375,
   "metadata": {},
   "outputs": [
    {
     "name": "stdout",
     "output_type": "stream",
     "text": [
      "Q4:total flight time of each airplane, sorted by flight time in descending order\n",
      "N556AS 532213.0\n",
      "N557UA 259376.0\n",
      "N597UA 254760.0\n"
     ]
    }
   ],
   "source": [
    "## Q4\n",
    "# Compute the total flight time of each airplane, sorted by flight time in descending order.\n",
    "# total_flight_times = hiveCtx.sql(\"SELECT TailNum, SUM (AirTime) as total_fight_time FROM air_transit GROUP BY TailNum order by total_fight_time desc LIMIT 100\")\n",
    "# print('-'*10, 'We make ', '-'*10)\n",
    "# print('total flight time of each airplane: ')\n",
    "# for item in  total_flight_times.collect():\n",
    "#     print(item['TailNum'], ' total fight time is', item['total_fight_time'])\n",
    "\n",
    "print('Q4:total flight time of each airplane, sorted by flight time in descending order')\n",
    "df1 = df.groupBy(\"TailNum\").agg(F.sum(df['AirTime']).alias('result')).orderBy('result',ascending=False)\n",
    "if df1 is not None:\n",
    "    for item in df1.rdd.collect()[:3]:\n",
    "        print(item['TailNum'], item['result'])"
   ]
  },
  {
   "cell_type": "code",
   "execution_count": 376,
   "metadata": {},
   "outputs": [
    {
     "name": "stdout",
     "output_type": "stream",
     "text": [
      "1 ----------\n",
      "{'BGM': 237, 'DLG': 26, 'PSE': 129, 'MSY': 5535, 'GEG': 2355, 'SNA': 8859, 'BUR': 5399, 'GRB': 1508, 'GTF': 495, 'IDA': 537, 'GRR': 2775, 'EUG': 1004, 'PSG': 124, 'PVD': 4296, 'GSO': 2800, 'MYR': 990, 'ISO': 17, 'OAK': 12600, 'MSN': 2348, 'COD': 186, 'BTM': 123, 'FAR': 999, 'FSM': 367, 'MQT': 170, 'SCC': 124, 'DCA': 15605, 'RFD': 126, 'MLU': 571, 'CID': 1944, 'LWS': 123, 'GTR': 163, 'WRG': 124, 'HLN': 308, 'LEX': 1749, 'RDM': 605, 'FLO': 111, 'ORF': 3325, 'SCE': 135, 'EVV': 933, 'KTN': 372, 'CRW': 587, 'CWA': 306, 'SAV': 2106, 'TRI': 154, 'CDV': 124, 'CMH': 6874, 'MOD': 526, 'CAK': 1428, 'TYR': 246, 'ADK': 16, 'CHO': 272, 'MOB': 1034, 'PNS': 1731, 'MCN': 184, 'CEC': 172, 'LIH': 2762, 'IAH': 36883, 'HNL': 11434, 'SHV': 1606, 'ERI': 252, 'SJC': 10143, 'CVG': 19159, 'TOL': 363, 'BUF': 4756, 'LGA': 21243, 'TLH': 622, 'ACT': 364, 'HPN': 1735, 'RDD': 303, 'AUS': 7547, 'MLI': 1552, 'SJU': 4348, 'ATW': 979, 'DHN': 284, 'AVL': 536, 'GJT': 907, 'LGB': 2291, 'LYH': 178, 'BFL': 937, 'GFK': 240, 'RNO': 4619, 'SRQ': 1371, 'SBN': 603, 'EYW': 185, 'TTN': 230, 'JAC': 562, 'RST': 769, 'CHS': 2362, 'TUL': 4049, 'HRL': 976, 'RSW': 5816, 'IPL': 234, 'AMA': 1403, 'ISP': 2131, 'BOS': 22916, 'MAF': 1455, 'MLB': 368, 'TUP': 116, 'EWR': 25953, 'LAS': 30117, 'BIS': 542, 'JAN': 2252, 'ITO': 1584, 'FAI': 682, 'XNA': 2250, 'DLH': 348, 'DEN': 40124, 'RHI': 4, 'SGU': 617, 'ALB': 2451, 'CPR': 660, 'LNK': 732, 'OME': 186, 'BOI': 2767, 'IAD': 17152, 'PSP': 2708, 'SBA': 2429, 'IYK': 165, 'MEI': 115, 'BRO': 385, 'DRO': 750, 'BMI': 598, 'SEA': 16982, 'LAN': 820, 'CMI': 424, 'LRD': 499, 'VLD': 169, 'MCI': 9805, 'FLG': 288, 'GRK': 900, 'BNA': 10328, 'CLT': 20801, 'CLL': 324, 'TVC': 557, 'PSC': 454, 'BLI': 119, 'CIC': 226, 'ABQ': 6190, 'PBI': 5719, 'SDF': 3433, 'ACV': 647, 'LAW': 359, 'BDL': 5531, 'DAL': 8912, 'MRY': 1361, 'DBQ': 240, 'CLE': 13960, 'APF': 129, 'PDX': 9398, 'MIA': 11645, 'MFR': 1047, 'TWF': 370, 'ILG': 114, 'TPA': 13854, 'BWI': 17714, 'CMX': 62, 'OKC': 4213, 'ROA': 820, 'SMF': 9062, 'SPI': 286, 'BRW': 124, 'OXR': 225, 'ABI': 488, 'MBS': 642, 'ELM': 181, 'PHX': 36355, 'FCA': 414, 'STL': 10990, 'PWM': 1093, 'ABY': 216, 'BET': 178, 'MHT': 3397, 'DFW': 50770, 'ABE': 1002, 'TXK': 185, 'GSP': 2177, 'LSE': 410, 'STX': 96, 'FAY': 358, 'HDN': 786, 'GUC': 364, 'LBB': 1593, 'EKO': 299, 'CRP': 1486, 'EGE': 1050, 'FSD': 1194, 'SWF': 760, 'SUN': 560, 'CSG': 227, 'BQK': 161, 'SFO': 21856, 'MEM': 14062, 'ELP': 3757, 'BHM': 3445, 'FLL': 12247, 'ATL': 64597, 'PIH': 332, 'FNT': 1255, 'RIC': 3327, 'AKN': 42, 'DAY': 2440, 'PHF': 989, 'OMA': 4579, 'SJT': 310, 'LCH': 256, 'TEX': 124, 'BPT': 61, 'VPS': 1105, 'LIT': 2850, 'CAE': 1822, 'ICT': 2508, 'FAT': 2443, 'PFN': 599, 'ORD': 63654, 'AVP': 528, 'BTV': 1103, 'AEX': 695, 'BIL': 683, 'SPS': 352, 'ILM': 537, 'SMX': 302, 'PIA': 834, 'RDU': 10486, 'BQN': 209, 'MFE': 804, 'MKE': 3775, 'SYR': 2237, 'LFT': 966, 'HSV': 1368, 'TUS': 4329, 'PIT': 8373, 'MTJ': 613, 'ACY': 169, 'MDW': 16391, 'AZO': 951, 'PLN': 62, 'COS': 2605, 'OAJ': 123, 'JNU': 620, 'IND': 7257, 'ALO': 57, 'KOA': 2624, 'GPT': 1107, 'MGM': 772, 'DTW': 30088, 'HOU': 9260, 'TYS': 2078, 'CHA': 863, 'YUM': 604, 'ADQ': 106, 'ONT': 6073, 'MDT': 1605, 'FWA': 988, 'JAX': 5877, 'LAX': 39395, 'MSP': 25886, 'HTS': 107, 'MOT': 186, 'BTR': 1942, 'BGR': 849, 'SIT': 186, 'MCO': 20561, 'ROC': 2997, 'SGF': 1799, 'AGS': 337, 'OTZ': 186, 'SAN': 15350, 'BZN': 751, 'GGG': 186, 'YAK': 124, 'JFK': 20981, 'DAB': 761, 'ANC': 2782, 'SUX': 108, 'MSO': 596, 'GNV': 339, 'PHL': 17654, 'OGG': 4436, 'DSM': 3092, 'SAT': 7015, 'SLC': 24438, 'STT': 619, 'ASE': 1333, 'CLD': 458, 'RAP': 770, 'SBP': 1095}\n",
      "month_max: ATL  ,departures + arrivals of this month: 64597\n",
      "2 ----------\n",
      "{'BGM': 220, 'DLG': 24, 'PSE': 112, 'MSY': 5277, 'GEG': 2120, 'SNA': 8017, 'BUR': 4844, 'GRB': 1362, 'GTF': 489, 'IDA': 483, 'GRR': 2478, 'EUG': 890, 'PSG': 112, 'PVD': 3928, 'GSO': 2468, 'MYR': 947, 'OAK': 11369, 'MSN': 2146, 'COD': 166, 'BTM': 108, 'FAR': 899, 'FSM': 319, 'MQT': 151, 'SCC': 112, 'DCA': 14168, 'RFD': 112, 'MLU': 515, 'CID': 1682, 'LWS': 108, 'GTR': 152, 'MTH': 32, 'WRG': 112, 'HLN': 277, 'LEX': 1503, 'RDM': 543, 'FLO': 104, 'ORF': 2963, 'SCE': 98, 'EVV': 882, 'KTN': 336, 'CRW': 548, 'CWA': 272, 'SAV': 1935, 'TRI': 152, 'CDV': 112, 'CMH': 6043, 'MOD': 484, 'CAK': 1365, 'TYR': 223, 'ADK': 16, 'CHO': 246, 'MOB': 958, 'PNS': 1532, 'MCN': 168, 'CEC': 156, 'LIH': 2467, 'IAH': 33351, 'HNL': 10314, 'SHV': 1403, 'ERI': 216, 'SJC': 9158, 'CVG': 17000, 'TOL': 328, 'BUF': 4206, 'LGA': 19340, 'TLH': 552, 'ACT': 328, 'HPN': 1714, 'RDD': 275, 'AUS': 6837, 'MLI': 1479, 'SJU': 3995, 'ATW': 919, 'DHN': 261, 'AVL': 475, 'GJT': 816, 'LGB': 2120, 'LYH': 160, 'BFL': 842, 'GFK': 216, 'RNO': 4198, 'SRQ': 1425, 'SBN': 698, 'EYW': 168, 'TTN': 216, 'JAC': 525, 'RST': 696, 'CHS': 2163, 'RSW': 5696, 'TUL': 3666, 'HRL': 890, 'IPL': 204, 'AMA': 1273, 'ISP': 1928, 'BOS': 21156, 'MAF': 1314, 'MLB': 336, 'TUP': 108, 'EWR': 23638, 'LAS': 27367, 'BIS': 488, 'JAN': 2034, 'ITO': 1456, 'FAI': 651, 'XNA': 2113, 'DLH': 316, 'DEN': 36656, 'SGU': 559, 'ALB': 2188, 'CPR': 596, 'LNK': 713, 'OME': 166, 'BOI': 2502, 'IAD': 15384, 'PSP': 2554, 'SBA': 2187, 'IYK': 148, 'MEI': 103, 'BRO': 364, 'DRO': 672, 'BMI': 528, 'SEA': 15434, 'LAN': 736, 'CMI': 384, 'LRD': 418, 'VLD': 164, 'MCI': 8730, 'FLG': 256, 'GRK': 816, 'BNA': 9217, 'CLT': 18725, 'CLL': 285, 'TVC': 503, 'PSC': 407, 'BLI': 112, 'CIC': 208, 'PBI': 5433, 'ABQ': 5589, 'SDF': 3101, 'ACV': 594, 'LAW': 326, 'BDL': 5008, 'DAL': 8044, 'MRY': 1249, 'DBQ': 216, 'CLE': 12896, 'APF': 140, 'PDX': 8448, 'MIA': 10726, 'MFR': 948, 'TWF': 353, 'ILG': 104, 'TPA': 12791, 'BWI': 16025, 'CMX': 52, 'OKC': 3813, 'ROA': 688, 'SMF': 8146, 'SPI': 264, 'BRW': 112, 'OXR': 208, 'ABI': 440, 'MBS': 588, 'ELM': 179, 'PHX': 32820, 'FCA': 387, 'STL': 9808, 'PWM': 1015, 'ABY': 200, 'BET': 160, 'MHT': 3159, 'ABE': 870, 'DFW': 45451, 'TXK': 167, 'GSP': 2008, 'LSE': 368, 'STX': 88, 'FAY': 324, 'HDN': 714, 'GUC': 362, 'LBB': 1449, 'EKO': 269, 'CRP': 1312, 'EGE': 984, 'FSD': 1050, 'SWF': 817, 'SUN': 468, 'CSG': 208, 'BQK': 152, 'SFO': 19877, 'MEM': 12885, 'ELP': 3364, 'BHM': 3132, 'FLL': 11728, 'ATL': 59558, 'FNT': 1200, 'PIH': 283, 'RIC': 3013, 'AKN': 40, 'DAY': 2267, 'PHF': 841, 'OMA': 4145, 'SJT': 280, 'LCH': 222, 'TEX': 112, 'BPT': 56, 'VPS': 1043, 'LIT': 2609, 'CAE': 1617, 'ICT': 2270, 'FAT': 2218, 'PFN': 556, 'ORD': 57967, 'AVP': 471, 'BTV': 1025, 'AEX': 640, 'BIL': 606, 'SPS': 320, 'ILM': 496, 'SMX': 272, 'PIA': 758, 'RDU': 9342, 'BQN': 196, 'MFE': 762, 'MKE': 3398, 'SYR': 2010, 'HSV': 1268, 'LFT': 883, 'PIT': 7538, 'TUS': 3904, 'MTJ': 600, 'ACY': 152, 'MDW': 14646, 'AZO': 851, 'PLN': 29, 'COS': 2135, 'OAJ': 109, 'JNU': 560, 'IND': 6680, 'ALO': 52, 'KOA': 2407, 'EAU': 23, 'GPT': 989, 'MGM': 701, 'DTW': 27699, 'HOU': 8382, 'TYS': 1900, 'CHA': 775, 'YUM': 544, 'ADQ': 96, 'ONT': 5436, 'MDT': 1450, 'FWA': 941, 'JAX': 5347, 'LAX': 35584, 'MSP': 24150, 'HTS': 97, 'MOT': 168, 'BTR': 1782, 'BGR': 756, 'SIT': 168, 'MCO': 19350, 'ROC': 2748, 'SGF': 1641, 'AGS': 321, 'OTZ': 166, 'SAN': 13842, 'BZN': 755, 'GGG': 168, 'YAK': 112, 'DAB': 802, 'JFK': 19301, 'ANC': 2485, 'SUX': 100, 'MSO': 558, 'GNV': 313, 'PHL': 16066, 'OGG': 3958, 'DSM': 2747, 'SAT': 6339, 'SLC': 22009, 'STT': 576, 'ASE': 1218, 'CLD': 416, 'RAP': 697, 'SBP': 998}\n",
      "month_max: ATL  ,departures + arrivals of this month: 59558\n",
      "3 ----------\n",
      "{'BGM': 236, 'DLG': 28, 'PSE': 122, 'MSY': 5965, 'GEG': 2451, 'SNA': 8980, 'BUR': 5460, 'GRB': 1513, 'GTF': 602, 'IDA': 536, 'GRR': 2705, 'EUG': 1044, 'PSG': 124, 'PVD': 4313, 'GSO': 2717, 'MYR': 1198, 'OAK': 12587, 'MSN': 2384, 'COD': 184, 'FAR': 989, 'BTM': 165, 'FSM': 341, 'MQT': 166, 'SCC': 124, 'DCA': 15708, 'RFD': 125, 'MLU': 555, 'CID': 1723, 'LWS': 124, 'GTR': 175, 'MTH': 71, 'WRG': 124, 'HLN': 309, 'LEX': 1798, 'RDM': 610, 'FLO': 114, 'ORF': 3321, 'SCE': 112, 'EVV': 980, 'KTN': 372, 'CRW': 652, 'CWA': 298, 'SAV': 2301, 'TRI': 169, 'CDV': 124, 'CMH': 6790, 'MOD': 548, 'CAK': 1398, 'TYR': 248, 'ADK': 18, 'CHO': 284, 'MOB': 1045, 'PNS': 1739, 'MCN': 185, 'CEC': 176, 'LIH': 2680, 'IAH': 37356, 'HNL': 11575, 'SHV': 1575, 'ERI': 222, 'SJC': 10245, 'CVG': 19593, 'TOL': 362, 'BUF': 4829, 'LGA': 21391, 'TLH': 658, 'ACT': 362, 'HPN': 1831, 'RDD': 312, 'AUS': 7904, 'MLI': 1471, 'SJU': 4502, 'ATW': 1046, 'DHN': 281, 'AVL': 477, 'GJT': 902, 'LGB': 2364, 'LYH': 176, 'BFL': 968, 'GFK': 235, 'RNO': 4799, 'SRQ': 1879, 'SBN': 876, 'EYW': 246, 'TTN': 238, 'JAC': 594, 'RST': 763, 'CHS': 2563, 'HRL': 1006, 'RSW': 7084, 'TUL': 4036, 'IPL': 220, 'ISP': 2128, 'AMA': 1418, 'BOS': 24056, 'MAF': 1456, 'MLB': 372, 'TUP': 124, 'EWR': 27136, 'LAS': 31393, 'BIS': 521, 'JAN': 2226, 'ITO': 1644, 'FAI': 744, 'XNA': 2339, 'HHH': 89, 'DLH': 371, 'DEN': 41507, 'SGU': 619, 'ALB': 2412, 'CPR': 660, 'LNK': 752, 'OME': 188, 'IAD': 17346, 'BOI': 2816, 'PSP': 2906, 'SBA': 2447, 'IYK': 168, 'MEI': 114, 'BRO': 435, 'DRO': 743, 'BMI': 584, 'SEA': 17206, 'LAN': 828, 'CMI': 422, 'LRD': 510, 'VLD': 186, 'MCI': 9552, 'FLG': 310, 'GRK': 890, 'BNA': 10381, 'CLL': 310, 'CLT': 21112, 'TVC': 557, 'BLI': 124, 'PSC': 451, 'CIC': 238, 'PBI': 6372, 'ABQ': 6268, 'SDF': 3537, 'ACV': 652, 'LAW': 362, 'BDL': 5552, 'DAL': 9133, 'MRY': 1378, 'DBQ': 238, 'CLE': 15048, 'APF': 186, 'PDX': 9500, 'MIA': 11814, 'MFR': 1111, 'TWF': 316, 'ILG': 115, 'TPA': 15042, 'BWI': 18152, 'CMX': 48, 'OKC': 4184, 'ROA': 627, 'SMF': 9222, 'SPI': 302, 'BRW': 124, 'OXR': 238, 'ABI': 487, 'MBS': 658, 'ELM': 211, 'PHX': 37082, 'FCA': 470, 'STL': 10982, 'PWM': 1164, 'ABY': 230, 'BET': 178, 'MHT': 3704, 'ABE': 947, 'DFW': 50589, 'TXK': 186, 'GSP': 2311, 'LSE': 407, 'STX': 100, 'FAY': 362, 'HDN': 794, 'GUC': 399, 'LBB': 1615, 'EKO': 299, 'CRP': 1456, 'EGE': 1096, 'FSD': 1180, 'SWF': 926, 'SUN': 591, 'CSG': 230, 'BQK': 168, 'SFO': 22440, 'MEM': 14391, 'ELP': 3707, 'BHM': 3607, 'FLL': 13642, 'ATL': 68073, 'FNT': 1463, 'PIH': 310, 'RIC': 3294, 'AKN': 44, 'DAY': 2562, 'PHF': 873, 'OMA': 4602, 'SJT': 309, 'LCH': 238, 'TEX': 124, 'BPT': 62, 'VPS': 1168, 'LIT': 3011, 'CAE': 2003, 'ICT': 2477, 'FAT': 2476, 'PFN': 566, 'SOP': 26, 'ORD': 64903, 'AVP': 548, 'BTV': 1176, 'AEX': 706, 'BIL': 672, 'SPS': 352, 'ILM': 628, 'SMX': 302, 'PIA': 834, 'RDU': 10535, 'BQN': 248, 'MFE': 762, 'MKE': 3779, 'SYR': 2324, 'HSV': 1514, 'LFT': 956, 'PIT': 8507, 'TUS': 4564, 'MTJ': 674, 'ACY': 169, 'MDW': 16375, 'AZO': 960, 'COS': 2365, 'OAJ': 174, 'JNU': 620, 'IND': 7640, 'ALO': 40, 'KOA': 2830, 'EAU': 49, 'GPT': 1113, 'MGM': 764, 'HOU': 9474, 'DTW': 30948, 'CHA': 870, 'TYS': 2318, 'YUM': 602, 'ADQ': 104, 'ONT': 5894, 'MDT': 1578, 'FWA': 1072, 'JAX': 6013, 'LAX': 40128, 'MSP': 27322, 'HTS': 115, 'MOT': 186, 'BGR': 830, 'BTR': 1985, 'SIT': 186, 'MCO': 22465, 'ROC': 3153, 'SGF': 1816, 'AGS': 362, 'OTZ': 186, 'SAN': 15647, 'BZN': 890, 'GGG': 185, 'YAK': 124, 'DAB': 910, 'JFK': 22011, 'ANC': 2805, 'SUX': 90, 'MSO': 664, 'GNV': 362, 'PHL': 18225, 'OGG': 4404, 'DSM': 3131, 'SAT': 7131, 'SLC': 25308, 'STT': 684, 'ASE': 1396, 'CLD': 466, 'RAP': 783, 'SBP': 1158}\n",
      "month_max: ATL  ,departures + arrivals of this month: 68073\n",
      "4 ----------\n"
     ]
    },
    {
     "name": "stdout",
     "output_type": "stream",
     "text": [
      "{'BGM': 231, 'DLG': 26, 'PSE': 120, 'MSY': 5650, 'GEG': 2641, 'SNA': 8862, 'BUR': 5408, 'GRB': 1460, 'GTF': 576, 'IDA': 557, 'GRR': 2713, 'LWB': 2, 'EUG': 977, 'PSG': 120, 'PVD': 4230, 'GSO': 2429, 'MYR': 1163, 'OAK': 12299, 'MSN': 2302, 'COD': 179, 'BTM': 137, 'FAR': 922, 'FSM': 375, 'MQT': 163, 'SCC': 120, 'DCA': 15153, 'RFD': 110, 'MLU': 496, 'CID': 1780, 'LWS': 114, 'GTR': 172, 'MTH': 68, 'WRG': 120, 'HLN': 285, 'LEX': 1685, 'RDM': 586, 'FLO': 112, 'ORF': 3284, 'SCE': 110, 'EVV': 961, 'KTN': 360, 'CRW': 632, 'CWA': 288, 'SAV': 2359, 'TRI': 165, 'CDV': 120, 'CMH': 6521, 'MOD': 514, 'CAK': 1397, 'TYR': 240, 'ADK': 18, 'CHO': 276, 'MOB': 918, 'PNS': 1667, 'MCN': 181, 'CEC': 169, 'LIH': 2559, 'IAH': 34358, 'HNL': 11149, 'SHV': 1560, 'ERI': 232, 'SJC': 10054, 'CVG': 18552, 'TOL': 351, 'BUF': 4728, 'TLH': 671, 'LGA': 20674, 'ACT': 351, 'HPN': 2074, 'RDD': 300, 'AUS': 8031, 'MLI': 1493, 'SJU': 4282, 'ATW': 1027, 'DHN': 269, 'AVL': 504, 'GJT': 905, 'LGB': 2280, 'LYH': 172, 'BFL': 872, 'GFK': 181, 'RNO': 4634, 'SRQ': 1651, 'SBN': 856, 'EYW': 212, 'TTN': 188, 'JAC': 407, 'RST': 708, 'CHS': 2566, 'RSW': 6133, 'TUL': 4057, 'HRL': 986, 'IPL': 210, 'AMA': 1179, 'ISP': 2058, 'BOS': 22812, 'MAF': 1285, 'MLB': 351, 'TUP': 112, 'EWR': 26126, 'LAS': 30446, 'BIS': 473, 'JAN': 2149, 'ITO': 1598, 'FAI': 720, 'XNA': 2264, 'HHH': 179, 'DLH': 359, 'DEN': 39162, 'SGU': 598, 'ALB': 2406, 'CPR': 642, 'LNK': 714, 'OME': 180, 'BOI': 2818, 'IAD': 16485, 'PSP': 2620, 'SBA': 2236, 'IYK': 159, 'MEI': 112, 'BRO': 248, 'DRO': 686, 'BMI': 578, 'SEA': 17115, 'LAN': 827, 'CMI': 453, 'LRD': 496, 'VLD': 174, 'MCI': 9560, 'FLG': 300, 'GRK': 864, 'BNA': 10231, 'CLT': 20653, 'CLL': 300, 'TVC': 552, 'PSC': 441, 'BLI': 110, 'CIC': 232, 'ABQ': 6300, 'PBI': 6079, 'SDF': 3285, 'ACV': 626, 'LAW': 352, 'BDL': 5315, 'DAL': 8848, 'MRY': 1253, 'DBQ': 232, 'CLE': 14222, 'APF': 144, 'PDX': 9237, 'MIA': 11228, 'MFR': 1039, 'TWF': 334, 'ILG': 111, 'TPA': 14126, 'BWI': 17744, 'CMX': 57, 'OKC': 4257, 'ROA': 589, 'SMF': 9318, 'SPI': 285, 'BRW': 120, 'OXR': 230, 'ABI': 473, 'MBS': 634, 'ELM': 214, 'PHX': 35546, 'FCA': 428, 'STL': 10571, 'PWM': 1115, 'ABY': 218, 'BET': 186, 'MHT': 3695, 'DFW': 48535, 'ABE': 997, 'TXK': 180, 'GSP': 2224, 'LSE': 393, 'STX': 88, 'FAY': 344, 'HDN': 327, 'GUC': 189, 'LBB': 1474, 'EKO': 291, 'CRP': 1220, 'EGE': 541, 'FSD': 1094, 'SWF': 902, 'SUN': 407, 'CSG': 216, 'BQK': 160, 'SFO': 21940, 'MEM': 13807, 'ELP': 3575, 'BHM': 3653, 'FLL': 12700, 'ATL': 65773, 'FNT': 1309, 'PIH': 302, 'RIC': 3143, 'AKN': 46, 'DAY': 2502, 'PHF': 871, 'OMA': 4532, 'SJT': 300, 'LCH': 232, 'VPS': 1037, 'BPT': 60, 'LIT': 2843, 'CAE': 1825, 'ICT': 2399, 'FAT': 2389, 'PFN': 536, 'SOP': 44, 'ORD': 62588, 'AVP': 529, 'BTV': 1256, 'AEX': 551, 'BIL': 713, 'SPS': 343, 'ILM': 606, 'SMX': 292, 'PIA': 847, 'RDU': 10344, 'BQN': 240, 'MFE': 745, 'MKE': 4019, 'SYR': 2306, 'LFT': 964, 'HSV': 1494, 'TUS': 4648, 'PIT': 8150, 'MTJ': 384, 'ACY': 160, 'MDW': 16185, 'AZO': 884, 'COS': 2446, 'OAJ': 171, 'JNU': 609, 'IND': 7170, 'ALO': 14, 'KOA': 2756, 'EAU': 14, 'GPT': 1187, 'MGM': 726, 'DTW': 29898, 'HOU': 9251, 'CHA': 830, 'TYS': 2205, 'YUM': 573, 'ADQ': 104, 'ONT': 6657, 'MDT': 1518, 'FWA': 1131, 'JAX': 5773, 'LAX': 38187, 'MSP': 26216, 'HTS': 107, 'MOT': 180, 'BTR': 1791, 'BGR': 694, 'SIT': 184, 'MCO': 21941, 'ROC': 3024, 'AGS': 446, 'SGF': 1840, 'OTZ': 180, 'SAN': 14883, 'BZN': 769, 'GGG': 180, 'YAK': 120, 'JFK': 21328, 'DAB': 755, 'ANC': 2721, 'SUX': 74, 'MSO': 636, 'GNV': 344, 'PHL': 17713, 'OGG': 4152, 'DSM': 2985, 'SAT': 7136, 'SLC': 23420, 'GLH': 4, 'STT': 625, 'ASE': 349, 'CLD': 448, 'RAP': 821, 'SBP': 1127}\n",
      "month_max: ATL  ,departures + arrivals of this month: 65773\n",
      "5 ----------\n",
      "{'BGM': 124, 'DLG': 36, 'PSE': 139, 'MSY': 6303, 'GEG': 2704, 'SNA': 9134, 'BUR': 5682, 'GRB': 1492, 'GTF': 587, 'IDA': 596, 'GRR': 2939, 'LWB': 61, 'EUG': 983, 'PSG': 124, 'PVD': 4213, 'GSO': 2567, 'MYR': 1154, 'OAK': 12605, 'MSN': 2261, 'COD': 186, 'FAR': 947, 'BTM': 124, 'FSM': 408, 'MQT': 170, 'SCC': 124, 'DCA': 15693, 'RFD': 124, 'MLU': 515, 'CID': 1943, 'LWS': 116, 'GTR': 174, 'MTH': 70, 'WRG': 124, 'HLN': 281, 'LEX': 1770, 'RDM': 606, 'FLO': 112, 'ORF': 3715, 'SCE': 62, 'EVV': 1000, 'KTN': 380, 'CRW': 700, 'CWA': 358, 'SAV': 2508, 'TRI': 164, 'CDV': 124, 'CMH': 6610, 'MOD': 523, 'CAK': 1465, 'TYR': 247, 'ADK': 18, 'CHO': 264, 'MOB': 963, 'PNS': 1756, 'MCN': 188, 'CEC': 170, 'LIH': 2571, 'IAH': 33961, 'HNL': 11229, 'SHV': 1586, 'ERI': 240, 'SJC': 10526, 'CVG': 18545, 'TOL': 360, 'BUF': 4850, 'LGA': 21198, 'TLH': 708, 'ACT': 364, 'HPN': 2254, 'RDD': 307, 'AUS': 8905, 'MLI': 1598, 'SJU': 3761, 'ATW': 1043, 'DHN': 276, 'AVL': 591, 'GJT': 935, 'LGB': 2483, 'LYH': 172, 'BFL': 833, 'GFK': 176, 'RNO': 4732, 'SRQ': 1225, 'SBN': 947, 'EYW': 184, 'TTN': 224, 'JAC': 373, 'RST': 712, 'CHS': 2598, 'HRL': 891, 'RSW': 4088, 'TUL': 4243, 'IPL': 214, 'ISP': 2120, 'AMA': 1195, 'MKC': 2, 'BOS': 21752, 'MAF': 1188, 'MLB': 358, 'TUP': 120, 'EWR': 26232, 'LAS': 31622, 'BIS': 532, 'JAN': 2240, 'ITO': 1644, 'FAI': 785, 'XNA': 2358, 'HHH': 186, 'DLH': 362, 'DEN': 40488, 'EWN': 101, 'RHI': 60, 'SGU': 620, 'ALB': 2570, 'CPR': 666, 'LNK': 726, 'OME': 186, 'IAD': 16461, 'BOI': 2964, 'PSP': 2198, 'SBA': 2301, 'IYK': 168, 'MEI': 113, 'BRO': 192, 'DRO': 670, 'BMI': 636, 'SEA': 18854, 'LAN': 796, 'CMI': 487, 'LRD': 518, 'VLD': 174, 'MCI': 11032, 'FLG': 308, 'GRK': 891, 'BNA': 10622, 'CLT': 22091, 'CLL': 308, 'TVC': 592, 'PSC': 474, 'BLI': 104, 'CIC': 236, 'PBI': 4917, 'ABQ': 6814, 'SDF': 3865, 'ACV': 641, 'LAW': 409, 'DAL': 8990, 'BDL': 5344, 'MRY': 1424, 'DBQ': 240, 'CLE': 14251, 'APF': 98, 'PDX': 9740, 'ACK': 16, 'MIA': 10962, 'MFR': 1034, 'TWF': 395, 'ILG': 114, 'TPA': 13360, 'BWI': 18600, 'CMX': 62, 'OKC': 4716, 'ROA': 669, 'SMF': 9985, 'SPI': 298, 'BRW': 124, 'OXR': 234, 'ABI': 486, 'MBS': 664, 'ELM': 232, 'PHX': 35924, 'FCA': 414, 'STL': 11062, 'PWM': 1221, 'ABY': 226, 'BET': 178, 'MHT': 3692, 'DFW': 50899, 'ABE': 1060, 'TXK': 186, 'GSP': 2381, 'LSE': 459, 'STX': 81, 'FAY': 354, 'HDN': 184, 'GUC': 124, 'LBB': 1395, 'EKO': 299, 'CRP': 1216, 'EGE': 426, 'FSD': 1220, 'SWF': 968, 'SUN': 147, 'CSG': 236, 'BQK': 174, 'SFO': 23093, 'MEM': 14706, 'ELP': 3702, 'BHM': 4000, 'FLL': 11432, 'ATL': 68350, 'FNT': 1183, 'PIH': 310, 'RIC': 3346, 'AKN': 70, 'DAY': 2622, 'PHF': 865, 'OMA': 4968, 'SJT': 310, 'LCH': 230, 'VPS': 1156, 'BPT': 60, 'LIT': 2971, 'ICT': 2438, 'FAT': 2713, 'CAE': 1779, 'PFN': 561, 'SOP': 44, 'ORD': 64766, 'AVP': 537, 'BTV': 1313, 'AEX': 412, 'BIL': 776, 'SPS': 413, 'ILM': 656, 'SMX': 300, 'PIA': 886, 'RDU': 11823, 'BQN': 212, 'MFE': 718, 'MKE': 4294, 'SYR': 2116, 'LFT': 972, 'HSV': 1590, 'PIT': 8531, 'TUS': 4917, 'MTJ': 359, 'ACY': 97, 'MDW': 16529, 'AZO': 929, 'PLN': 59, 'COS': 3108, 'OAJ': 178, 'JNU': 744, 'IND': 7492, 'ALO': 51, 'KOA': 2670, 'EAU': 49, 'GPT': 1126, 'MGM': 724, 'DTW': 30682, 'HOU': 9509, 'TYS': 2370, 'CHA': 863, 'YUM': 578, 'ADQ': 124, 'ONT': 7553, 'MDT': 1568, 'FWA': 1202, 'JAX': 6222, 'LAX': 39199, 'MSP': 27090, 'HTS': 1, 'MOT': 186, 'BTR': 1742, 'BGR': 663, 'SIT': 248, 'MCO': 22066, 'ROC': 3007, 'SGF': 1940, 'AGS': 355, 'OTZ': 186, 'SAN': 15849, 'BZN': 772, 'GGG': 186, 'YAK': 124, 'DAB': 650, 'JFK': 21128, 'ANC': 3392, 'SUX': 60, 'MSO': 649, 'GNV': 346, 'PHL': 18113, 'OGG': 4184, 'DSM': 3142, 'SAT': 7919, 'SLC': 23255, 'PMD': 2, 'STT': 460, 'CLD': 464, 'RAP': 935, 'SBP': 1154}\n",
      "month_max: ATL  ,departures + arrivals of this month: 68350\n",
      "6 ----------\n",
      "{'BGM': 156, 'INL': 95, 'DLG': 58, 'PSE': 180, 'MSY': 6317, 'GEG': 2822, 'SNA': 8827, 'BUR': 5577, 'GRB': 1461, 'GTF': 486, 'IDA': 583, 'GRR': 2921, 'LWB': 60, 'EUG': 1086, 'PSG': 120, 'PVD': 4166, 'GSO': 2623, 'MYR': 1267, 'OAK': 12280, 'MSN': 2157, 'COD': 288, 'FAR': 930, 'BTM': 160, 'FSM': 486, 'MQT': 194, 'SCC': 120, 'DCA': 14994, 'RFD': 116, 'MLU': 508, 'CID': 1945, 'LWS': 118, 'GTR': 170, 'MTH': 14, 'WRG': 120, 'HLN': 336, 'LEX': 1844, 'RDM': 647, 'FLO': 118, 'ORF': 3443, 'SCE': 107, 'EVV': 1021, 'KTN': 476, 'CRW': 600, 'CWA': 302, 'SAV': 2559, 'TRI': 233, 'CDV': 120, 'CMH': 6343, 'MOD': 504, 'CAK': 1452, 'TYR': 239, 'ADK': 16, 'CHO': 196, 'MOB': 1046, 'PNS': 1716, 'MCN': 179, 'CEC': 176, 'LIH': 2658, 'IAH': 32347, 'HNL': 11506, 'SHV': 1446, 'ERI': 229, 'GST': 56, 'SJC': 10283, 'CVG': 18752, 'TOL': 348, 'BUF': 4608, 'TLH': 800, 'LGA': 20301, 'ACT': 411, 'HPN': 2356, 'RDD': 300, 'AUS': 8983, 'MLI': 1617, 'SJU': 4026, 'ATW': 1059, 'DHN': 278, 'AVL': 682, 'GJT': 834, 'LGB': 2437, 'LYH': 152, 'BFL': 882, 'GFK': 171, 'RNO': 4544, 'SRQ': 1059, 'SBN': 902, 'EYW': 188, 'BJI': 48, 'TTN': 155, 'JAC': 688, 'RST': 664, 'CHS': 2702, 'RSW': 3492, 'TUL': 4252, 'HRL': 832, 'IPL': 204, 'AMA': 1173, 'ISP': 2073, 'BOS': 21138, 'MAF': 1160, 'MLB': 349, 'TUP': 107, 'EWR': 25654, 'LAS': 30583, 'BIS': 567, 'JAN': 2284, 'ITO': 1602, 'FAI': 1022, 'XNA': 2284, 'HHH': 236, 'DLH': 350, 'DEN': 40552, 'EWN': 160, 'RHI': 60, 'SGU': 599, 'ALB': 2565, 'CPR': 697, 'LNK': 702, 'OME': 178, 'BOI': 3159, 'IAD': 15020, 'PSP': 1727, 'SBA': 2335, 'IYK': 161, 'MEI': 118, 'BRO': 187, 'DRO': 650, 'BMI': 614, 'SEA': 19519, 'LAN': 787, 'CMI': 469, 'LRD': 420, 'VLD': 178, 'MCI': 11160, 'FLG': 356, 'GRK': 853, 'BNA': 10203, 'CLT': 21424, 'CLL': 295, 'TVC': 938, 'PSC': 462, 'BLI': 115, 'CIC': 226, 'ABQ': 7319, 'PBI': 4270, 'SDF': 3754, 'ACV': 677, 'LAW': 404, 'SLE': 95, 'BDL': 5356, 'DAL': 8916, 'MRY': 1528, 'DBQ': 236, 'CLE': 13472, 'APF': 116, 'PDX': 10083, 'ACK': 129, 'MIA': 10457, 'MFR': 1150, 'TWF': 342, 'ILG': 118, 'TPA': 12771, 'BWI': 18620, 'CMX': 60, 'OKC': 4573, 'ROA': 555, 'SMF': 9993, 'SPI': 291, 'BRW': 120, 'OXR': 224, 'ABI': 469, 'MBS': 656, 'ELM': 221, 'PHX': 34434, 'FCA': 674, 'STL': 10822, 'PWM': 1585, 'ABY': 228, 'BET': 172, 'MHT': 3684, 'DFW': 49534, 'ABE': 978, 'TXK': 179, 'GSP': 2350, 'LSE': 404, 'STX': 86, 'FAY': 349, 'HDN': 323, 'GUC': 168, 'LBB': 1352, 'EKO': 318, 'CRP': 1186, 'EGE': 351, 'FSD': 1191, 'SWF': 1021, 'SUN': 637, 'CSG': 230, 'BQK': 178, 'SFO': 23713, 'MEM': 14372, 'ELP': 3703, 'BHM': 4178, 'FLL': 10978, 'ATL': 71968, 'FNT': 1181, 'PIH': 300, 'YKM': 95, 'RIC': 3260, 'AKN': 60, 'DAY': 2637, 'PHF': 939, 'OMA': 4842, 'SJT': 300, 'LCH': 180, 'VPS': 1226, 'BPT': 60, 'LIT': 2912, 'FAT': 2748, 'ICT': 2380, 'CAE': 1694, 'PFN': 564, 'SOP': 52, 'ORD': 63036, 'AVP': 516, 'BTV': 1388, 'AEX': 432, 'BIL': 929, 'SPS': 399, 'ILM': 754, 'SMX': 290, 'PIA': 862, 'RDU': 12080, 'BQN': 239, 'MFE': 761, 'MKE': 4644, 'SYR': 2167, 'LFT': 995, 'HSV': 1691, 'PIT': 8381, 'TUS': 4756, 'MTJ': 405, 'ACY': 118, 'MDW': 16175, 'AZO': 841, 'PLN': 194, 'COS': 3137, 'OAJ': 217, 'JNU': 1000, 'IND': 7519, 'ALO': 58, 'KOA': 2822, 'EAU': 9, 'GPT': 1155, 'MGM': 659, 'DTW': 30132, 'HOU': 9507, 'CHA': 722, 'TYS': 2427, 'YUM': 580, 'ADQ': 120, 'ONT': 7360, 'MDT': 1610, 'FWA': 1165, 'JAX': 6302, 'LAX': 38911, 'MSP': 27114, 'HTS': 48, 'MOT': 180, 'BGR': 705, 'BTR': 1665, 'SIT': 296, 'MCO': 21925, 'ROC': 2901, 'SGF': 1940, 'WYS': 110, 'AGS': 383, 'OTZ': 178, 'SAN': 16673, 'BZN': 1017, 'GGG': 180, 'YAK': 120, 'DAB': 572, 'JFK': 20979, 'ANC': 4412, 'SUX': 61, 'MSO': 813, 'GNV': 354, 'PHL': 17506, 'OGG': 4394, 'DSM': 3073, 'SAT': 7970, 'SLC': 25882, 'PMD': 96, 'STT': 468, 'CLD': 452, 'RAP': 1005, 'SBP': 1169, 'ASE': 902}\n",
      "month_max: ATL  ,departures + arrivals of this month: 71968\n",
      "7 ----------\n"
     ]
    },
    {
     "name": "stdout",
     "output_type": "stream",
     "text": [
      "{'BGM': 124, 'INL': 116, 'DLG': 62, 'PSE': 186, 'MSY': 6533, 'GEG': 2934, 'SNA': 9091, 'BUR': 5730, 'GRB': 1408, 'GTF': 473, 'IDA': 591, 'GRR': 2961, 'LWB': 58, 'EUG': 1200, 'PSG': 124, 'PVD': 4350, 'GSO': 2625, 'MYR': 1310, 'OAK': 12969, 'MSN': 2221, 'COD': 309, 'FAR': 883, 'BTM': 170, 'FSM': 520, 'MQT': 231, 'SCC': 124, 'DCA': 15278, 'RFD': 115, 'MLU': 512, 'CID': 1977, 'LWS': 120, 'GTR': 169, 'WRG': 124, 'HLN': 352, 'LEX': 1760, 'RDM': 669, 'FLO': 108, 'ORF': 3388, 'SCE': 124, 'EVV': 1016, 'KTN': 496, 'CRW': 588, 'CWA': 290, 'SAV': 2510, 'TRI': 224, 'CDV': 124, 'CMH': 6495, 'MOD': 516, 'CAK': 1608, 'TYR': 247, 'ADK': 18, 'CHO': 170, 'MOB': 1114, 'PNS': 1862, 'MCN': 187, 'CEC': 184, 'LIH': 2784, 'IAH': 33148, 'HNL': 11912, 'SHV': 1437, 'ERI': 235, 'GST': 62, 'SJC': 10895, 'CVG': 19201, 'TOL': 368, 'BUF': 4591, 'TLH': 807, 'LGA': 20611, 'ACT': 418, 'HPN': 2391, 'RDD': 310, 'AUS': 9308, 'MLI': 1598, 'SJU': 4359, 'ATW': 1041, 'DHN': 290, 'AVL': 806, 'GJT': 832, 'LGB': 2494, 'LYH': 150, 'BFL': 914, 'GFK': 169, 'RNO': 4678, 'SRQ': 959, 'SBN': 907, 'EYW': 188, 'BJI': 56, 'TTN': 144, 'JAC': 858, 'RST': 659, 'CHS': 2725, 'RSW': 3527, 'TUL': 4454, 'HRL': 852, 'IPL': 209, 'AMA': 1211, 'ISP': 2195, 'BOS': 21427, 'MAF': 1202, 'MLB': 351, 'TUP': 88, 'EWR': 26165, 'LAS': 31424, 'BIS': 584, 'JAN': 2302, 'ITO': 1639, 'FAI': 1082, 'XNA': 2288, 'HHH': 243, 'DLH': 345, 'DEN': 42772, 'EWN': 170, 'RHI': 54, 'SGU': 617, 'ALB': 2624, 'CPR': 726, 'LNK': 702, 'OME': 186, 'BOI': 3383, 'IAD': 14670, 'PSP': 1694, 'SBA': 2425, 'IYK': 162, 'MEI': 116, 'BRO': 197, 'DRO': 660, 'BMI': 598, 'SEA': 20468, 'LAN': 756, 'CMI': 488, 'LRD': 399, 'VLD': 174, 'MCI': 11936, 'FLG': 370, 'GRK': 873, 'BNA': 10404, 'CLT': 21970, 'TVC': 1113, 'CLL': 280, 'PSC': 472, 'BLI': 120, 'CIC': 226, 'PBI': 4270, 'ABQ': 7641, 'SDF': 3850, 'ACV': 693, 'LAW': 415, 'SLE': 120, 'BDL': 5709, 'DAL': 9164, 'MRY': 1598, 'DBQ': 248, 'CLE': 13015, 'APF': 119, 'PDX': 10517, 'ACK': 210, 'MIA': 10777, 'MFR': 1205, 'TWF': 363, 'ILG': 112, 'TPA': 13108, 'BWI': 19381, 'CMX': 62, 'OKC': 4619, 'ROA': 427, 'SMF': 10492, 'SPI': 293, 'BRW': 124, 'OXR': 228, 'ABI': 480, 'MBS': 654, 'ELM': 221, 'PHX': 35690, 'FCA': 768, 'STL': 11133, 'PWM': 1766, 'ABY': 224, 'BET': 176, 'MHT': 3748, 'DFW': 51300, 'ABE': 957, 'TXK': 187, 'GSP': 2323, 'LSE': 401, 'STX': 86, 'FAY': 357, 'HDN': 369, 'GUC': 184, 'LBB': 1396, 'EKO': 335, 'CRP': 1172, 'EGE': 366, 'FSD': 1142, 'SWF': 1043, 'SUN': 682, 'CSG': 223, 'BQK': 180, 'SFO': 24692, 'MEM': 14402, 'ELP': 3817, 'BHM': 4279, 'FLL': 11164, 'ATL': 73969, 'FNT': 1204, 'PIH': 312, 'YKM': 120, 'RIC': 3365, 'AKN': 78, 'DAY': 2720, 'PHF': 980, 'OMA': 4910, 'SJT': 310, 'LCH': 170, 'VPS': 1263, 'BPT': 62, 'LIT': 2957, 'FAT': 2840, 'ICT': 2479, 'CAE': 1708, 'PFN': 584, 'SOP': 61, 'ORD': 64061, 'AVP': 519, 'BTV': 1408, 'AEX': 469, 'BIL': 981, 'SPS': 416, 'ILM': 785, 'SMX': 298, 'PIA': 882, 'RDU': 12360, 'BQN': 248, 'MFE': 809, 'MKE': 4992, 'SYR': 2247, 'LFT': 1024, 'HSV': 1656, 'PIT': 8677, 'TUS': 4819, 'MTJ': 434, 'ACY': 120, 'MDW': 16526, 'AZO': 842, 'PLN': 242, 'COS': 3390, 'OAJ': 228, 'JNU': 1056, 'IND': 7728, 'ALO': 58, 'KOA': 2883, 'GPT': 1154, 'MGM': 638, 'DTW': 30492, 'HOU': 9908, 'CHA': 686, 'TYS': 2486, 'YUM': 562, 'ADQ': 124, 'ONT': 7555, 'FWA': 1170, 'MDT': 1547, 'JAX': 6596, 'LAX': 41837, 'MSP': 27366, 'HTS': 50, 'MOT': 174, 'BTR': 1663, 'BGR': 798, 'SIT': 310, 'MCO': 23093, 'ROC': 2929, 'SGF': 1974, 'WYS': 142, 'AGS': 378, 'OTZ': 184, 'SAN': 17433, 'BZN': 1091, 'GGG': 186, 'YAK': 124, 'DAB': 509, 'JFK': 21964, 'ANC': 4696, 'SUX': 54, 'MSO': 866, 'GNV': 356, 'PHL': 18063, 'OGG': 4593, 'DSM': 3045, 'SAT': 8404, 'SLC': 27141, 'PMD': 124, 'STT': 480, 'ASE': 1163, 'CLD': 460, 'RAP': 1039, 'SBP': 1235}\n",
      "month_max: ATL  ,departures + arrivals of this month: 73969\n",
      "8 ----------\n",
      "{'BGM': 125, 'INL': 97, 'DLG': 62, 'PSE': 186, 'MSY': 6530, 'GEG': 2946, 'BUR': 5786, 'SNA': 9169, 'GRB': 1462, 'GTF': 465, 'IDA': 591, 'GRR': 2966, 'LWB': 62, 'EUG': 1210, 'PSG': 124, 'PVD': 4390, 'GSO': 2625, 'MYR': 1271, 'OAK': 13159, 'MSN': 2327, 'COD': 310, 'BTM': 155, 'FAR': 868, 'FSM': 536, 'MQT': 232, 'SCC': 124, 'DCA': 15581, 'RFD': 117, 'MLU': 524, 'CID': 1984, 'LWS': 124, 'GTR': 176, 'WRG': 124, 'HLN': 336, 'LEX': 1730, 'RDM': 680, 'FLO': 112, 'ORF': 3461, 'SCE': 123, 'EVV': 1050, 'KTN': 496, 'CRW': 598, 'CWA': 302, 'SAV': 2498, 'TRI': 266, 'CDV': 124, 'CMH': 6466, 'MOD': 526, 'CAK': 1730, 'TYR': 308, 'ADK': 18, 'CHO': 191, 'MOB': 1052, 'PNS': 1742, 'MCN': 187, 'CEC': 187, 'LIH': 2776, 'IAH': 33427, 'HNL': 11979, 'SHV': 1504, 'ERI': 272, 'GST': 62, 'SJC': 10917, 'CVG': 19459, 'TOL': 371, 'BUF': 4528, 'TLH': 794, 'LGA': 21015, 'ACT': 471, 'HPN': 2375, 'RDD': 313, 'AUS': 9396, 'MLI': 1690, 'SJU': 4158, 'ATW': 1133, 'DHN': 293, 'AVL': 790, 'GJT': 842, 'LGB': 2483, 'LYH': 158, 'BFL': 917, 'GFK': 198, 'RNO': 4708, 'SRQ': 922, 'SBN': 912, 'EYW': 170, 'BJI': 60, 'TTN': 154, 'JAC': 843, 'RST': 728, 'CHS': 2750, 'HRL': 850, 'RSW': 3397, 'TUL': 4390, 'IPL': 216, 'ISP': 2196, 'AMA': 1216, 'BOS': 21661, 'MAF': 1208, 'MLB': 344, 'TUP': 94, 'EWR': 26997, 'LAS': 31441, 'BIS': 581, 'JAN': 2338, 'ITO': 1650, 'FAI': 1061, 'XNA': 2348, 'HHH': 247, 'DLH': 320, 'DEN': 42872, 'EWN': 174, 'RHI': 60, 'SGU': 618, 'ALB': 2696, 'CPR': 716, 'LNK': 729, 'OME': 186, 'BOI': 3350, 'IAD': 14691, 'PSP': 1677, 'SBA': 2463, 'IYK': 169, 'MEI': 122, 'BRO': 194, 'DRO': 665, 'BMI': 748, 'SEA': 20262, 'LAN': 824, 'CMI': 489, 'LRD': 418, 'VLD': 178, 'MCI': 11947, 'FLG': 372, 'GRK': 938, 'BNA': 10492, 'CLT': 21969, 'TVC': 1040, 'CLL': 285, 'PSC': 480, 'BLI': 124, 'CIC': 232, 'PBI': 4180, 'ABQ': 7605, 'SDF': 3974, 'ACV': 716, 'LAW': 418, 'SLE': 124, 'DAL': 9334, 'BDL': 5810, 'MRY': 1620, 'DBQ': 248, 'CLE': 13622, 'APF': 114, 'PDX': 10637, 'ACK': 215, 'MIA': 10714, 'TWF': 367, 'MFR': 1216, 'ILG': 106, 'BWI': 19558, 'TPA': 13059, 'CMX': 62, 'OKC': 4721, 'ROA': 498, 'SMF': 10438, 'SPI': 305, 'BRW': 124, 'OXR': 232, 'ABI': 479, 'MBS': 678, 'ELM': 200, 'PHX': 35766, 'FCA': 770, 'STL': 11384, 'PWM': 1915, 'ABY': 237, 'BET': 178, 'MHT': 3833, 'ABE': 992, 'DFW': 51546, 'TXK': 185, 'GSP': 2343, 'LSE': 438, 'STX': 82, 'FAY': 363, 'HDN': 372, 'GUC': 186, 'LBB': 1405, 'EKO': 339, 'CRP': 1067, 'EGE': 364, 'FSD': 1245, 'SWF': 981, 'SUN': 677, 'CSG': 237, 'BQK': 184, 'SFO': 24909, 'MEM': 14716, 'ELP': 3816, 'BHM': 4396, 'FLL': 10918, 'ATL': 74569, 'FNT': 1221, 'PIH': 309, 'YKM': 124, 'RIC': 3403, 'AKN': 62, 'DAY': 2823, 'PHF': 990, 'OMA': 4845, 'SJT': 310, 'LCH': 178, 'VPS': 1257, 'BPT': 62, 'LIT': 3024, 'FAT': 2815, 'ICT': 2525, 'CAE': 1772, 'PFN': 595, 'SOP': 58, 'ORD': 64946, 'AVP': 508, 'BTV': 1370, 'AEX': 399, 'BIL': 963, 'SPS': 417, 'ILM': 748, 'SMX': 303, 'PIA': 929, 'RDU': 12535, 'BQN': 248, 'MFE': 794, 'MKE': 5491, 'SYR': 2404, 'LFT': 1038, 'HSV': 1828, 'PIT': 8661, 'TUS': 4808, 'MTJ': 440, 'ACY': 109, 'MDW': 16512, 'AZO': 855, 'PLN': 200, 'COS': 3369, 'OAJ': 232, 'JNU': 1054, 'IND': 7503, 'ALO': 60, 'KOA': 2924, 'GPT': 1274, 'MGM': 663, 'DTW': 30504, 'HOU': 10124, 'TYS': 2533, 'CHA': 710, 'YUM': 562, 'ADQ': 124, 'ONT': 7648, 'FWA': 1206, 'MDT': 1666, 'JAX': 6533, 'LAX': 42166, 'MSP': 27159, 'HTS': 34, 'MOT': 184, 'BTR': 1693, 'BGR': 791, 'SIT': 310, 'MCO': 22856, 'ROC': 3028, 'SGF': 1993, 'WYS': 140, 'AGS': 402, 'OTZ': 186, 'SAN': 17713, 'BZN': 1066, 'GGG': 186, 'YAK': 124, 'DAB': 486, 'JFK': 22132, 'ANC': 4530, 'SUX': 122, 'MSO': 754, 'GNV': 339, 'PHL': 18075, 'OGG': 4618, 'DSM': 3116, 'SAT': 8492, 'SLC': 27114, 'PMD': 116, 'STT': 444, 'ASE': 1171, 'CLD': 471, 'RAP': 1048, 'SBP': 1247}\n",
      "month_max: ATL  ,departures + arrivals of this month: 74569\n",
      "9 ----------\n",
      "{'BGM': 120, 'INL': 60, 'DLG': 28, 'PSE': 180, 'MSY': 6112, 'GEG': 2706, 'SNA': 8570, 'BUR': 5457, 'GRB': 1320, 'GTF': 410, 'IDA': 576, 'GRR': 2609, 'LWB': 60, 'EUG': 1072, 'PSG': 120, 'PVD': 4313, 'MYR': 1180, 'GSO': 2262, 'OAK': 12532, 'MSN': 2153, 'COD': 299, 'FAR': 834, 'BTM': 120, 'FSM': 516, 'MQT': 167, 'SCC': 120, 'DCA': 14102, 'RFD': 111, 'MLU': 486, 'CID': 1896, 'LWS': 118, 'GTR': 174, 'WRG': 120, 'HLN': 272, 'LEX': 1610, 'RDM': 568, 'FLO': 112, 'ORF': 3345, 'SCE': 120, 'EVV': 964, 'KTN': 392, 'CRW': 548, 'CWA': 288, 'SAV': 2387, 'TRI': 176, 'CDV': 120, 'CMH': 6040, 'MOD': 474, 'CAK': 1718, 'TYR': 296, 'ADK': 18, 'CHO': 220, 'MOB': 992, 'PNS': 1615, 'MCN': 112, 'CEC': 176, 'LIH': 2404, 'IAH': 29737, 'HNL': 10668, 'SHV': 1443, 'ERI': 241, 'SJC': 10296, 'CVG': 17528, 'TOL': 334, 'BUF': 3996, 'TLH': 680, 'LGA': 19699, 'ACT': 402, 'HPN': 2235, 'RDD': 286, 'AUS': 9073, 'MLI': 1663, 'SJU': 3116, 'ATW': 1066, 'DHN': 277, 'AVL': 663, 'GJT': 671, 'LGB': 2305, 'LYH': 110, 'BFL': 797, 'GFK': 173, 'RNO': 4344, 'SRQ': 870, 'SBN': 939, 'EYW': 109, 'BJI': 34, 'TTN': 64, 'JAC': 705, 'RST': 672, 'CHS': 2694, 'TUL': 4321, 'HRL': 727, 'RSW': 3022, 'IPL': 215, 'AMA': 1193, 'ISP': 2008, 'BOS': 19798, 'MAF': 1197, 'MLB': 277, 'TUP': 88, 'EWR': 23964, 'LAS': 30297, 'BIS': 508, 'JAN': 2222, 'ITO': 1594, 'FAI': 834, 'XNA': 2360, 'HHH': 217, 'DLH': 400, 'DEN': 38538, 'EWN': 158, 'RHI': 50, 'SGU': 600, 'ALB': 2550, 'CPR': 631, 'LNK': 684, 'OME': 180, 'BOI': 3066, 'IAD': 13363, 'PSP': 1680, 'SBA': 2269, 'IYK': 155, 'MEI': 118, 'BRO': 252, 'DRO': 591, 'BMI': 859, 'SEA': 18559, 'LAN': 694, 'CMI': 468, 'LRD': 376, 'VLD': 160, 'MCI': 11477, 'FLG': 346, 'GRK': 800, 'BNA': 9752, 'CLT': 20498, 'CLL': 299, 'TVC': 671, 'PSC': 438, 'BLI': 66, 'CIC': 224, 'ABQ': 6866, 'PBI': 3734, 'SDF': 3777, 'ACV': 616, 'LAW': 396, 'SLE': 110, 'BDL': 5375, 'DAL': 8776, 'MRY': 1489, 'DBQ': 230, 'CLE': 11319, 'APF': 62, 'PDX': 9821, 'ACK': 63, 'MIA': 9910, 'MFR': 990, 'TWF': 350, 'ILG': 13, 'TPA': 11973, 'BWI': 18176, 'CMX': 60, 'OKC': 4551, 'ROA': 556, 'SMF': 9799, 'SPI': 284, 'BRW': 120, 'OXR': 226, 'ABI': 458, 'MBS': 584, 'ELM': 161, 'PHX': 33771, 'FCA': 652, 'STL': 10483, 'PWM': 1575, 'ABY': 214, 'BET': 170, 'MHT': 3534, 'DFW': 48618, 'ABE': 889, 'TXK': 232, 'GSP': 2216, 'LSE': 436, 'STX': 56, 'FAY': 342, 'HDN': 297, 'GUC': 150, 'LBB': 1381, 'EKO': 315, 'CRP': 940, 'EGE': 296, 'FSD': 989, 'SWF': 885, 'SUN': 654, 'CSG': 216, 'BQK': 164, 'SFO': 23194, 'MEM': 13894, 'ELP': 3460, 'BHM': 3910, 'FLL': 9761, 'ATL': 68529, 'PIH': 304, 'YKM': 118, 'FNT': 1243, 'RIC': 3264, 'AKN': 28, 'DAY': 2610, 'PHF': 921, 'OMA': 4533, 'SJT': 300, 'LCH': 174, 'VPS': 1071, 'BPT': 60, 'LIT': 2626, 'FAT': 2518, 'ICT': 2394, 'CAE': 1712, 'PFN': 576, 'SOP': 41, 'ORD': 60820, 'AVP': 372, 'BTV': 1171, 'AEX': 454, 'BIL': 748, 'SPS': 394, 'ILM': 641, 'SMX': 279, 'PIA': 941, 'RDU': 11242, 'BQN': 174, 'MFE': 787, 'MKE': 5241, 'SYR': 2080, 'LFT': 947, 'HSV': 1822, 'TUS': 4658, 'PIT': 7908, 'MTJ': 372, 'ACY': 91, 'ROW': 103, 'MDW': 15484, 'AZO': 784, 'PLN': 110, 'COS': 3034, 'OAJ': 212, 'JNU': 756, 'IND': 6875, 'ALO': 50, 'KOA': 2435, 'GPT': 1314, 'MGM': 620, 'DTW': 28335, 'HOU': 9347, 'TYS': 2323, 'CHA': 652, 'YUM': 538, 'ADQ': 120, 'ONT': 7220, 'FWA': 1084, 'MDT': 1248, 'JAX': 5625, 'LAX': 39311, 'MSP': 24537, 'MOT': 178, 'BTR': 1570, 'BGR': 678, 'SIT': 240, 'MCO': 19827, 'ROC': 2599, 'SGF': 1809, 'WYS': 140, 'AGS': 359, 'OTZ': 180, 'SAN': 16778, 'BZN': 878, 'GGG': 180, 'YAK': 120, 'DAB': 458, 'JFK': 20455, 'ANC': 3502, 'SUX': 110, 'MSO': 457, 'GNV': 262, 'PHL': 16565, 'OGG': 4008, 'DSM': 2838, 'SAT': 8171, 'SLC': 24045, 'PMD': 109, 'STT': 284, 'ASE': 759, 'CLD': 414, 'RAP': 805, 'SBP': 1198}\n",
      "month_max: ATL  ,departures + arrivals of this month: 68529\n",
      "10 ----------\n"
     ]
    },
    {
     "name": "stdout",
     "output_type": "stream",
     "text": [
      "{'BGM': 124, 'INL': 62, 'PSE': 176, 'MSY': 6688, 'GEG': 2825, 'SNA': 9002, 'BUR': 5681, 'GRB': 1361, 'GTF': 426, 'IDA': 590, 'GRR': 2716, 'LWB': 62, 'EUG': 1112, 'PSG': 124, 'PVD': 4428, 'GSO': 2432, 'MYR': 1203, 'OAK': 12863, 'MSN': 2296, 'COD': 192, 'FAR': 760, 'BTM': 124, 'FSM': 546, 'MQT': 170, 'SCC': 124, 'DCA': 14959, 'RFD': 116, 'MLU': 516, 'CID': 2027, 'LWS': 124, 'GTR': 175, 'WRG': 124, 'HLN': 282, 'LEX': 1569, 'RDM': 596, 'FLO': 122, 'ORF': 3374, 'SCE': 124, 'EVV': 1034, 'KTN': 372, 'CRW': 575, 'CWA': 302, 'SAV': 2565, 'TRI': 237, 'CDV': 124, 'CMH': 6382, 'MOD': 510, 'CAK': 1826, 'TYR': 309, 'ADK': 16, 'CHO': 240, 'MOB': 1068, 'PNS': 1768, 'MCN': 132, 'CEC': 184, 'LIH': 2462, 'IAH': 33044, 'HNL': 10931, 'SHV': 1534, 'ERI': 240, 'SJC': 10728, 'CVG': 18356, 'TOL': 354, 'BUF': 4126, 'TLH': 778, 'LGA': 20975, 'ACT': 417, 'HPN': 2297, 'RDD': 304, 'AUS': 9430, 'MLI': 1758, 'SJU': 3122, 'ATW': 1132, 'DHN': 251, 'AVL': 742, 'GJT': 716, 'LGB': 2302, 'LYH': 114, 'BFL': 825, 'GFK': 225, 'RNO': 4406, 'SRQ': 858, 'SBN': 986, 'EYW': 125, 'BJI': 54, 'JAC': 453, 'RST': 720, 'CHS': 2916, 'RSW': 3489, 'TUL': 4561, 'HRL': 748, 'IPL': 230, 'ISP': 2036, 'AMA': 1205, 'BOS': 20751, 'MAF': 1300, 'MLB': 291, 'TUP': 88, 'EWR': 25764, 'LAS': 31798, 'BIS': 481, 'JAN': 2416, 'ITO': 1596, 'FAI': 800, 'XNA': 2557, 'HHH': 221, 'DLH': 418, 'DEN': 39962, 'EWN': 168, 'RHI': 54, 'SGU': 619, 'ALB': 2628, 'CPR': 612, 'LNK': 720, 'OME': 186, 'BOI': 3186, 'IAD': 13910, 'PSP': 2058, 'SBA': 2386, 'IYK': 169, 'MEI': 116, 'BRO': 302, 'DRO': 603, 'BMI': 913, 'SEA': 18718, 'LAN': 730, 'CMI': 488, 'LRD': 356, 'VLD': 229, 'MCI': 12104, 'FLG': 310, 'GRK': 851, 'BNA': 10337, 'CLT': 21984, 'CLL': 302, 'TVC': 652, 'PSC': 470, 'BLI': 62, 'CIC': 240, 'PBI': 4193, 'ABQ': 7331, 'SDF': 4061, 'ACV': 648, 'LAW': 417, 'SLE': 115, 'BDL': 5565, 'DAL': 9413, 'MRY': 1553, 'DBQ': 240, 'CLE': 12244, 'APF': 1, 'PDX': 9979, 'MIA': 10180, 'MFR': 1028, 'TWF': 326, 'TPA': 12684, 'BWI': 18810, 'CMX': 62, 'OKC': 4974, 'ROA': 597, 'SMF': 10241, 'SPI': 302, 'BRW': 124, 'OXR': 238, 'ABI': 480, 'MBS': 619, 'ELM': 170, 'PHX': 35338, 'FCA': 562, 'STL': 11047, 'PWM': 1549, 'ABY': 228, 'BET': 178, 'MHT': 3671, 'ABE': 952, 'DFW': 50279, 'TXK': 248, 'GSP': 2319, 'LSE': 464, 'STX': 50, 'FAY': 424, 'HDN': 310, 'GUC': 130, 'LBB': 1448, 'EKO': 301, 'CRP': 860, 'EGE': 286, 'FSD': 1041, 'SWF': 920, 'SUN': 509, 'BQK': 176, 'CSG': 286, 'SFO': 24132, 'MEM': 14596, 'ELP': 3642, 'BHM': 4208, 'FLL': 10409, 'ATL': 73883, 'PIH': 311, 'YKM': 124, 'FNT': 1320, 'RIC': 3588, 'DAY': 2965, 'PHF': 996, 'OMA': 4913, 'SJT': 310, 'LCH': 186, 'VPS': 1223, 'BPT': 62, 'LIT': 2802, 'FAT': 2753, 'ICT': 2554, 'CAE': 1801, 'PFN': 669, 'SOP': 44, 'ORD': 64000, 'AVP': 489, 'BTV': 1060, 'AEX': 438, 'BIL': 762, 'SPS': 418, 'ILM': 605, 'SMX': 302, 'PIA': 1049, 'RDU': 11678, 'BQN': 228, 'MFE': 870, 'MKE': 5827, 'SYR': 2334, 'LFT': 960, 'HSV': 1981, 'PIT': 8345, 'TUS': 5017, 'MTJ': 262, 'ACY': 99, 'ROW': 124, 'MDW': 16299, 'AZO': 823, 'PLN': 116, 'COS': 3173, 'OAJ': 203, 'JNU': 673, 'IND': 7330, 'ALO': 54, 'KOA': 2518, 'GPT': 1438, 'MGM': 651, 'DTW': 29942, 'HOU': 9697, 'CHA': 709, 'TYS': 2520, 'YUM': 612, 'ADQ': 124, 'ONT': 7521, 'FWA': 1137, 'MDT': 1251, 'JAX': 5915, 'LAX': 40847, 'MSP': 25508, 'MOT': 186, 'BGR': 664, 'BTR': 1668, 'SIT': 186, 'MCO': 21181, 'ROC': 2793, 'SGF': 1886, 'AGS': 444, 'OTZ': 186, 'SAN': 17324, 'BZN': 849, 'GGG': 186, 'YAK': 124, 'DAB': 485, 'JFK': 20970, 'ANC': 2940, 'SUX': 116, 'MSO': 530, 'GNV': 274, 'PHL': 17155, 'OGG': 4076, 'DSM': 2979, 'SAT': 8542, 'SLC': 24549, 'PMD': 116, 'STT': 288, 'ASE': 600, 'CLD': 448, 'RAP': 709, 'SBP': 1261}\n",
      "month_max: ATL  ,departures + arrivals of this month: 73883\n",
      "11 ----------\n",
      "{'BGM': 118, 'INL': 6, 'PSE': 229, 'MSY': 6874, 'GEG': 2812, 'SNA': 8610, 'BUR': 5482, 'GRB': 1209, 'GTF': 404, 'IDA': 567, 'GRR': 2528, 'LWB': 10, 'EUG': 1058, 'PSG': 116, 'PVD': 4097, 'GSO': 2231, 'MYR': 985, 'OAK': 12262, 'MSN': 2199, 'COD': 179, 'FAR': 772, 'BTM': 116, 'FSM': 524, 'MQT': 163, 'SCC': 116, 'DCA': 14229, 'RFD': 115, 'MLU': 492, 'CID': 1857, 'LWS': 112, 'GTR': 162, 'WRG': 116, 'HLN': 273, 'LEX': 1445, 'RDM': 571, 'FLO': 108, 'ORF': 3235, 'SCE': 116, 'EVV': 926, 'KTN': 356, 'CRW': 542, 'CWA': 280, 'SAV': 2487, 'TRI': 204, 'CDV': 116, 'CMH': 6243, 'MOD': 491, 'CAK': 1659, 'TYR': 295, 'ADK': 16, 'CHO': 221, 'MOB': 1070, 'PNS': 1722, 'MCN': 138, 'CEC': 174, 'LIH': 2528, 'IAH': 31068, 'HNL': 10999, 'SHV': 1422, 'ERI': 180, 'SJC': 10169, 'CVG': 18112, 'TOL': 330, 'BUF': 4022, 'LGA': 19852, 'TLH': 750, 'ACT': 398, 'HPN': 1993, 'RDD': 293, 'AUS': 8919, 'MLI': 1577, 'SJU': 3505, 'ATW': 993, 'DHN': 267, 'LGB': 2347, 'AVL': 682, 'GJT': 682, 'LYH': 108, 'BFL': 795, 'GFK': 226, 'RNO': 4263, 'SRQ': 1121, 'SBN': 813, 'EYW': 163, 'BJI': 4, 'JAC': 466, 'RST': 703, 'CHS': 2729, 'RSW': 4325, 'TUL': 4174, 'HRL': 664, 'IPL': 212, 'AMA': 1305, 'ISP': 1773, 'BOS': 19793, 'MAF': 1271, 'MLB': 342, 'TUP': 88, 'EWR': 24948, 'LAS': 30453, 'BIS': 509, 'JAN': 2366, 'ITO': 1543, 'FAI': 762, 'XNA': 2497, 'HHH': 208, 'DLH': 382, 'DEN': 38669, 'EWN': 162, 'RHI': 48, 'SGU': 594, 'ALB': 2437, 'CPR': 586, 'LNK': 679, 'OME': 174, 'BOI': 3032, 'IAD': 13788, 'SBA': 2431, 'PSP': 2275, 'IYK': 163, 'MEI': 106, 'BRO': 218, 'DRO': 525, 'BMI': 876, 'SEA': 17334, 'LAN': 709, 'CMI': 464, 'LRD': 332, 'VLD': 164, 'MCI': 11486, 'PIR': 2, 'FLG': 318, 'GRK': 842, 'BNA': 10152, 'CLL': 284, 'CLT': 21442, 'TVC': 523, 'PSC': 446, 'BLI': 59, 'CIC': 228, 'ABQ': 7200, 'PBI': 4816, 'SDF': 3987, 'ACV': 590, 'LAW': 396, 'SLE': 109, 'BDL': 5327, 'DAL': 9162, 'MRY': 1514, 'DBQ': 228, 'CLE': 11358, 'PDX': 9778, 'MIA': 10198, 'MFR': 1005, 'TWF': 304, 'TPA': 13044, 'BWI': 17899, 'CMX': 7, 'OKC': 4680, 'ROA': 734, 'SMF': 9667, 'SPI': 289, 'BRW': 116, 'OXR': 211, 'ABI': 460, 'MBS': 586, 'ELM': 203, 'PHX': 34140, 'FCA': 540, 'STL': 10762, 'PWM': 1306, 'ABY': 212, 'BET': 166, 'MHT': 3269, 'DFW': 48465, 'ABE': 889, 'TXK': 238, 'GSP': 2179, 'LSE': 436, 'STX': 66, 'FAY': 404, 'HDN': 296, 'GUC': 118, 'LBB': 1433, 'EKO': 286, 'CRP': 826, 'EGE': 238, 'FSD': 1091, 'SWF': 984, 'SUN': 526, 'CSG': 282, 'BQK': 161, 'SFO': 23190, 'MEM': 13932, 'ELP': 3457, 'BHM': 4145, 'FLL': 11449, 'ATL': 69358, 'PIH': 299, 'YKM': 115, 'FNT': 1492, 'RIC': 3342, 'DAY': 2770, 'PHF': 866, 'OMA': 4543, 'SJT': 298, 'LCH': 170, 'BPT': 62, 'VPS': 1150, 'LIT': 2636, 'FAT': 2719, 'ICT': 2517, 'CAE': 1760, 'PFN': 576, 'SOP': 18, 'ORD': 60227, 'AVP': 400, 'BTV': 1054, 'AEX': 391, 'BIL': 774, 'SPS': 398, 'ILM': 613, 'SMX': 290, 'PIA': 1010, 'RDU': 11206, 'BQN': 238, 'MFE': 818, 'MKE': 5635, 'SYR': 2195, 'LFT': 866, 'HSV': 1715, 'PIT': 7680, 'TUS': 4887, 'MTJ': 238, 'ACY': 90, 'ROW': 120, 'MDW': 15278, 'AZO': 778, 'PLN': 11, 'COS': 2915, 'OAJ': 212, 'JNU': 592, 'IND': 7002, 'ALO': 56, 'KOA': 2489, 'GPT': 1368, 'MGM': 620, 'DTW': 27888, 'HOU': 9270, 'CHA': 677, 'TYS': 2438, 'YUM': 606, 'ADQ': 116, 'ONT': 7188, 'FWA': 1070, 'MDT': 1304, 'JAX': 5798, 'LAX': 39276, 'MSP': 24418, 'MOT': 176, 'BTR': 1645, 'BGR': 375, 'SIT': 180, 'MCO': 21436, 'ROC': 2691, 'SGF': 1765, 'AGS': 404, 'OTZ': 174, 'SAN': 16406, 'BZN': 756, 'GGG': 178, 'YAK': 116, 'JFK': 20606, 'ANC': 2486, 'DAB': 468, 'SUX': 63, 'MSO': 507, 'GNV': 278, 'PHL': 16526, 'OGG': 3968, 'DSM': 2792, 'SAT': 7830, 'SLC': 23737, 'PMD': 110, 'STT': 404, 'RAP': 685, 'ASE': 521, 'CLD': 479, 'SBP': 1195}\n",
      "month_max: ATL  ,departures + arrivals of this month: 69358\n",
      "12 ----------\n",
      "{'BGM': 116, 'PSE': 248, 'MSY': 6867, 'GEG': 2944, 'SNA': 8774, 'BUR': 5560, 'GRB': 1306, 'GTF': 420, 'IDA': 570, 'GRR': 2526, 'EUG': 1098, 'PSG': 120, 'PVD': 4010, 'GSO': 2165, 'MYR': 867, 'OAK': 12369, 'MSN': 2121, 'COD': 186, 'FAR': 797, 'BTM': 124, 'FSM': 536, 'MQT': 167, 'SCC': 120, 'DCA': 13863, 'RFD': 113, 'MLU': 494, 'CID': 1606, 'LWS': 112, 'GTR': 150, 'WRG': 120, 'HLN': 310, 'LEX': 1486, 'RDM': 611, 'FLO': 78, 'ORF': 3160, 'SCE': 124, 'EVV': 896, 'KTN': 368, 'CRW': 419, 'CWA': 262, 'SAV': 2340, 'TRI': 263, 'CDV': 120, 'CMH': 6287, 'MOD': 502, 'CAK': 1622, 'TYR': 306, 'ADK': 18, 'CHO': 194, 'MOB': 1084, 'PNS': 1704, 'MCN': 143, 'CEC': 177, 'LIH': 2702, 'IAH': 32168, 'HNL': 11497, 'SHV': 1413, 'ERI': 154, 'SJC': 10224, 'CVG': 16804, 'TOL': 326, 'BUF': 4129, 'TLH': 637, 'LGA': 19477, 'ACT': 410, 'HPN': 1867, 'RDD': 300, 'AUS': 8806, 'MLI': 1523, 'SJU': 4245, 'ATW': 922, 'DHN': 247, 'LGB': 2519, 'AVL': 598, 'GJT': 801, 'LYH': 104, 'BFL': 814, 'GFK': 230, 'RNO': 4499, 'SRQ': 1323, 'SBN': 821, 'EYW': 168, 'JAC': 555, 'RST': 710, 'CHS': 2576, 'RSW': 5162, 'TUL': 4149, 'HRL': 687, 'IPL': 229, 'AMA': 1314, 'ISP': 1800, 'BOS': 19345, 'MAF': 1171, 'MLB': 352, 'TUP': 74, 'EWR': 25629, 'LAS': 30418, 'BIS': 524, 'JAN': 2351, 'ITO': 1590, 'FAI': 794, 'XNA': 2392, 'HHH': 168, 'DLH': 406, 'DEN': 40384, 'EWN': 109, 'RHI': 56, 'SGU': 606, 'ALB': 2405, 'CPR': 591, 'LNK': 587, 'OME': 180, 'BOI': 3176, 'IAD': 13803, 'SBA': 2604, 'PSP': 2356, 'IYK': 165, 'MEI': 104, 'BRO': 211, 'DRO': 657, 'BMI': 906, 'SEA': 17823, 'LAN': 697, 'CMI': 475, 'LRD': 343, 'VLD': 164, 'MCI': 11241, 'PIR': 6, 'FLG': 288, 'GRK': 770, 'BNA': 10014, 'CLT': 21555, 'CLL': 296, 'TVC': 574, 'PSC': 482, 'BLI': 59, 'CIC': 233, 'ABQ': 7201, 'PBI': 5532, 'SDF': 3826, 'ACV': 620, 'LAW': 408, 'SLE': 121, 'BDL': 5350, 'DAL': 9213, 'MRY': 1545, 'DBQ': 231, 'CLE': 11190, 'PDX': 10099, 'MIA': 10885, 'MFR': 1052, 'TWF': 436, 'TPA': 13767, 'BWI': 18060, 'CMX': 25, 'OKC': 4581, 'ROA': 664, 'SMF': 9795, 'SPI': 288, 'BRW': 120, 'OXR': 220, 'ABI': 474, 'MBS': 477, 'ELM': 218, 'PHX': 35304, 'FCA': 525, 'STL': 10674, 'PWM': 1433, 'ABY': 188, 'BET': 168, 'MHT': 3307, 'DFW': 48840, 'ABE': 862, 'TXK': 243, 'GSP': 2182, 'LSE': 408, 'STX': 78, 'FAY': 387, 'HDN': 588, 'GUC': 167, 'LBB': 1466, 'EKO': 278, 'CRP': 793, 'EGE': 711, 'FSD': 1128, 'SWF': 976, 'SUN': 478, 'CSG': 206, 'BQK': 128, 'SFO': 23877, 'MEM': 14296, 'ELP': 3609, 'BHM': 4122, 'FLL': 12430, 'ATL': 69029, 'FNT': 1478, 'PIH': 311, 'YKM': 123, 'RIC': 3360, 'DAY': 2691, 'PHF': 967, 'OMA': 4764, 'SJT': 305, 'LCH': 171, 'TEX': 72, 'VPS': 1149, 'BPT': 62, 'LIT': 2779, 'FAT': 2737, 'ICT': 2559, 'CAE': 1827, 'PFN': 553, 'ORD': 60532, 'AVP': 403, 'BTV': 1153, 'AEX': 397, 'BIL': 788, 'SPS': 401, 'ILM': 561, 'SMX': 294, 'PIA': 1002, 'RDU': 10768, 'BQN': 248, 'MFE': 839, 'MKE': 5674, 'SYR': 2104, 'LFT': 848, 'HSV': 1658, 'PIT': 7668, 'TUS': 5050, 'MTJ': 437, 'ACY': 77, 'ROW': 124, 'MDW': 15319, 'AZO': 731, 'COS': 2940, 'OAJ': 214, 'JNU': 610, 'IND': 6948, 'ALO': 52, 'KOA': 2643, 'GPT': 1439, 'MGM': 633, 'DTW': 28341, 'HOU': 9332, 'CHA': 703, 'TYS': 2323, 'YUM': 689, 'ADQ': 120, 'ONT': 7182, 'FWA': 1022, 'MDT': 1233, 'JAX': 5859, 'LAX': 40432, 'MSP': 24912, 'MOT': 176, 'BTR': 1553, 'BGR': 370, 'SIT': 185, 'MCO': 22878, 'ROC': 2673, 'SGF': 1781, 'AGS': 374, 'OTZ': 180, 'SAN': 16720, 'BZN': 875, 'GGG': 186, 'YAK': 120, 'DAB': 518, 'JFK': 20849, 'ANC': 2753, 'SUX': 111, 'MSO': 575, 'GNV': 288, 'PHL': 16458, 'OGG': 4205, 'DSM': 2793, 'SAT': 7781, 'SLC': 24699, 'PMD': 111, 'STT': 576, 'RAP': 745, 'ASE': 1143, 'CLD': 480, 'SBP': 1245}\n",
      "month_max: ATL  ,departures + arrivals of this month: 69029\n"
     ]
    }
   ],
   "source": [
    "# q5 Find the busiest airport (in terms of number of departures + arrivals of all operated flights) for each month.\n",
    "from pyspark.sql.functions import col\n",
    "import operator\n",
    "df = input\n",
    "\n",
    "for month in range(1, 12+1):\n",
    "    print(month, '-'*10)\n",
    "    df1=df.filter(col('Month').isin([month])).groupBy('Origin').count()\n",
    "    df2=df.filter(col('Month').isin([month])).groupBy('Dest').count()\n",
    "    #print(type(df1), type(df2))\n",
    "    k_v = {}\n",
    "    for orgin in df1.collect():\n",
    "#         print(orgin['Origin'],orgin['count'])\n",
    "        k_v[orgin['Origin']] = orgin['count']\n",
    "    for dest in df2.collect():\n",
    "        if k_v.get(dest['Dest']) :\n",
    "#             print(dest)\n",
    "#             print('before',k_v[dest['Dest']])\n",
    "            k_v[dest['Dest']] += dest['count']\n",
    "#             print('after',k_v[dest['Dest']])\n",
    "\n",
    "    print(k_v)\n",
    "    if k_v is not None:\n",
    "        month_max, thecount = max(k_v.items(), key=operator.itemgetter(1))\n",
    "        print('month_max:', month_max, ' ,departures + arrivals of this month:', thecount)\n",
    "\n"
   ]
  },
  {
   "cell_type": "code",
   "execution_count": 377,
   "metadata": {},
   "outputs": [
    {
     "name": "stdout",
     "output_type": "stream",
     "text": [
      "1 all of group:\n",
      "+---------+------------------+-------------------+------------------+--------------------+----------------------+\n",
      "|FlightNum| avg(CarrierDelay)|  avg(WeatherDelay)|     avg(NASDelay)|  avg(SecurityDelay)|avg(LateAircraftDelay)|\n",
      "+---------+------------------+-------------------+------------------+--------------------+----------------------+\n",
      "|     1959|1.2679558011049723| 0.5041436464088398| 4.433701657458563|0.029005524861878452|    1.6505524861878453|\n",
      "|     2142|3.2524964336661912| 0.9900142653352354|2.6390870185449358|                 0.0|       6.8830242510699|\n",
      "|      496|2.0320776927604474|0.30341377280753384| 2.695703354914656|0.023543260741612712|     4.066509711595056|\n",
      "|     1342|1.9002100840336134| 1.0777310924369747| 2.653361344537815|0.017857142857142856|     8.884453781512605|\n",
      "|     2659| 4.656678082191781| 0.5136986301369864|            2.1875| 0.06763698630136987|     5.648972602739726|\n",
      "|     1238| 4.135495078170237| 0.5964099594672843| 3.854082223508975|0.008685581933989578|     6.342790966994789|\n",
      "|     2122|1.1527924130663856|0.36459430979978924|2.8219178082191783| 0.09272918861959958|     1.334035827186512|\n",
      "|     1829|1.7451162790697674|0.28093023255813954| 5.782325581395349| 0.12930232558139534|    11.238139534883722|\n",
      "|      148| 3.586683107274969|0.46732429099876693| 4.400246609124538|0.059186189889025895|     4.884340320591862|\n",
      "|     1645|2.4296435272045027| 0.5590994371482176| 3.161976235146967|                 0.0|     6.607879924953096|\n",
      "|     1088| 2.456610366919045| 0.1671520093185789| 6.555620267909144|                 0.0|    3.8747815958066396|\n",
      "|     2866| 3.172109443954104| 1.6540158870255957|1.8905560458958517| 0.00706090026478376|     5.623124448367167|\n",
      "|      463| 2.181451612903226|  0.780241935483871|3.1838709677419357|0.010887096774193548|     7.198387096774193|\n",
      "|      471|2.5846069868995634| 0.4683406113537118|3.4001091703056767|0.026473799126637554|    3.2491812227074237|\n",
      "|     2366|2.9061624649859943|0.04061624649859944| 2.057422969187675|0.023809523809523808|    11.518207282913165|\n",
      "|     3175|2.2657894736842104|                0.0|1.9631578947368422| 0.03684210526315789|    1.5789473684210527|\n",
      "|     7340| 5.451990632318501| 0.4918032786885246| 2.812646370023419|  0.7002341920374707|     6.686182669789227|\n",
      "|     7253|4.2555555555555555|0.43555555555555553|2.7155555555555555|                 0.0|     6.302222222222222|\n",
      "|     7240| 4.732394366197183|  0.504225352112676|2.9380281690140846| 0.08450704225352113|    2.7661971830985914|\n",
      "|     5518| 5.430722891566265|  2.608433734939759| 5.621987951807229|0.061746987951807226|    2.9819277108433737|\n",
      "+---------+------------------+-------------------+------------------+--------------------+----------------------+\n",
      "only showing top 20 rows\n",
      "\n",
      "2 the filghtnum is: 7823\n",
      "3 the max row:\n",
      "+---------+-----------------+-----------------+------------------+------------------+----------------------+\n",
      "|FlightNum|avg(CarrierDelay)|avg(WeatherDelay)|     avg(NASDelay)|avg(SecurityDelay)|avg(LateAircraftDelay)|\n",
      "+---------+-----------------+-----------------+------------------+------------------+----------------------+\n",
      "|     7823|76.35714285714286|              0.0|21.285714285714285|               0.0|                   0.0|\n",
      "+---------+-----------------+-----------------+------------------+------------------+----------------------+\n",
      "\n"
     ]
    }
   ],
   "source": [
    "## Q6\n",
    "# 6nd the airline with highest average delay of each type in March 2007. \n",
    "#Note: do not write separate code for each error type. \n",
    "# You should compute a single RDD where each row contains the delay type, \n",
    "# the airline that is worst regarding that delay type, and its average delay of that type in minutes.\n",
    "\n",
    "import pyspark.sql.functions as F \n",
    "from pyspark.sql.functions import count, avg\n",
    "from pyspark.sql.functions import  max as max_\n",
    "\n",
    "# d_columns =  ['CarrierDelay','WeatherDelay', 'NASDelay', 'SecurityDelay', 'LateAircraftDelay']\n",
    "print('1 all of group:')\n",
    "df1 = df.groupBy(\"FlightNum\") \\\n",
    "    .avg('CarrierDelay','WeatherDelay', 'NASDelay', 'SecurityDelay', 'LateAircraftDelay')\n",
    "df1.show()\n",
    "\n",
    "r = df1.groupBy(\"FlightNum\").agg(F.sum(df1[1]+df1[2] + df1[3] + df1[4]).alias('result')).orderBy('result',ascending=False).head(1)\n",
    "print('2 the filghtnum is:', r[0].FlightNum)\n",
    "\n",
    "print('3 the max row:')\n",
    "df1.filter(col('FlightNum').isin([r[0].FlightNum])).show()"
   ]
  },
  {
   "cell_type": "code",
   "execution_count": 378,
   "metadata": {},
   "outputs": [
    {
     "name": "stdout",
     "output_type": "stream",
     "text": [
      "filter out week 3\n",
      "median of [12:16]:\n",
      "CRSElapsedTime  median:  [77.0, 108.0, 155.0]\n",
      "AirTime  median:  [77.0, 108.0, 155.0]\n",
      "ArrDelay  median:  [77.0, 108.0, 155.0]\n",
      "DepDelay  median:  [77.0, 108.0, 155.0]\n",
      "mean of [19:21] :\n",
      "+-----------------+------------------+\n",
      "|           TaxiIn|           TaxiOut|\n",
      "+-----------------+------------------+\n",
      "|6.592582320192348|16.593127845871546|\n",
      "+-----------------+------------------+\n",
      "\n",
      "mode of [25:29] :\n",
      "Row(WeatherDelay=0, count=1069792)\n",
      "Row(NASDelay=0, count=936107)\n",
      "Row(SecurityDelay=0, count=1087801)\n",
      "Row(LateAircraftDelay=0, count=970520)\n"
     ]
    }
   ],
   "source": [
    "## q7\n",
    "# Compute median, mean, and mode of columns 12-16, 19-21 and 25-29 \n",
    "# for the flights in the third week of 2007. Exclude the non-numeric values.\n",
    "\n",
    "from pyspark.sql import functions as F\n",
    "from pyspark.sql.types import IntegerType\n",
    "\n",
    "print('filter out week 3')\n",
    "mydf = df.filter(col('DayOfWeek').isin([3])) \n",
    "\n",
    "print('median of [12:16]:')\n",
    "df1 = mydf.select(mydf.columns[12:16])\n",
    "# df1.show()\n",
    "\n",
    "# res  = df1.select(*[F.percentile_approx(c).alias(c) for c in df1.columns])\n",
    "# res.show()\n",
    "for name in ('CRSElapsedTime', 'AirTime', 'ArrDelay', 'DepDelay'):\n",
    "    df1 = df1.withColumn(name, df1[name].cast(IntegerType()))\n",
    "    quantiles = df1.approxQuantile(\"CRSElapsedTime\", [0.25, 0.5, 0.75], 0)\n",
    "    print(name, ' median: ',quantiles)\n",
    "\n",
    "df2 = mydf.select(mydf.columns[19:21])\n",
    "# df2.show()\n",
    "res2  = df2.select(*[F.mean(c).alias(c) for c in df2.columns])\n",
    "print('mean of [19:21] :')\n",
    "res2.show()\n",
    "\n",
    "df3 = mydf.select(mydf.columns[25:29])\n",
    "# df3.show()\n",
    "print('mode of [25:29] :')\n",
    "# [df3.groupby(i).count().orderBy(\"count\", ascending=False).first()[0] for i in df3.columns]\n",
    "for i in df3.columns:\n",
    "    t = df3.groupby(i).count().orderBy(\"count\", ascending=False).first()\n",
    "    if t is not None:\n",
    "        print(t)"
   ]
  },
  {
   "cell_type": "code",
   "execution_count": 384,
   "metadata": {},
   "outputs": [
    {
     "name": "stdout",
     "output_type": "stream",
     "text": [
      "stay 3:0 hour, it means before we shoulf flight here at least before back-fight start time - 3hours\n",
      "{'UA': 17, 'US': 20, 'WN': 27}\n",
      "max UniqueCarrier : WN\n"
     ]
    }
   ],
   "source": [
    "## Q8\n",
    "#Assume that a passenger wants to travel from Philadelphia International Airport (airport code: PHL) \n",
    "# to Los Angeles International Airport (airport code: LAX), and then go back to Philadelphia (PHL). \n",
    "# He departs PHL not earlier than 5:59 am (scheduled time), stays at least 3:01 hours in Los Angeles and then arrive at PHL not later than 11pm. Based on the \"scheduled\" times, find which carrier has the highest number of flights with these constraints. \n",
    "# Limit your analysis to February 2007 and use scheduled times.\n",
    "\n",
    "from pyspark.sql.functions import col\n",
    "import pyspark.sql.functions as F\n",
    "\n",
    "\n",
    "df1 = df.filter(col('Month').isin([2]) & df.DepTime.isNotNull() & df.ArrTime.isNotNull() ) \n",
    "# filter datetime is too early data\n",
    "df1 = df1.filter( df.DepTime > '500' ) \n",
    "# df1 = df1.where(col(\"DepTime\").isNotNull()).collect()\n",
    "# df1 = df1.where(col(\"ArrTime\").isNotNull()).collect()\n",
    "\n",
    "df1 = df1.filter(col('Origin').isin(['PHL', 'LAX'])).filter(col('Dest').isin(['PHL', 'LAX']))\n",
    "# df1.show()\n",
    "\n",
    "# df2 = df1.filter(col('DepTime').isin([2])) \n",
    "print('stay 3:0 hour, it means before we shoulf flight here at least before back-fight start time - 3hours')\n",
    "dates = (\"1970-01-01 5:59:00\", \"1970-01-01 20:00:00\", \"1970-01-01 23:00:00\")\n",
    "# date_from, date_to = [to_date(lit(s)).cast(TimestampType()) for s in dates]\n",
    "\n",
    "\n",
    "df2 = df1.withColumn('DepTime_Date', F.to_timestamp('DepTime', 'hhmm'))\n",
    "df3 = df2.withColumn('ArrTime_Date', F.to_timestamp('ArrTime', 'hhmm'))\n",
    "# df2.show()\n",
    "\n",
    "df4 = df3.where( ((col('DepTime_Date') > dates[0]) & (col('ArrTime_Date') < dates[1])) |\n",
    "           (col('ArrTime_Date') < dates[2])\n",
    "         )\n",
    "# df4.show()\n",
    "if df4 is not None:\n",
    "    df5 = df4.groupBy('UniqueCarrier').count()\n",
    "    k_v = {}\n",
    "    for orgin in df5.rdd.collect():\n",
    "\n",
    "        k_v[orgin['UniqueCarrier']] = orgin['count']\n",
    "    print(k_v)\n",
    "    if k_v is not None:\n",
    "        carriar_max = max(k_v.items(), key=operator.itemgetter(1))[0]\n",
    "        print('max UniqueCarrier :', carriar_max)"
   ]
  },
  {
   "cell_type": "code",
   "execution_count": 388,
   "metadata": {},
   "outputs": [
    {
     "name": "stdout",
     "output_type": "stream",
     "text": [
      "---------- departure flights(limit 100) ----------\n",
      "1340 1232 2891 ONT\n",
      "1410 1251 933 SAN\n",
      "1205 1042 1554 SAN\n",
      "1225 1045 1502 SEA\n",
      "1300 1140 1596 SNA\n",
      "1300 1233 851 LAS\n",
      "1155 1035 1184 OAK\n",
      "1315 1101 324 PHX\n",
      "1450 1245 1684 PHX\n",
      "1250 1136 2037 SJC\n",
      "1220 1052 1977 SMF\n",
      "1340 1215 2588 SMF\n",
      "1225 959 1477 CLE\n",
      "1225 1058 2108 DAL\n",
      "1115 1014 1361 LIT\n",
      "1330 1224 2584 MCI\n",
      "1450 1132 338 MCO\n",
      "1250 1151 2142 MDW\n",
      "1155 1207 2968 MDW\n",
      "1340 1159 2747 OKC\n",
      "1445 1323 271 PHX\n",
      "1405 1122 1167 ALB\n",
      "1245 1007 2844 BDL\n",
      "1115 1036 653 BNA\n",
      "1405 1213 163 BWI\n",
      "1325 1120 2503 CMH\n",
      "1140 1046 430 FLL\n",
      "1315 1213 2792 FLL\n",
      "1220 1018 3026 IAD\n",
      "1500 1303 1265 IND\n",
      "1515 1242 2182 ISP\n",
      "1145 1055 2374 JAX\n",
      "1250 1121 250 MDW\n",
      "1415 1125 845 MHT\n",
      "1335 1253 710 PBI\n",
      "1320 1055 2951 PHL\n",
      "1250 1034 2999 PIT\n",
      "1325 1039 880 PVD\n",
      "1155 1058 188 DAL\n",
      "1155 1015 2673 HOU\n",
      "1325 1228 1075 MCI\n",
      "1415 1231 1590 PHX\n",
      "1120 1051 2970 LAX\n",
      "1440 1024 379 MDW\n",
      "1345 1142 2980 MSP\n",
      "1230 1039 2462 STL\n",
      "1357 1349 2622 EWR\n",
      "1426 1241 2498 CLE\n",
      "1125 1004 2815 EWR\n",
      "1342 1036 2307 JAX\n",
      "1344 1240 2461 IAH\n",
      "1429 1108 2312 CMH\n",
      "1439 1223 3112 IND\n",
      "1305 1134 2630 OKC\n",
      "1325 1132 2387 BNA\n",
      "1245 1120 2087 RDU\n",
      "1150 956 2419 CLE\n",
      "1235 1109 2771 IAH\n",
      "1430 1315 3288 EWR\n",
      "1419 1102 3113 CVG\n",
      "1347 1227 2796 SDF\n",
      "1315 1146 2950 EWR\n",
      "1419 1034 2005 ORF\n",
      "1145 1025 3119 MOB\n",
      "1544 1329 2078 EWR\n",
      "1205 1035 2438 EWR\n",
      "1347 1135 2459 OMA\n",
      "1242 1121 3282 BWI\n",
      "1320 1043 2659 IAH\n",
      "1319 1214 2838 GRR\n",
      "1412 1052 2165 CAE\n",
      "1145 1019 2483 LIT\n",
      "1135 1016 3218 BRO\n",
      "1428 1103 2793 CLT\n",
      "1159 1020 3259 VPS\n",
      "1300 1157 2989 IAH\n",
      "1358 1242 2256 EWR\n",
      "1517 1207 2242 ATL\n",
      "1130 1029 2708 CLE\n",
      "1315 1218 2708 DAY\n",
      "1347 1235 3012 BTV\n",
      "1202 1009 2343 EWR\n",
      "1345 1025 2544 IND\n",
      "1300 1149 2103 CRP\n",
      "1311 1134 2942 LBB\n",
      "1221 1027 3245 EWR\n",
      "1258 1136 2847 HRL\n",
      "1450 1213 3254 JAX\n",
      "1314 957 3256 EWR\n",
      "1304 1142 2448 RIC\n",
      "1203 1054 2539 IAH\n",
      "1348 1235 2458 IAH\n",
      "1226 1101 3229 IAH\n",
      "1322 1233 2046 STL\n",
      "1436 1245 2134 IAH\n",
      "1653 1157 2054 IAH\n",
      "1342 1132 2278 IAH\n",
      "1439 1136 2310 CLE\n",
      "1302 1046 2346 LIT\n",
      "1337 1100 2552 CHS\n"
     ]
    }
   ],
   "source": [
    "## Q9\n",
    "#Generate the `departure flights` board of the Los Angeles Airport at 12 Jan 2007 at 13:00. \n",
    "# The board should contain flights with actual departure times between 12:00 and 14:00, \n",
    "# sorted by scheduled departure time. The resulting table should at least contain scheduled departure time, \n",
    "# actual departure time (if departed), \n",
    "# airline code, and destination\n",
    "df1 = df.filter(col('Month').isin([1])).filter(col('DayofMonth').isin([1]))\n",
    "df1 = df1.filter( df.CRSDepTime > '500' ) \n",
    "\n",
    "dates = (\"1970-01-01 12:00:00\", \"1970-01-01 14:00:00\")\n",
    "dates = (\"1970-01-01 00:01:00\", \"1970-01-01 23:59:00\")\n",
    "# date_from, date_to = [to_date(lit(s)).cast(TimestampType()) for s in dates]\n",
    "\n",
    "df1 = df1.withColumn(\n",
    "    \"CRSDepTime\",\n",
    "    F.when(F.col(\"CRSDepTime\").isNull(), '0')\n",
    "    .otherwise(F.col(\"CRSDepTime\").cast(\"string\"))\n",
    ")\n",
    "df2 = df1.withColumn('DepTime_Date', F.to_timestamp('CRSDepTime', 'hhmm'))\n",
    "\n",
    "# df2.show()\n",
    "# print('@'*20)\n",
    "\n",
    "df4 = df2.where( \n",
    "    ((col('DepTime_Date') > dates[0]) & (col('DepTime_Date') < dates[1]))\n",
    "         )\n",
    "\n",
    "print('-'*10, 'departure flights(limit 100)', '-'*10)\n",
    "for item in df4.rdd.collect()[:100]:\n",
    "#     print(item)\n",
    "    print(item['CRSArrTime'],item['DepTime'], item['FlightNum'], item['Dest'])"
   ]
  },
  {
   "cell_type": "code",
   "execution_count": null,
   "metadata": {},
   "outputs": [],
   "source": []
  },
  {
   "cell_type": "code",
   "execution_count": null,
   "metadata": {},
   "outputs": [],
   "source": []
  },
  {
   "cell_type": "code",
   "execution_count": null,
   "metadata": {},
   "outputs": [],
   "source": []
  },
  {
   "cell_type": "code",
   "execution_count": null,
   "metadata": {},
   "outputs": [],
   "source": []
  },
  {
   "cell_type": "code",
   "execution_count": null,
   "metadata": {},
   "outputs": [],
   "source": []
  },
  {
   "cell_type": "code",
   "execution_count": null,
   "metadata": {},
   "outputs": [],
   "source": []
  }
 ],
 "metadata": {
  "kernelspec": {
   "display_name": "Python 3 (ipykernel)",
   "language": "python",
   "name": "python3"
  },
  "language_info": {
   "codemirror_mode": {
    "name": "ipython",
    "version": 3
   },
   "file_extension": ".py",
   "mimetype": "text/x-python",
   "name": "python",
   "nbconvert_exporter": "python",
   "pygments_lexer": "ipython3",
   "version": "3.8.11"
  }
 },
 "nbformat": 4,
 "nbformat_minor": 2
}
