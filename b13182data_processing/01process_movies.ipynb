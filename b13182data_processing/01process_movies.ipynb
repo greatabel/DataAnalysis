{
 "cells": [
  {
   "cell_type": "markdown",
   "metadata": {},
   "source": [
    "# 处理实践-评测任务"
   ]
  },
  {
   "cell_type": "markdown",
   "metadata": {},
   "source": [
    "## 个人信息\n",
    "- 班级：大数据\n",
    "- 姓名："
   ]
  },
  {
   "cell_type": "markdown",
   "metadata": {},
   "source": [
    "## 任务\n",
    "- 数据集：项目\n",
    "- 数据集文件：movies.csv\n",
    "- 简要介绍：电影数据"
   ]
  },
  {
   "cell_type": "markdown",
   "metadata": {},
   "source": [
    "## 代码"
   ]
  },
  {
   "cell_type": "markdown",
   "metadata": {},
   "source": [
    "## 导入包"
   ]
  },
  {
   "cell_type": "code",
   "execution_count": 3,
   "metadata": {
    "jupyter": {
     "source_hidden": true
    }
   },
   "outputs": [],
   "source": []
  },
  {
   "cell_type": "code",
   "execution_count": 30,
   "metadata": {
    "jupyter": {
     "source_hidden": true
    }
   },
   "outputs": [],
   "source": [
    "import pandas as pd\n"
   ]
  },
  {
   "cell_type": "markdown",
   "metadata": {},
   "source": [
    "## 数据读取"
   ]
  },
  {
   "cell_type": "code",
   "execution_count": 31,
   "metadata": {
    "jupyter": {
     "source_hidden": true
    }
   },
   "outputs": [],
   "source": [
    "path = '02_movies.csv'\n"
   ]
  },
  {
   "cell_type": "code",
   "execution_count": 32,
   "metadata": {
    "jupyter": {
     "source_hidden": true
    }
   },
   "outputs": [],
   "source": [
    "array = pd.read_csv(path, index_col=[0]).values"
   ]
  },
  {
   "cell_type": "code",
   "execution_count": 35,
   "metadata": {
    "jupyter": {
     "source_hidden": true
    }
   },
   "outputs": [
    {
     "name": "stdout",
     "output_type": "stream",
     "text": [
      "8569\n"
     ]
    }
   ],
   "source": [
    "print(len(array))"
   ]
  },
  {
   "cell_type": "code",
   "execution_count": 36,
   "metadata": {
    "jupyter": {
     "source_hidden": true
    }
   },
   "outputs": [
    {
     "name": "stdout",
     "output_type": "stream",
     "text": [
      "column len= 6\n"
     ]
    }
   ],
   "source": [
    "print('column len=',array.shape[1])"
   ]
  },
  {
   "cell_type": "markdown",
   "metadata": {},
   "source": [
    "## 中间过程（同学自己编写代码）\n",
    "- 请编写具体代码\n",
    "\n",
    "\n",
    "- 代码要注释清楚\n",
    "\n"
   ]
  },
  {
   "cell_type": "markdown",
   "metadata": {},
   "source": [
    "## 数据可视化"
   ]
  },
  {
   "cell_type": "code",
   "execution_count": 44,
   "metadata": {
    "jupyter": {
     "source_hidden": true
    }
   },
   "outputs": [
    {
     "name": "stdout",
     "output_type": "stream",
     "text": [
      "100行3列\n",
      " [['Dilwale Dulhania Le Jayenge'\n",
      "  'Raj is a rich, carefree, happy-go-lucky second generation NRI. Simran is the daughter of Chaudhary Baldev Singh, who in spite of being an NRI is very strict about adherence to Indian values. Simran has left for India to be married to her childhood fiancé. Raj leaves for India with a mission at his hands, to claim his lady love under the noses of her whole family. Thus begins a saga.'\n",
      "  '1995-10-20']\n",
      " [\"Gabriel's Inferno Part II\"\n",
      "  \"Professor Gabriel Emerson finally learns the truth about Julia Mitchell's identity, but his realization comes a moment too late. Julia is done waiting for the well-respected Dante specialist to remember her and wants nothing more to do with him. Can Gabriel win back her heart before she finds love in another's arms?\"\n",
      "  '2020-07-31']\n",
      " ['The Shawshank Redemption'\n",
      "  'Framed in the 1940s for the double murder of his wife and her lover, upstanding banker Andy Dufresne begins a new life at the Shawshank prison, where he puts his accounting skills to work for an amoral warden. During his long stretch in prison, Dufresne comes to be admired by the other inmates -- including an older prisoner named Red -- for his integrity and unquenchable sense of hope.'\n",
      "  '1994-09-23']\n",
      " [\"Gabriel's Inferno Part III\"\n",
      "  \"The final part of the film adaption of the erotic romance novel Gabriel's Inferno written by an anonymous Canadian author under the pen name Sylvain Reynard.\"\n",
      "  '2020-11-19']\n",
      " ['The Godfather'\n",
      "  'Spanning the years 1945 to 1955, a chronicle of the fictional Italian-American Corleone crime family. When organized crime family patriarch, Vito Corleone barely survives an attempt on his life, his youngest son, Michael steps in to take care of the would-be killers, launching a campaign of bloody revenge.'\n",
      "  '1972-03-14']\n",
      " [\"Gabriel's Inferno\"\n",
      "  \"An intriguing and sinful exploration of seduction, forbidden love, and redemption, Gabriel's Inferno is a captivating and wildly passionate tale of one man's escape from his own personal hell as he tries to earn the impossible--forgiveness and love.\"\n",
      "  '2020-05-29']\n",
      " [\"Zack Snyder's Justice League\"\n",
      "  \"Determined to ensure Superman's ultimate sacrifice was not in vain, Bruce Wayne aligns forces with Diana Prince with plans to recruit a team of metahumans to protect the world from an approaching threat of catastrophic proportions.\"\n",
      "  '2021-03-18']\n",
      " ['Wolfwalkers'\n",
      "  'In a time of superstition and magic, when wolves are seen as demonic and nature an evil to be tamed, a young apprentice hunter comes to Ireland with her father to wipe out the last pack. But when she saves a wild native girl, their friendship leads her to discover the world of the Wolfwalkers and transform her into the very thing her father is tasked to destroy.'\n",
      "  '2020-10-26']\n",
      " [\"Schindler's List\"\n",
      "  'The true story of how businessman Oskar Schindler saved over a thousand Jewish lives from the Nazis while they worked as slaves in his factory during World War II.'\n",
      "  '1993-11-30']\n",
      " ['The Godfather: Part II'\n",
      "  'In the continuing saga of the Corleone crime family, a young Vito Corleone grows up in Sicily and in 1910s New York. In the 1950s, Michael Corleone attempts to expand the family business into Las Vegas, Hollywood and Cuba.'\n",
      "  '1974-12-20']\n",
      " ['Your Name.'\n",
      "  'High schoolers Mitsuha and Taki are complete strangers living separate lives. But one night, they suddenly switch places. Mitsuha wakes up in Taki’s body, and he in hers. This bizarre occurrence continues to happen randomly, and the two must adjust their lives around each other.'\n",
      "  '2016-08-26']\n",
      " ['Godzilla vs. Kong'\n",
      "  'In a time when monsters walk the Earth, humanity’s fight for its future sets Godzilla and Kong on a collision course that will see the two most powerful forces of nature on the planet collide in a spectacular battle for the ages.'\n",
      "  '2021-03-24']\n",
      " ['Spirited Away'\n",
      "  'A young girl, Chihiro, becomes trapped in a strange new world of spirits. When her parents undergo a mysterious transformation, she must call upon the courage she never knew she had to free her family.'\n",
      "  '2001-07-20']\n",
      " ['Parasite'\n",
      "  \"All unemployed, Ki-taek's family takes peculiar interest in the wealthy and glamorous Parks for their livelihood until they get entangled in an unexpected incident.\"\n",
      "  '2019-05-30']\n",
      " ['The Green Mile'\n",
      "  \"A supernatural tale set on death row in a Southern prison, where gentle giant John Coffey possesses the mysterious power to heal people's ailments. When the cell block's head guard, Paul Edgecomb, recognizes Coffey's miraculous gift, he tries desperately to help stave off the condemned man's execution.\"\n",
      "  '1999-12-10']\n",
      " ['Dedicated to my ex'\n",
      "  'The film tells the story of Ariel, a 21-year-old who decides to form a rock band to compete for a prize of ten thousand dollars in a musical band contest, this as a last option when trying to get money to save their relationship and reunite with his ex-girlfriend, which breaks due to the trip she must make to Finland for an internship. Ariel with her friend Ortega, decides to make a casting to find the other members of the band, although they do not know nothing about music, thus forming a band with members that have diverse and opposite personalities.'\n",
      "  '2019-11-01']\n",
      " ['Pulp Fiction'\n",
      "  \"A burger-loving hit man, his philosophical partner, a drug-addled gangster's moll and a washed-up boxer converge in this sprawling, comedic crime caper. Their adventures unfurl in three stories that ingeniously trip back and forth in time.\"\n",
      "  '1994-09-10']\n",
      " ['Hamilton'\n",
      "  'Presenting the tale of American founding father Alexander Hamilton, this filmed version of the original Broadway smash hit is the story of America then, told by America now.'\n",
      "  '2020-07-03']\n",
      " ['12 Angry Men'\n",
      "  \"The defense and the prosecution have rested and the jury is filing into the jury room to decide if a young Spanish-American is guilty or innocent of murdering his father. What begins as an open and shut case soon becomes a mini-drama of each of the jurors' prejudices and preconceptions about the trial, the accused, and each other.\"\n",
      "  '1957-04-10']\n",
      " ['The Dark Knight'\n",
      "  'Batman raises the stakes in his war on crime. With the help of Lt. Jim Gordon and District Attorney Harvey Dent, Batman sets out to dismantle the remaining criminal organizations that plague the streets. The partnership proves to be effective, but they soon find themselves prey to a reign of chaos unleashed by a rising criminal mastermind known to the terrified citizens of Gotham as the Joker.'\n",
      "  '2008-07-16']\n",
      " ['Forrest Gump'\n",
      "  'A man with a low IQ has accomplished great things in his life and been present during significant historic events—in each case, far exceeding what anyone imagined he could do. But despite all he has achieved, his one true love eludes him.'\n",
      "  '1994-07-06']\n",
      " ['My Hero Academia: Heroes Rising'\n",
      "  \"Class 1-A visits Nabu Island where they finally get to do some real hero work. The place is so peaceful that it's more like a vacation … until they're attacked by a villain with an unfathomable Quirk! His power is eerily familiar, and it looks like Shigaraki had a hand in the plan. But with All Might retired and citizens' lives on the line, there's no time for questions. Deku and his friends are the next generation of heroes, and they're the island's only hope.\"\n",
      "  '2019-12-20']\n",
      " ['The Lord of the Rings: The Return of the King'\n",
      "  \"Aragorn is revealed as the heir to the ancient kings as he, Gandalf and the other members of the broken fellowship struggle to save Gondor from Sauron's forces. Meanwhile, Frodo and Sam take the ring closer to the heart of Mordor, the dark lord's realm.\"\n",
      "  '2003-12-01']\n",
      " [\"KonoSuba: God's Blessing on this Wonderful World! Legend of Crimson\"\n",
      "  \"It is not strange that the Demon Lord's forces fear the Crimson Demons, the clan from which Megumin and Yunyun originate. Even if the Demon Lord's generals attack their village, the Crimson Demons can just easily brush them off with their supreme mastery of advanced and overpowered magic.  When Yunyun receives a seemingly serious letter regarding a potential disaster coming to her hometown, she immediately informs Kazuma Satou and the rest of his party. After a series of wacky misunderstandings, it turns out to be a mere prank by her fellow demon who wants to be an author. Even so, Megumin becomes worried about her family and sets out toward the Crimson Demons' village with the gang.  There, Kazuma and the others decide to sightsee the wonders of Megumin's birthplace. However, they soon come to realize that the nonsense threat they received might have been more than just a joke.\"\n",
      "  '2019-08-30']\n",
      " ['Life Is Beautiful'\n",
      "  'A touching story of an Italian book seller of Jewish ancestry who lives in his own little fairy tale. His creative and happy life would come to an abrupt halt when his entire family is deported to a concentration camp during World War II. While locked up he tries to convince his son that the whole thing is just a game.'\n",
      "  '1997-12-20']\n",
      " ['Rascal Does Not Dream of a Dreaming Girl'\n",
      "  'In Fujisawa, Sakuta Azusagawa is in his second year of high school. Blissful days with his girlfriend and upperclassman, Mai Sakurajima, are interrupted by the appearance of his first crush, Shoko Makinohara.'\n",
      "  '2019-06-15']\n",
      " ['Cinema Paradiso'\n",
      "  \"A filmmaker recalls his childhood, when he fell in love with the movies at his village's theater and formed a deep friendship with the theater's projectionist.\"\n",
      "  '1988-11-17']\n",
      " ['The Good, the Bad and the Ugly'\n",
      "  'While the Civil War rages between the Union and the Confederacy, three men – a quiet loner, a ruthless hit man and a Mexican bandit – comb the American Southwest in search of a strongbox containing $200,000 in stolen gold.'\n",
      "  '1966-12-23']\n",
      " ['Once Upon a Time in America'\n",
      "  'A former Prohibition-era Jewish gangster returns to the Lower East Side of Manhattan over thirty years later, where he once again must confront the ghosts and regrets of his old life.'\n",
      "  '1984-05-23']\n",
      " [\"A Dog's Will\"\n",
      "  'The lively Jack the Cricket and the sly Chicó are poor guys living in the hinterland who cheat a bunch of people in a small in Northeastern Brazil. When they die, they have to be judged by Christ, the Devil and the Virgin Mary before they are admitted to paradise.'\n",
      "  '2000-09-15']\n",
      " ['Clouds'\n",
      "  'Young musician Zach Sobiech discovers his cancer has spread, leaving him just a few months to live. With limited time, he follows his dream and makes an album, unaware that it will soon be a viral music phenomenon.'\n",
      "  '2020-10-09']\n",
      " ['GoodFellas'\n",
      "  'The true story of Henry Hill, a half-Irish, half-Sicilian Brooklyn kid who is adopted by neighbourhood gangsters at an early age and climbs the ranks of a Mafia family under the guidance of Jimmy Conway.'\n",
      "  '1990-09-12']\n",
      " ['Seven Samurai'\n",
      "  \"A samurai answers a village's request for protection after he falls on hard times. The town needs protection from bandits, so the samurai gathers six others to help him teach the people how to defend themselves, and the villagers provide the soldiers with food. A giant battle occurs when 40 bandits attack the village.\"\n",
      "  '1954-04-26']\n",
      " ['Psycho'\n",
      "  'When larcenous real estate clerk Marion Crane goes on the lam with a wad of cash and hopes of starting a new life, she ends up at the notorious Bates Motel, where manager Norman Bates cares for his housebound mother.'\n",
      "  '1960-06-22']\n",
      " ['Fight Club'\n",
      "  'A ticking-time-bomb insomniac and a slippery soap salesman channel primal male aggression into a shocking new form of therapy. Their concept catches on, with underground \"fight clubs\" forming in every town, until an eccentric gets in the way and ignites an out-of-control spiral toward oblivion.'\n",
      "  '1999-10-15']\n",
      " ['Steven Universe: The Movie'\n",
      "  'Two years after the events of \"Change Your Mind\", Steven (now 16 years old) and his friends are ready to enjoy the rest of their lives peacefully. However, all of that changes when a new sinister Gem arrives, armed with a giant drill that saps the life force of all living things on Earth. In their biggest challenge ever, the Crystal Gems must work together to save all organic life on Earth within 48 hours.'\n",
      "  '2019-09-02']\n",
      " ['The Art of Racing in the Rain'\n",
      "  \"A family dog—with a near-human soul and a philosopher's mind—evaluates his life through the lessons learned by his human owner, a race-car driver.\"\n",
      "  '2019-08-08']\n",
      " [\"One Flew Over the Cuckoo's Nest\"\n",
      "  'While serving time for insanity at a state mental hospital, implacable rabble-rouser, Randle Patrick McMurphy, inspires his fellow patients to rebel against the authoritarian rule of head nurse, Mildred Ratched.'\n",
      "  '1975-11-18']\n",
      " ['City of God'\n",
      "  'Buscapé was raised in a very violent environment. Despite the feeling that all odds were against him, he finds out that life can be seen with other eyes...'\n",
      "  '2002-02-05']\n",
      " ['Justice League Dark: Apokolips War'\n",
      "  'Earth is decimated after intergalactic tyrant Darkseid has devastated the Justice League in a poorly executed war by the DC Super Heroes. Now the remaining bastions of good – the Justice League, Teen Titans, Suicide Squad and assorted others – must regroup, strategize and take the war to Darkseid in order to save the planet and its surviving inhabitants.'\n",
      "  '2020-05-05']\n",
      " ['We All Loved Each Other So Much'\n",
      "  'Gianni, Nicola and Antonio become close friends in 1944 while fighting the Nazis. After the end of the war, full of illusions, they settle down. The movie is a the story of the life of these three idealists and how they deal with the inevitable disillusionments of life.'\n",
      "  '1974-12-21']\n",
      " ['Harakiri'\n",
      "  \"An unusual request for ritual suicide on a feudal lord's property leads to the unwinding of a greater mystery that challenges the clan's integrity.\"\n",
      "  '1962-09-15']\n",
      " ['A Silent Voice: The Movie'\n",
      "  'Shouya Ishida starts bullying the new girl in class, Shouko Nishimiya, because she is deaf. But as the teasing continues, the rest of the class starts to turn on Shouya for his lack of compassion. When they leave elementary school, Shouko and Shouya do not speak to each other again... until an older, wiser Shouya, tormented by his past behaviour, decides he must see Shouko once more. He wants to atone for his sins, but is it already too late...?'\n",
      "  '2016-09-17']\n",
      " ['Spider-Man: Into the Spider-Verse'\n",
      "  'Miles Morales is juggling his life between being a high school student and being a spider-man. When Wilson \"Kingpin\" Fisk uses a super collider, others from across the Spider-Verse are transported to this dimension.'\n",
      "  '2018-12-06']\n",
      " ['Maquia: When the Promised Flower Blooms'\n",
      "  \"Maquia is a member of a special race called the Iorph who can live for hundreds of years. However, Maquia has always felt lonely despite being surrounded by her people, as she was orphaned from a young age. She daydreams about the outside world, but dares not travel from her home due to the warnings of the clan's chief.  One day the kingdom of Mezarte invades her homeland. They already have what is left of the giant dragons, the Renato, under their control, and now their king wishes to add the immortality to his bloodline.  They ravage the Iorph homeland and kill most of its inhabitants. Caught in the midst of the attack, Maquia is carried off by one of the Renato. It soon dies, and she is left deserted in a forest, now truly alone save for the cries of a single baby off in the distance. Maquia finds the baby in a destroyed village and decides to raise him as her own, naming him Ariel. Although she knows nothing of the human world, how to raise a child that ages much faster than her.\"\n",
      "  '2018-02-24']\n",
      " ['Grave of the Fireflies'\n",
      "  'In the final months of World War II, 14-year-old Seita and his sister Setsuko are orphaned when their mother is killed during an air raid in Kobe, Japan. After a falling out with their aunt, they move into an abandoned bomb shelter. With no surviving relatives and their emergency rations depleted, Seita and Setsuko struggle to survive.'\n",
      "  '1988-04-16']\n",
      " ['Life in a Year'\n",
      "  'A 17 year old finds out that his girlfriend is dying, so he sets out to give her an entire life, in the last year she has left.'\n",
      "  '2020-11-27']\n",
      " [\"Howl's Moving Castle\"\n",
      "  'When Sophie, a shy young woman, is cursed with an old body by a spiteful witch, her only chance of breaking the spell lies with a self-indulgent yet insecure young wizard and his companions in his legged, walking castle.'\n",
      "  '2004-11-19']\n",
      " [\"Mortal Kombat Legends: Scorpion's Revenge\"\n",
      "  'After the vicious slaughter of his family by stone-cold mercenary Sub-Zero, Hanzo Hasashi is exiled to the torturous Netherrealm. There, in exchange for his servitude to the sinister Quan Chi, he’s given a chance to avenge his family – and is resurrected as Scorpion, a lost soul bent on revenge. Back on Earthrealm, Lord Raiden gathers a team of elite warriors – Shaolin monk Liu Kang, Special Forces officer Sonya Blade and action star Johnny Cage – an unlikely band of heroes with one chance to save humanity. To do this, they must defeat Shang Tsung’s horde of Outworld gladiators and reign over the Mortal Kombat tournament.'\n",
      "  '2020-04-12']\n",
      " ['Sunset Boulevard'\n",
      "  'A hack screenwriter writes a screenplay for a former silent film star who has faded into Hollywood obscurity.'\n",
      "  '1950-08-10']\n",
      " ['Ikiru'\n",
      "  'Kanji Watanabe is a middle-aged man who has worked in the same monotonous bureaucratic position for decades. Learning he has cancer, he starts to look for the meaning of his life.'\n",
      "  '1952-10-09']\n",
      " ['The Great Dictator'\n",
      "  \"Dictator Adenoid Hynkel tries to expand his empire while a poor Jewish barber tries to avoid persecution from Hynkel's regime.\"\n",
      "  '1940-10-23']\n",
      " ['The Empire Strikes Back'\n",
      "  'The epic saga continues as Luke Skywalker, in hopes of defeating the evil Galactic Empire, learns the ways of the Jedi from aging master Yoda. But Darth Vader is more determined than ever to capture Luke. Meanwhile, rebel leader Princess Leia, cocky Han Solo, Chewbacca, and droids C-3PO and R2-D2 are thrown into various stages of capture, betrayal and despair.'\n",
      "  '1980-05-20']\n",
      " ['American History X'\n",
      "  \"Derek Vineyard is paroled after serving 3 years in prison for killing two African-American men. Through his brother, Danny Vineyard's narration, we learn that before going to prison, Derek was a skinhead and the leader of a violent white supremacist gang that committed acts of racial crime throughout L.A. and his actions greatly influenced Danny. Reformed and fresh out of prison, Derek severs contact with the gang and becomes determined to keep Danny from going down the same violent path as he did.\"\n",
      "  '1998-10-30']\n",
      " ['Whiplash'\n",
      "  'Under the direction of a ruthless instructor, a talented young drummer begins to pursue perfection at any cost, even his humanity.'\n",
      "  '2014-10-10']\n",
      " ['The Pianist'\n",
      "  \"The true story of pianist Władysław Szpilman's experiences in Warsaw during the Nazi occupation. When the Jews of the city find themselves forced into a ghetto, Szpilman finds work playing in a café; and when his family is deported in 1942, he stays behind, works for a while as a laborer, and eventually goes into hiding in the ruins of the war-torn city.\"\n",
      "  '2002-09-17']\n",
      " ['City Lights'\n",
      "  'In this sound-era silent film, a tramp falls in love with a beautiful blind flower seller.'\n",
      "  '1931-02-01']\n",
      " ['Neon Genesis Evangelion: The End of Evangelion'\n",
      "  'The second of two theatrically released follow-ups to the Neon Genesis Evangelion series. Comprising of two alternate episodes which were first intended to take the place of episodes 25 and 26, this finale answers many of the questions surrounding the series, while also opening up some new possibilities.'\n",
      "  '1997-07-19']\n",
      " ['Me contro Te: Il film - La vendetta del Signor S'\n",
      "  'Luì and Sofì fight the terrible Signor S once again, this time he will be revealed to the public!!!'\n",
      "  '2020-01-17']\n",
      " ['Rear Window'\n",
      "  'A wheelchair-bound photographer spies on his neighbors from his apartment window and becomes convinced one of them has committed murder.'\n",
      "  '1954-09-01']\n",
      " ['High and Low'\n",
      "  \"An executive of a shoe company becomes a victim of extortion when his chauffeur's son is kidnapped and held for ransom.\"\n",
      "  '1963-03-01']\n",
      " ['Princess Mononoke'\n",
      "  'Ashitaka, a prince of the disappearing Emishi people, is cursed by a demonized boar god and must journey to the west to find a cure. Along the way, he encounters San, a young human woman fighting to protect the forest, and Lady Eboshi, who is trying to destroy it. Ashitaka must find a way to bring balance to this conflict.'\n",
      "  '1997-07-12']\n",
      " ['The Lord of the Rings: The Fellowship of the Ring'\n",
      "  'Young hobbit Frodo Baggins, after inheriting a mysterious ring from his uncle Bilbo, must leave his home in order to keep it from falling into the hands of its evil creator. Along the way, a fellowship is formed to protect the ringbearer and make sure that the ring arrives at its final destination: Mt. Doom, the only place where it can be destroyed.'\n",
      "  '2001-12-18']\n",
      " ['Sansho the Bailiff'\n",
      "  'In medieval Japan a compassionate governor is sent into exile. His wife and children try to join him, but are separated, and the children grow up amid suffering and oppression.'\n",
      "  '1954-03-31']\n",
      " ['Hotarubi no Mori e'\n",
      "  'One hot summer day a little girl gets lost in an enchanted forest of the mountain god where spirits reside. A young boy appears before her, but she cannot touch him for fear of making him disappear. And so a wondrous adventure awaits...'\n",
      "  '2011-09-17']\n",
      " ['Five Feet Apart'\n",
      "  \"Seventeen-year-old Stella spends most of her time in the hospital as a cystic fibrosis patient. Her life is full of routines, boundaries and self-control — all of which get put to the test when she meets Will, an impossibly charming teen who has the same illness. There's an instant flirtation, though restrictions dictate that they must maintain a safe distance between them. As their connection intensifies, so does the temptation to throw the rules out the window and embrace that attraction.\"\n",
      "  '2019-03-15']\n",
      " ['Inception'\n",
      "  'Cobb, a skilled thief who commits corporate espionage by infiltrating the subconscious of his targets is offered a chance to regain his old life as payment for a task considered to be impossible: \"inception\", the implantation of another person\\'s idea into a target\\'s subconscious.'\n",
      "  '2010-07-15']\n",
      " ['Modern Times'\n",
      "  'The Tramp struggles to live in modern industrial society with the help of a young homeless woman.'\n",
      "  '1936-02-11']\n",
      " ['Paths of Glory'\n",
      "  'A commanding officer defends three scapegoats on trial for a failed offensive that occurred within the French Army in 1916.'\n",
      "  '1957-10-25']\n",
      " ['Sherlock: The Final Problem'\n",
      "  'Long buried secrets finally come to light as someone has been playing a very long game indeed. Sherlock and John face their greatest ever challenge. Is the game finally over?'\n",
      "  '2017-01-15']\n",
      " ['Se7en'\n",
      "  'Two homicide detectives are on a desperate hunt for a serial killer whose crimes are based on the \"seven deadly sins\" in this dark and haunting film that takes viewers from the tortured remains of one victim to the next. The seasoned Det. Sommerset researches each sin in an effort to get inside the killer\\'s mind, while his novice partner, Mills, scoffs at his efforts to unravel the case.'\n",
      "  '1995-09-22']\n",
      " ['The Lord of the Rings: The Two Towers'\n",
      "  'Frodo and Sam are trekking to Mordor to destroy the One Ring of Power while Gimli, Legolas and Aragorn search for the orc-captured Merry and Pippin. All along, nefarious wizard Saruman awaits the Fellowship members at the Orthanc Tower in Isengard.'\n",
      "  '2002-12-18']\n",
      " ['Interstellar'\n",
      "  'The adventures of a group of explorers who make use of a newly discovered wormhole to surpass the limitations on human space travel and conquer the vast distances involved in an interstellar voyage.'\n",
      "  '2014-11-05']\n",
      " ['Doctor Who: The Day of the Doctor'\n",
      "  \"In 2013, something terrible is awakening in London's National Gallery; in 1562, a murderous plot is afoot in Elizabethan England; and somewhere in space an ancient battle reaches its devastating conclusion. All of reality is at stake as the Doctor's own dangerous past comes back to haunt him.\"\n",
      "  '2013-11-23']\n",
      " ['Once Upon a Time in the West'\n",
      "  'As the railroad builders advance unstoppably through the Arizona desert on their way to the sea, Jill arrives in the small town of Flagstone with the intention of starting a new life.'\n",
      "  '1968-12-21']\n",
      " ['The Silence of the Lambs'\n",
      "  \"Clarice Starling is a top student at the FBI's training academy. Jack Crawford wants Clarice to interview Dr. Hannibal Lecter, a brilliant psychiatrist who is also a violent psychopath, serving life behind bars for various acts of murder and cannibalism. Crawford believes that Lecter may have insight into a case and that Starling, as an attractive young woman, may be just the bait to draw him out.\"\n",
      "  '1991-02-01']\n",
      " ['Raya and the Last Dragon'\n",
      "  'Long ago, in the fantasy world of Kumandra, humans and dragons lived together in harmony. But when an evil force threatened the land, the dragons sacrificed themselves to save humanity. Now, 500 years later, that same evil has returned and it’s up to a lone warrior, Raya, to track down the legendary last dragon to restore the fractured land and its divided people.'\n",
      "  '2021-03-03']\n",
      " ['Léon: The Professional'\n",
      "  'Léon, the top hit man in New York, has earned a rep as an effective \"cleaner\". But when his next-door neighbors are wiped out by a loose-cannon DEA agent, he becomes the unwilling custodian of 12-year-old Mathilda. Before long, Mathilda\\'s thoughts turn to revenge, and she considers following in Léon\\'s footsteps.'\n",
      "  '1994-09-14']\n",
      " ['Dead Poets Society'\n",
      "  'At an elite, old-fashioned boarding school in New England, a passionate English teacher inspires his students to rebel against convention and seize the potential of every day, courting the disdain of the stern headmaster.'\n",
      "  '1989-06-02']\n",
      " ['The Legend of 1900'\n",
      "  'The story of a virtuoso piano player who lives his entire life aboard an ocean liner. Born and raised on the ship, 1900 (Tim Roth) learned about the outside world through interactions with passengers, never setting foot on land, even for the love of his life. Years later, the ship may be destroyed, and a former band member fears that 1900 may still be aboard, willing to go down with the ship.'\n",
      "  '1998-10-28']\n",
      " ['The Hate U Give'\n",
      "  \"Raised in a poverty-stricken slum, a 16-year-old girl named Starr now attends a suburban prep school. After she witnesses a police officer shoot her unarmed best friend, she's torn between her two very different worlds as she tries to speak her truth.\"\n",
      "  '2018-10-19']\n",
      " ['The Handmaiden'\n",
      "  \"1930s Korea, in the period of Japanese occupation, a young woman is hired as a handmaiden to a Japanese heiress who lives a secluded life on a large countryside estate with her domineering uncle, but she's involved in something greater that will soon be revealed.\"\n",
      "  '2016-06-01']\n",
      " ['Miracle in Cell No. 7'\n",
      "  \"Separated from his daughter, a father with an intellectual disability must prove his innocence when he is jailed for the death of a commander's child.\"\n",
      "  '2019-10-10']\n",
      " ['Mommy'\n",
      "  'A peculiar neighbor offers hope to a recent widow who is struggling to raise a teenager who is unpredictable and, sometimes, violent.'\n",
      "  '2014-05-22']\n",
      " ['My Mom is a Character 3'\n",
      "  'Dona Hermínia will have to rediscover and reinvent herself because her children are forming new families. This supermom will have to deal with a new life scenario: Marcelina is pregnant and Juliano is getting married.'\n",
      "  '2019-12-26']\n",
      " ['Miraculous World: New York, United HeroeZ'\n",
      "  'During a school field trip, Ladybug and Cat Noir meet the American superheroes, whom they have to save from an akumatised super-villain. They discover that Miraculous exist in the United States too.'\n",
      "  '2020-09-26']\n",
      " ['Tokyo Story'\n",
      "  \"The elderly Shukishi and his wife, Tomi, take the long journey from their small seaside village to visit their adult children in Tokyo. Their elder son, Koichi, a doctor, and their daughter, Shige, a hairdresser, don't have much time to spend with their aged parents, and so it falls to Noriko, the widow of their younger son who was killed in the war, to keep her in-laws company.\"\n",
      "  '1953-11-03']\n",
      " ['I Want to Eat Your Pancreas'\n",
      "  'Spring time in April and the last of the cherry blossoms are still in bloom. The usually aloof bookworm with no interest in others comes across a book in a hospital waiting room. Handwritten on the cover are the words: \"Living with Dying.\" He soon discovers that it is a diary kept by his very popular and genuinely cheerful classmate, Sakura Yamauchi, who reveals to him that she is secretly suffering from a pancreatic illness and only has a limited time left. It is at this moment that she gains just one more person to share her secret. Trying to maintain a normal life as much as possible, Sakura is determined to live her life to the fullest until the very last day. As her free spirit and unpredictable actions throw him for a loop, his heart begins to gradually change.'\n",
      "  '2018-09-01']\n",
      " ['Investigation of a Citizen Above Suspicion'\n",
      "  'Rome, Italy. After committing a heinous crime, a senior police officer exposes evidence incriminating him because his moral commitment prevents him from circumventing the law and the social order it protects.'\n",
      "  '1970-10-16']\n",
      " ['Back to the Future'\n",
      "  \"Eighties teenager Marty McFly is accidentally sent back in time to 1955, inadvertently disrupting his parents' first meeting and attracting his mother's romantic interest. Marty must repair the damage to history by rekindling his parents' romance and - with the help of his eccentric inventor friend Doc Brown - return to 1985.\"\n",
      "  '1985-07-03']\n",
      " ['Klaus'\n",
      "  \"When Jesper distinguishes himself as the Postal Academy's worst student, he is sent to Smeerensburg, a small village located on an icy island above the Arctic Circle, where grumpy inhabitants barely exchange words, let alone letters. Jesper is about to give up and abandon his duty as a postman when he meets local teacher Alva and Klaus, a mysterious carpenter who lives alone in a cabin full of handmade toys.\"\n",
      "  '2019-11-08']\n",
      " ['Le Trou'\n",
      "  'Four prison inmates have been hatching a plan to literally dig out of jail when another prisoner, Claude Gaspard, is moved into their cell. They take a risk and share their plan with the newcomer. Over the course of three days, the prisoners and friends break through the concrete floor using a bed post and begin to make their way through the sewer system -- yet their escape is anything but assured.'\n",
      "  '1960-03-18']\n",
      " ['Apocalypse Now'\n",
      "  'At the height of the Vietnam war, Captain Benjamin Willard is sent on a dangerous mission that, officially, \"does not exist, nor will it ever exist.\" His goal is to locate - and eliminate - a mysterious Green Beret Colonel named Walter Kurtz, who has been leading his personal army on illegal guerrilla missions into enemy territory.'\n",
      "  '1979-08-15']\n",
      " ['Come and See'\n",
      "  \"The invasion of a village in Byelorussia by German forces sends young Florya into the forest to join the weary Resistance fighters, against his family's wishes. There he meets a girl, Glasha, who accompanies him back to his village. On returning home, Florya finds his family and fellow peasants massacred. His continued survival amidst the brutal debris of war becomes increasingly nightmarish, a battle between despair and hope.\"\n",
      "  '1985-09-03']\n",
      " ['Call Me by Your Name'\n",
      "  \"In 1980s Italy, a relationship begins between seventeen-year-old teenage Elio and the older adult man hired as his father's research assistant.\"\n",
      "  '2017-09-01']\n",
      " ['Il Sorpasso'\n",
      "  \"Roberto, a shy law student in Rome, meets Bruno, a forty-year-old exuberant, capricious man, who takes him for a drive through the Roman and Tuscany countries in the summer. Along the way, they end up knowing each other and entering each other's lives. A twist at the end puts everything into perspective.\"\n",
      "  '1962-12-04']\n",
      " ['Stalker'\n",
      "  'Near a gray and unnamed city is the Zone, a place guarded by barbed wire and soldiers, and where the normal laws of physics are victim to frequent anomalies. A stalker guides two men into the Zone, specifically to an area in which deep-seated desires are granted.'\n",
      "  '1979-05-25']\n",
      " ['Wolf Children'\n",
      "  \"After her werewolf lover unexpectedly dies in an accident, a woman must find a way to raise the son and daughter that she had with him. However, their inheritance of their father's traits prove to be a challenge for her.\"\n",
      "  '2012-07-21']\n",
      " ['Woman in the Dunes'\n",
      "  'An entomologist suffers extreme psychological and sexual torture after being taken captive by the residents of a poor seaside village.'\n",
      "  '1964-02-15']\n",
      " ['Persona'\n",
      "  'A young nurse, Alma, is put in charge of Elisabeth Vogler: an actress who is seemingly healthy in all respects, but will not talk. As they spend time together, Alma speaks to Elisabeth constantly, never receiving any answer. The time they spend together only strengthens the crushing realization that one does not exist.'\n",
      "  '1966-10-18']]\n"
     ]
    }
   ],
   "source": [
    "print('100行3列\\n',array[0:100,0:3])"
   ]
  },
  {
   "cell_type": "code",
   "execution_count": 46,
   "metadata": {
    "jupyter": {
     "source_hidden": true
    }
   },
   "outputs": [
    {
     "name": "stdout",
     "output_type": "stream",
     "text": [
      "获取第1行\n",
      " [\"Gabriel's Inferno Part II\"\n",
      " \"Professor Gabriel Emerson finally learns the truth about Julia Mitchell's identity, but his realization comes a moment too late. Julia is done waiting for the well-respected Dante specialist to remember her and wants nothing more to do with him. Can Gabriel win back her heart before she finds love in another's arms?\"\n",
      " '2020-07-31' 9.324 8.7 1227.0]\n"
     ]
    }
   ],
   "source": [
    "print('获取第1行\\n',array[1])"
   ]
  },
  {
   "cell_type": "code",
   "execution_count": 47,
   "metadata": {
    "jupyter": {
     "source_hidden": true
    }
   },
   "outputs": [
    {
     "name": "stdout",
     "output_type": "stream",
     "text": [
      "获取第2列\n",
      " ['1995-10-20' '2020-07-31' '1994-09-23' ... '2003-04-11' '2010-02-27' nan]\n"
     ]
    }
   ],
   "source": [
    "print('获取第2列\\n',array[:,2])"
   ]
  },
  {
   "cell_type": "code",
   "execution_count": 48,
   "metadata": {
    "jupyter": {
     "source_hidden": true
    }
   },
   "outputs": [
    {
     "name": "stdout",
     "output_type": "stream",
     "text": [
      "2行2列\n",
      " [['Dilwale Dulhania Le Jayenge'\n",
      "  'Raj is a rich, carefree, happy-go-lucky second generation NRI. Simran is the daughter of Chaudhary Baldev Singh, who in spite of being an NRI is very strict about adherence to Indian values. Simran has left for India to be married to her childhood fiancé. Raj leaves for India with a mission at his hands, to claim his lady love under the noses of her whole family. Thus begins a saga.']\n",
      " [\"Gabriel's Inferno Part II\"\n",
      "  \"Professor Gabriel Emerson finally learns the truth about Julia Mitchell's identity, but his realization comes a moment too late. Julia is done waiting for the well-respected Dante specialist to remember her and wants nothing more to do with him. Can Gabriel win back her heart before she finds love in another's arms?\"]]\n"
     ]
    }
   ],
   "source": [
    "print('2行2列\\n',array[0:2,0:2])"
   ]
  },
  {
   "cell_type": "code",
   "execution_count": null,
   "metadata": {
    "jupyter": {
     "source_hidden": true
    }
   },
   "outputs": [],
   "source": []
  },
  {
   "cell_type": "markdown",
   "metadata": {},
   "source": [
    "## 数据可视化"
   ]
  },
  {
   "cell_type": "code",
   "execution_count": null,
   "metadata": {
    "jupyter": {
     "source_hidden": true
    }
   },
   "outputs": [],
   "source": []
  },
  {
   "cell_type": "code",
   "execution_count": null,
   "metadata": {
    "jupyter": {
     "source_hidden": true
    }
   },
   "outputs": [],
   "source": []
  },
  {
   "cell_type": "code",
   "execution_count": null,
   "metadata": {
    "jupyter": {
     "source_hidden": true
    }
   },
   "outputs": [],
   "source": []
  }
 ],
 "metadata": {
  "kernelspec": {
   "display_name": "Python 3",
   "language": "python",
   "name": "python3"
  },
  "language_info": {
   "codemirror_mode": {
    "name": "ipython",
    "version": 3
   },
   "file_extension": ".py",
   "mimetype": "text/x-python",
   "name": "python",
   "nbconvert_exporter": "python",
   "pygments_lexer": "ipython3",
   "version": "3.7.7"
  }
 },
 "nbformat": 4,
 "nbformat_minor": 5
}
