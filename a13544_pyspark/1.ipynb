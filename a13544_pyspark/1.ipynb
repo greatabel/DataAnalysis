{
 "cells": [
  {
   "cell_type": "markdown",
   "metadata": {},
   "source": [
    "# Setup"
   ]
  },
  {
   "cell_type": "code",
   "execution_count": 73,
   "metadata": {},
   "outputs": [
    {
     "name": "stdout",
     "output_type": "stream",
     "text": [
      "Loading tweets from air_transit_2007.csv\n"
     ]
    }
   ],
   "source": [
    "# # Init pyspark\n",
    "# from pyspark import SparkContext\n",
    "# sc = SparkContext.getOrCreate()\n",
    "# # Init sparksql -- Only used to format the output nicely!\n",
    "# from pyspark.sql import SQLContext\n",
    "# sqlContext = SQLContext(sc)\n",
    "\n",
    "# rows = sc.textFile(\"/air_transit_2007.csv\")\n",
    "# #rows = sc.textFile(\"/Users/abel/Downloads/spare_time/working/a13544_600_spark/air_transit_2007.csv\")\n",
    "\n",
    "# data = rows.map(lambda line: line.split(\",\"))\n",
    "# # data.cache()\n",
    "\n",
    "# import findspark\n",
    "# findspark.init()\n",
    "# A simple demo for working with SparkSQL and Tweets\n",
    "from pyspark import SparkContext, SparkConf\n",
    "from pyspark.sql import HiveContext, Row\n",
    "from pyspark.sql.types import IntegerType\n",
    "import json\n",
    "import sys\n",
    "\n",
    "\n",
    "inputFile = 'air_transit_2007.csv'\n",
    "#inputFile = '/Users/abel/Downloads/spare_time/working/a13544_600_spark/air_transit_2007.csv'\n",
    "\n",
    "conf = SparkConf().setAppName(\"SparkSQLAirTransit\")\n",
    "sc = SparkContext.getOrCreate(conf=conf)\n",
    "hiveCtx = HiveContext(sc)\n",
    "print(\"Loading tweets from \" + inputFile)\n"
   ]
  },
  {
   "cell_type": "code",
   "execution_count": 74,
   "metadata": {},
   "outputs": [
    {
     "name": "stdout",
     "output_type": "stream",
     "text": [
      "root\n",
      " |-- Year: integer (nullable = true)\n",
      " |-- Month: integer (nullable = true)\n",
      " |-- DayofMonth: integer (nullable = true)\n",
      " |-- DayOfWeek: integer (nullable = true)\n",
      " |-- DepTime: string (nullable = true)\n",
      " |-- CRSDepTime: integer (nullable = true)\n",
      " |-- ArrTime: string (nullable = true)\n",
      " |-- CRSArrTime: integer (nullable = true)\n",
      " |-- UniqueCarrier: string (nullable = true)\n",
      " |-- FlightNum: integer (nullable = true)\n",
      " |-- TailNum: string (nullable = true)\n",
      " |-- ActualElapsedTime: string (nullable = true)\n",
      " |-- CRSElapsedTime: integer (nullable = true)\n",
      " |-- AirTime: string (nullable = true)\n",
      " |-- ArrDelay: string (nullable = true)\n",
      " |-- DepDelay: string (nullable = true)\n",
      " |-- Origin: string (nullable = true)\n",
      " |-- Dest: string (nullable = true)\n",
      " |-- Distance: integer (nullable = true)\n",
      " |-- TaxiIn: integer (nullable = true)\n",
      " |-- TaxiOut: integer (nullable = true)\n",
      " |-- Cancelled: integer (nullable = true)\n",
      " |-- CancellationCode: string (nullable = true)\n",
      " |-- Diverted: integer (nullable = true)\n",
      " |-- CarrierDelay: integer (nullable = true)\n",
      " |-- WeatherDelay: integer (nullable = true)\n",
      " |-- NASDelay: integer (nullable = true)\n",
      " |-- SecurityDelay: integer (nullable = true)\n",
      " |-- LateAircraftDelay: integer (nullable = true)\n",
      "\n"
     ]
    }
   ],
   "source": [
    "input = hiveCtx.read.option(\"header\",True).csv(inputFile,inferSchema =True)\n",
    "input.printSchema()\n",
    "\n"
   ]
  },
  {
   "cell_type": "code",
   "execution_count": 75,
   "metadata": {},
   "outputs": [],
   "source": [
    "# Sample Query"
   ]
  },
  {
   "cell_type": "code",
   "execution_count": 86,
   "metadata": {
    "scrolled": false
   },
   "outputs": [
    {
     "name": "stdout",
     "output_type": "stream",
     "text": [
      "myair_transits:\n",
      "Row(Year=2007, Month=1, DayofMonth=1, DayOfWeek=1, DepTime='1232', CRSDepTime=1225, ArrTime='1341', CRSArrTime=1340, UniqueCarrier='WN', FlightNum=2891, TailNum='N351', ActualElapsedTime='69', CRSElapsedTime=75, AirTime='54', ArrDelay='1', DepDelay='7', Origin='SMF', Dest='ONT', Distance=389, TaxiIn=4, TaxiOut=11, Cancelled=0, CancellationCode=None, Diverted=0, CarrierDelay=0, WeatherDelay=0, NASDelay=0, SecurityDelay=0, LateAircraftDelay=0) \n",
      "\n",
      "Row(Year=2007, Month=1, DayofMonth=1, DayOfWeek=1, DepTime='1918', CRSDepTime=1905, ArrTime='2043', CRSArrTime=2035, UniqueCarrier='WN', FlightNum=462, TailNum='N370', ActualElapsedTime='85', CRSElapsedTime=90, AirTime='74', ArrDelay='8', DepDelay='13', Origin='SMF', Dest='PDX', Distance=479, TaxiIn=5, TaxiOut=6, Cancelled=0, CancellationCode=None, Diverted=0, CarrierDelay=0, WeatherDelay=0, NASDelay=0, SecurityDelay=0, LateAircraftDelay=0) \n",
      "\n",
      "Row(Year=2007, Month=1, DayofMonth=1, DayOfWeek=1, DepTime='2206', CRSDepTime=2130, ArrTime='2334', CRSArrTime=2300, UniqueCarrier='WN', FlightNum=1229, TailNum='N685', ActualElapsedTime='88', CRSElapsedTime=90, AirTime='73', ArrDelay='34', DepDelay='36', Origin='SMF', Dest='PDX', Distance=479, TaxiIn=6, TaxiOut=9, Cancelled=0, CancellationCode=None, Diverted=0, CarrierDelay=3, WeatherDelay=0, NASDelay=0, SecurityDelay=0, LateAircraftDelay=31) \n",
      "\n"
     ]
    }
   ],
   "source": [
    "\n",
    "input.registerTempTable(\"air_transit\")\n",
    "\n",
    "myair_transits = hiveCtx.sql(\"SELECT * FROM air_transit  LIMIT 3\")\n",
    "print('myair_transits:' )\n",
    "for item in myair_transits.collect():\n",
    "    print(item, '\\n')"
   ]
  },
  {
   "cell_type": "markdown",
   "metadata": {},
   "source": [
    "## Q1\n",
    "Compute the total number of records."
   ]
  },
  {
   "cell_type": "code",
   "execution_count": 89,
   "metadata": {
    "scrolled": false
   },
   "outputs": [
    {
     "name": "stdout",
     "output_type": "stream",
     "text": [
      "mycount= 507\n"
     ]
    }
   ],
   "source": [
    "# Response...\n",
    "mycount = hiveCtx.sql(\"SELECT count(*) as mycount FROM air_transit\")\n",
    "print('mycount=', mycount.collect()[0]['mycount'] )"
   ]
  },
  {
   "cell_type": "code",
   "execution_count": 95,
   "metadata": {},
   "outputs": [
    {
     "name": "stdout",
     "output_type": "stream",
     "text": [
      "total number of operated flights per month:\n",
      "1 month 100\n",
      "12 month 407\n"
     ]
    }
   ],
   "source": [
    "## Q2\n",
    "#Find total number of operated flights per month, sorted by the month..\n",
    "\n",
    "\n",
    "mymonth = hiveCtx.sql(\"select Month, count(*) as flight_number from air_transit group by Month order by Month LIMIT 100\")\n",
    "print('total number of operated flights per month:')  \n",
    "for item in mymonth.collect():\n",
    "    print(item['Month'], 'month', item['flight_number'])"
   ]
  },
  {
   "cell_type": "code",
   "execution_count": 97,
   "metadata": {},
   "outputs": [
    {
     "name": "stdout",
     "output_type": "stream",
     "text": [
      "highest_number_filghts:  N6700\n"
     ]
    }
   ],
   "source": [
    "## Q3\n",
    "# Find the plane with the highest number of flights. Each plane has a unique TailNum\n",
    "highest_number_filghts = hiveCtx.sql(\"SELECT TailNum, SUM (FlightNum) FROM air_transit GROUP BY TailNum LIMIT 100\")\n",
    "print('highest_number_filghts: ', highest_number_filghts.collect()[0]['TailNum'] )"
   ]
  },
  {
   "cell_type": "code",
   "execution_count": 104,
   "metadata": {},
   "outputs": [
    {
     "name": "stdout",
     "output_type": "stream",
     "text": [
      "total flight time of each airplane: \n",
      "N3767  total fight time is 907.0\n",
      "N385DN  total fight time is 804.0\n",
      "N6707A  total fight time is 743.0\n",
      "N3731T  total fight time is 696.0\n",
      "N904DE  total fight time is 696.0\n",
      "N377DA  total fight time is 685.0\n",
      "N391DA  total fight time is 681.0\n",
      "N830MH  total fight time is 661.0\n",
      "N925DL  total fight time is 640.0\n",
      "N948DL  total fight time is 627.0\n",
      "N946DL  total fight time is 595.0\n",
      "N645DL  total fight time is 577.0\n",
      "N912DL  total fight time is 563.0\n",
      "N394DA  total fight time is 553.0\n",
      "N6709  total fight time is 548.0\n",
      "N135DL  total fight time is 521.0\n",
      "N980DL  total fight time is 485.0\n",
      "N6702  total fight time is 482.0\n",
      "N995DL  total fight time is 478.0\n",
      "N911DL  total fight time is 477.0\n",
      "N3766  total fight time is 473.0\n",
      "N372DA  total fight time is 449.0\n",
      "N655DL  total fight time is 443.0\n",
      "N988DL  total fight time is 430.0\n",
      "N931DL  total fight time is 423.0\n",
      "N828MH  total fight time is 414.0\n",
      "N654DL  total fight time is 413.0\n",
      "N399DA  total fight time is 376.0\n",
      "N916DE  total fight time is 372.0\n",
      "N3742C  total fight time is 360.0\n",
      "N994DL  total fight time is 358.0\n",
      "N909DE  total fight time is 357.0\n",
      "N908DE  total fight time is 346.0\n",
      "N959DL  total fight time is 346.0\n",
      "N926DL  total fight time is 345.0\n",
      "N919DE  total fight time is 345.0\n",
      "N829MH  total fight time is 344.0\n",
      "N3760C  total fight time is 341.0\n",
      "N913DN  total fight time is 340.0\n",
      "N386DA  total fight time is 330.0\n",
      "N924DL  total fight time is 328.0\n",
      "N6703D  total fight time is 323.0\n",
      "N696DA  total fight time is 322.0\n",
      "N1402A  total fight time is 316.0\n",
      "N915DE  total fight time is 316.0\n",
      "N665DN  total fight time is 315.0\n",
      "N922DL  total fight time is 305.0\n",
      "N398DA  total fight time is 301.0\n",
      "N999DN  total fight time is 300.0\n",
      "N644DL  total fight time is 300.0\n",
      "N3763D  total fight time is 299.0\n",
      "N911DE  total fight time is 296.0\n",
      "N908DL  total fight time is 296.0\n",
      "N6700  total fight time is 291.0\n",
      "N900DE  total fight time is 289.0\n",
      "N627DL  total fight time is 285.0\n",
      "N371DA  total fight time is 283.0\n",
      "N974DL  total fight time is 281.0\n",
      "N694DA  total fight time is 281.0\n",
      "N616DL  total fight time is 277.0\n",
      "N910DE  total fight time is 276.0\n",
      "N953DL  total fight time is 274.0\n",
      "N136DL  total fight time is 274.0\n",
      "N680DA  total fight time is 273.0\n",
      "N204  total fight time is 270.0\n",
      "N774  total fight time is 270.0\n",
      "N6711M  total fight time is 269.0\n",
      "N912DE  total fight time is 268.0\n",
      "N6701  total fight time is 267.0\n",
      "N918DE  total fight time is 266.0\n",
      "N907DL  total fight time is 263.0\n",
      "N968DL  total fight time is 262.0\n",
      "N687DL  total fight time is 257.0\n",
      "N666DN  total fight time is 257.0\n",
      "N903DA  total fight time is 254.0\n",
      "N904DL  total fight time is 248.0\n",
      "N397DA  total fight time is 242.0\n",
      "N381DA  total fight time is 240.0\n",
      "N663DN  total fight time is 240.0\n",
      "N912DN  total fight time is 239.0\n",
      "N914DE  total fight time is 237.0\n",
      "N623DL  total fight time is 233.0\n",
      "N628DL  total fight time is 232.0\n",
      "N393DA  total fight time is 232.0\n",
      "N683DA  total fight time is 231.0\n",
      "N920DE  total fight time is 228.0\n",
      "N3756  total fight time is 227.0\n",
      "N6716C  total fight time is 226.0\n",
      "N3751B  total fight time is 220.0\n",
      "N781  total fight time is 219.0\n",
      "N390DA  total fight time is 219.0\n",
      "N6712B  total fight time is 217.0\n",
      "N608DA  total fight time is 216.0\n",
      "N697DL  total fight time is 214.0\n",
      "N983DL  total fight time is 214.0\n",
      "N916DN  total fight time is 212.0\n",
      "N384DA  total fight time is 210.0\n",
      "N3764D  total fight time is 210.0\n",
      "N483  total fight time is 209.0\n",
      "N984DL  total fight time is 204.0\n"
     ]
    }
   ],
   "source": [
    "## Q4\n",
    "# Compute the total flight time of each airplane, sorted by flight time in descending order.\n",
    "total_flight_times = hiveCtx.sql(\"SELECT TailNum, SUM (AirTime) as total_fight_time FROM air_transit GROUP BY TailNum order by total_fight_time desc LIMIT 100\")\n",
    "print('-'*10, 'We make ', '-'*10)\n",
    "print('total flight time of each airplane: ')\n",
    "for item in  total_flight_times.collect():\n",
    "    print(item['TailNum'], ' total fight time is', item['total_fight_time'])\n"
   ]
  },
  {
   "cell_type": "code",
   "execution_count": 167,
   "metadata": {},
   "outputs": [
    {
     "name": "stdout",
     "output_type": "stream",
     "text": [
      "1 ----------\n",
      "{'SNA': 43, 'SMF': 43, 'STL': 28}\n",
      "2 ----------\n",
      "{}\n",
      "3 ----------\n",
      "{}\n",
      "4 ----------\n",
      "{}\n",
      "5 ----------\n",
      "{}\n",
      "6 ----------\n",
      "{}\n",
      "7 ----------\n",
      "{}\n",
      "8 ----------\n",
      "{}\n",
      "9 ----------\n",
      "{}\n",
      "10 ----------\n",
      "{}\n",
      "11 ----------\n",
      "{}\n",
      "12 ----------\n",
      "{'MSY': 10, 'GEG': 2, 'SNA': 8, 'DCA': 32, 'ORF': 2, 'SAV': 4, 'CMH': 1, 'PNS': 3, 'IAH': 3, 'HNL': 3, 'CVG': 32, 'LGA': 88, 'AUS': 1, 'SJU': 1, 'SRQ': 3, 'CHS': 6, 'RSW': 7, 'BOS': 57, 'EWR': 4, 'LAS': 10, 'DEN': 5, 'IAD': 1, 'BOI': 3, 'SEA': 5, 'MCI': 3, 'CLT': 8, 'PBI': 13, 'ABQ': 3, 'SDF': 2, 'BDL': 4, 'PDX': 1, 'MIA': 5, 'TPA': 27, 'BWI': 4, 'SMF': 2, 'PHX': 5, 'STL': 2, 'DFW': 5, 'GSP': 2, 'SFO': 11, 'MEM': 2, 'BHM': 5, 'ATL': 197, 'FLL': 22, 'RIC': 3, 'VPS': 2, 'LIT': 1, 'ORD': 5, 'RDU': 6, 'MKE': 2, 'HSV': 2, 'PIT': 5, 'IND': 3, 'TYS': 2, 'ONT': 3, 'JAX': 6, 'LAX': 24, 'MCO': 39, 'ROC': 2, 'SAN': 4, 'JFK': 19, 'DAB': 1, 'PHL': 7, 'SAT': 5, 'SLC': 50}\n"
     ]
    }
   ],
   "source": [
    "# q5 Find the busiest airport (in terms of number of departures + arrivals of all operated flights) for each month.\n",
    "from pyspark.sql.functions import col\n",
    "import operator\n",
    "df = input\n",
    "\n",
    "for month in range(1, 12+1):\n",
    "    print(month, '-'*10)\n",
    "    df1=df.filter(col('Month').isin([month])).groupBy('Origin').count()\n",
    "    df2=df.filter(col('Month').isin([month])).groupBy('Dest').count()\n",
    "    #print(type(df1), type(df2))\n",
    "    k_v = {}\n",
    "    for orgin in df1.collect():\n",
    "#         print(orgin['Origin'],orgin['count'])\n",
    "        k_v[orgin['Origin']] = orgin['count']\n",
    "    for dest in df2.collect():\n",
    "        if k_v.get(dest['Dest']) :\n",
    "#             print(dest)\n",
    "#             print('before',k_v[dest['Dest']])\n",
    "            k_v[dest['Dest']] += dest['count']\n",
    "#             print('after',k_v[dest['Dest']])\n",
    "\n",
    "    print(k_v)\n",
    "    if k_v is None:\n",
    "        month_max = max(k_v.items(), key=operator.itemgetter(1))[0]\n",
    "        print('month_max:', month_max)\n",
    "\n"
   ]
  },
  {
   "cell_type": "code",
   "execution_count": 203,
   "metadata": {},
   "outputs": [
    {
     "name": "stdout",
     "output_type": "stream",
     "text": [
      "1 all of group:\n",
      "+---------+-----------------+-----------------+-------------+------------------+----------------------+\n",
      "|FlightNum|avg(CarrierDelay)|avg(WeatherDelay)|avg(NASDelay)|avg(SecurityDelay)|avg(LateAircraftDelay)|\n",
      "+---------+-----------------+-----------------+-------------+------------------+----------------------+\n",
      "|     1959|              0.0|              0.0|          0.0|               0.0|                   0.0|\n",
      "|     1591|              0.0|              0.0|          0.0|               0.0|                   0.0|\n",
      "|     1645|              0.0|              0.0|          0.0|               0.0|                   0.0|\n",
      "|     1460|              0.0|              0.0|          0.0|               0.0|                   0.0|\n",
      "|     1721|              0.0|              0.0|         33.0|               0.0|                   0.0|\n",
      "|     1896|              0.0|              0.0|          0.0|               0.0|                   0.0|\n",
      "|     1618|              5.0|              0.0|          0.0|               0.0|                  84.0|\n",
      "|     1650|              0.0|              0.0|          0.0|               0.0|                   0.0|\n",
      "|     1699|             78.0|              0.0|          0.0|               0.0|                  50.0|\n",
      "|       31|              5.0|              0.0|          8.0|               0.0|                   7.0|\n",
      "|     1975|             20.0|              0.0|          7.0|               0.0|                   9.0|\n",
      "|     1884|              0.0|              0.0|          0.0|               0.0|                   0.0|\n",
      "|     1977|              0.0|              0.0|          0.0|               0.0|                   0.0|\n",
      "|     1718|              0.0|              0.0|          0.0|               0.0|                   0.0|\n",
      "|     1787|              0.0|              0.0|         65.0|               0.0|                   0.0|\n",
      "|     1888|              0.0|              0.0|          0.0|               0.0|                   0.0|\n",
      "|     1808|              0.0|              0.0|          0.0|               0.0|                   0.0|\n",
      "|      961|             19.0|              0.0|          1.0|               0.0|                   0.0|\n",
      "|     1212|             20.0|              0.0|          0.0|               0.0|                  24.0|\n",
      "|      976|              0.0|              0.0|          0.0|               0.0|                   0.0|\n",
      "+---------+-----------------+-----------------+-------------+------------------+----------------------+\n",
      "only showing top 20 rows\n",
      "\n",
      "2 the filghtnum is: 2782\n",
      "3 the max row:\n",
      "+---------+-----------------+-----------------+-------------+------------------+----------------------+\n",
      "|FlightNum|avg(CarrierDelay)|avg(WeatherDelay)|avg(NASDelay)|avg(SecurityDelay)|avg(LateAircraftDelay)|\n",
      "+---------+-----------------+-----------------+-------------+------------------+----------------------+\n",
      "|     2782|            162.0|              0.0|          3.0|               0.0|                   0.0|\n",
      "+---------+-----------------+-----------------+-------------+------------------+----------------------+\n",
      "\n"
     ]
    }
   ],
   "source": [
    "## Q6\n",
    "# 6nd the airline with highest average delay of each type in March 2007. \n",
    "#Note: do not write separate code for each error type. \n",
    "# You should compute a single RDD where each row contains the delay type, \n",
    "# the airline that is worst regarding that delay type, and its average delay of that type in minutes.\n",
    "\n",
    "import pyspark.sql.functions as F \n",
    "from pyspark.sql.functions import count, avg\n",
    "from pyspark.sql.functions import  max as max_\n",
    "\n",
    "# d_columns =  ['CarrierDelay','WeatherDelay', 'NASDelay', 'SecurityDelay', 'LateAircraftDelay']\n",
    "print('1 all of group:')\n",
    "df1 = df.groupBy(\"FlightNum\") \\\n",
    "    .avg('CarrierDelay','WeatherDelay', 'NASDelay', 'SecurityDelay', 'LateAircraftDelay')\n",
    "df1.show()\n",
    "\n",
    "r = df1.groupBy(\"FlightNum\").agg(F.sum(df1[1]+df1[2] + df1[3] + df1[4]).alias('result')).orderBy('result',ascending=False).head(1)\n",
    "print('2 the filghtnum is:', r[0].FlightNum)\n",
    "\n",
    "print('3 the max row:')\n",
    "df1.filter(col('FlightNum').isin([r[0].FlightNum])).show()"
   ]
  },
  {
   "cell_type": "code",
   "execution_count": 239,
   "metadata": {},
   "outputs": [
    {
     "name": "stdout",
     "output_type": "stream",
     "text": [
      "+--------------+-------+--------+--------+\n",
      "|CRSElapsedTime|AirTime|ArrDelay|DepDelay|\n",
      "+--------------+-------+--------+--------+\n",
      "|            75|     54|       1|       7|\n",
      "|            90|     74|       8|      13|\n",
      "|            90|     73|      34|      36|\n",
      "|            90|     75|      26|      30|\n",
      "|            90|     74|      -3|       1|\n",
      "|            90|     74|       3|      10|\n",
      "|           110|     89|      47|      56|\n",
      "|           110|     86|      -2|       9|\n",
      "|           105|     90|      44|      47|\n",
      "|           115|     92|      -7|       3|\n",
      "|           115|     88|     -11|       1|\n",
      "|           105|     89|      52|      52|\n",
      "|            85|     66|      45|      53|\n",
      "|            85|     63|     -17|      -5|\n",
      "|            85|     65|      -5|       6|\n",
      "|            85|     64|      33|      44|\n",
      "|            85|     63|      -9|       0|\n",
      "|            85|     66|      -7|       2|\n",
      "|            85|     63|     -11|       1|\n",
      "|            80|     69|      36|      29|\n",
      "+--------------+-------+--------+--------+\n",
      "only showing top 20 rows\n",
      "\n",
      "median of [12:16]:\n",
      "[75.0, 85.0, 105.0]\n",
      "mean of [19:21] :\n",
      "+------+-------+\n",
      "|TaxiIn|TaxiOut|\n",
      "+------+-------+\n",
      "|  4.47|   7.96|\n",
      "+------+-------+\n",
      "\n",
      "mode of [25:29] :\n"
     ]
    },
    {
     "data": {
      "text/plain": [
       "[0, 0, 0, 0]"
      ]
     },
     "execution_count": 239,
     "metadata": {},
     "output_type": "execute_result"
    }
   ],
   "source": [
    "## q7\n",
    "# Compute median, mean, and mode of columns 12-16, 19-21 and 25-29 \n",
    "# for the flights in the third week of 2007. Exclude the non-numeric values.\n",
    "\n",
    "from pyspark.sql import functions as F\n",
    "\n",
    "print('filter out week 3')\n",
    "mydf = df.filter(col('DayOfWeek').isin([3])) \n",
    "\n",
    "\n",
    "df1 = mydf.select(mydf.columns[12:16])\n",
    "df1.show()\n",
    "# res  = df1.select(*[F.percentile_approx(c).alias(c) for c in df1.columns])\n",
    "# res.show()\n",
    "# for name in ('CRSElapsedTime', 'AirTime', 'ArrDelay', 'DepDelay'):\n",
    "\n",
    "quantiles = df1.approxQuantile(\"CRSElapsedTime\", [0.25, 0.5, 0.75], 0)\n",
    "print('median of [12:16]:')\n",
    "print(quantiles)\n",
    "\n",
    "df2 = mydf.select(mydf.columns[19:21])\n",
    "# df2.show()\n",
    "res2  = df2.select(*[F.mean(c).alias(c) for c in df2.columns])\n",
    "print('mean of [19:21] :')\n",
    "res2.show()\n",
    "\n",
    "df3 = mydf.select(mydf.columns[25:29])\n",
    "# df3.show()\n",
    "print('mode of [25:29] :')\n",
    "[df3.groupby(i).count().orderBy(\"count\", ascending=False).first()[0] for i in df3.columns]"
   ]
  },
  {
   "cell_type": "code",
   "execution_count": 201,
   "metadata": {},
   "outputs": [],
   "source": [
    "## Q8\n",
    "#Assume that a passenger wants to travel from Philadelphia International Airport (airport code: PHL) \n",
    "# to Los Angeles International Airport (airport code: LAX), and then go back to Philadelphia (PHL). \n",
    "# He departs PHL not earlier than 5:59 am (scheduled time), stays at least 3:01 hours in Los Angeles and then arrive at PHL not later than 11pm. Based on the \"scheduled\" times, find which carrier has the highest number of flights with these constraints. \n",
    "# Limit your analysis to February 2007 and use scheduled times.\n",
    "df1 = df.filter(col('Month').isin([2])) "
   ]
  },
  {
   "cell_type": "code",
   "execution_count": null,
   "metadata": {},
   "outputs": [],
   "source": [
    "## Q9\n",
    "#Generate the `departure flights` board of the Los Angeles Airport at 12 Jan 2007 at 13:00. The board should contain flights with actual departure times between 12:00 and 14:00, sorted by scheduled departure time. The resulting table should at least contain scheduled departure time, actual departure time (if departed), \n",
    "# airline code, and destination"
   ]
  },
  {
   "cell_type": "code",
   "execution_count": null,
   "metadata": {},
   "outputs": [],
   "source": []
  }
 ],
 "metadata": {
  "kernelspec": {
   "display_name": "Python 3",
   "language": "python",
   "name": "python3"
  },
  "language_info": {
   "codemirror_mode": {
    "name": "ipython",
    "version": 3
   },
   "file_extension": ".py",
   "mimetype": "text/x-python",
   "name": "python",
   "nbconvert_exporter": "python",
   "pygments_lexer": "ipython3",
   "version": "3.7.7"
  }
 },
 "nbformat": 4,
 "nbformat_minor": 2
}
