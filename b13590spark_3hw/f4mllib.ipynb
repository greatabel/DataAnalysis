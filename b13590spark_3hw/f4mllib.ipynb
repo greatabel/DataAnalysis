{
 "cells": [
  {
   "cell_type": "code",
   "execution_count": 387,
   "metadata": {},
   "outputs": [
    {
     "name": "stdout",
     "output_type": "stream",
     "text": [
      "root\n",
      " |-- x: double (nullable = true)\n",
      " |-- y: double (nullable = true)\n",
      " |-- z: double (nullable = true)\n",
      " |-- myunion: integer (nullable = true)\n",
      "\n"
     ]
    },
    {
     "data": {
      "text/html": [
       "<div>\n",
       "<style scoped>\n",
       "    .dataframe tbody tr th:only-of-type {\n",
       "        vertical-align: middle;\n",
       "    }\n",
       "\n",
       "    .dataframe tbody tr th {\n",
       "        vertical-align: top;\n",
       "    }\n",
       "\n",
       "    .dataframe thead th {\n",
       "        text-align: right;\n",
       "    }\n",
       "</style>\n",
       "<table border=\"1\" class=\"dataframe\">\n",
       "  <thead>\n",
       "    <tr style=\"text-align: right;\">\n",
       "      <th></th>\n",
       "      <th>0</th>\n",
       "      <th>1</th>\n",
       "      <th>2</th>\n",
       "      <th>3</th>\n",
       "      <th>4</th>\n",
       "      <th>5</th>\n",
       "      <th>6</th>\n",
       "      <th>7</th>\n",
       "    </tr>\n",
       "  </thead>\n",
       "  <tbody>\n",
       "    <tr>\n",
       "      <th>x</th>\n",
       "      <td>0.842637</td>\n",
       "      <td>0.072331</td>\n",
       "      <td>-0.806359</td>\n",
       "      <td>0.247634</td>\n",
       "      <td>0.067749</td>\n",
       "      <td>2.615119</td>\n",
       "      <td>-0.645947</td>\n",
       "      <td>0.763435</td>\n",
       "    </tr>\n",
       "    <tr>\n",
       "      <th>y</th>\n",
       "      <td>0.386260</td>\n",
       "      <td>0.721267</td>\n",
       "      <td>0.611340</td>\n",
       "      <td>0.507109</td>\n",
       "      <td>0.324710</td>\n",
       "      <td>-0.178870</td>\n",
       "      <td>0.030028</td>\n",
       "      <td>0.449343</td>\n",
       "    </tr>\n",
       "    <tr>\n",
       "      <th>z</th>\n",
       "      <td>2.728783</td>\n",
       "      <td>0.104368</td>\n",
       "      <td>3.834719</td>\n",
       "      <td>-0.661217</td>\n",
       "      <td>0.408058</td>\n",
       "      <td>-0.361225</td>\n",
       "      <td>0.150199</td>\n",
       "      <td>0.180232</td>\n",
       "    </tr>\n",
       "    <tr>\n",
       "      <th>myunion</th>\n",
       "      <td>1.000000</td>\n",
       "      <td>0.000000</td>\n",
       "      <td>1.000000</td>\n",
       "      <td>0.000000</td>\n",
       "      <td>0.000000</td>\n",
       "      <td>2.000000</td>\n",
       "      <td>0.000000</td>\n",
       "      <td>0.000000</td>\n",
       "    </tr>\n",
       "  </tbody>\n",
       "</table>\n",
       "</div>"
      ],
      "text/plain": [
       "                0         1         2         3         4         5         6  \\\n",
       "x        0.842637  0.072331 -0.806359  0.247634  0.067749  2.615119 -0.645947   \n",
       "y        0.386260  0.721267  0.611340  0.507109  0.324710 -0.178870  0.030028   \n",
       "z        2.728783  0.104368  3.834719 -0.661217  0.408058 -0.361225  0.150199   \n",
       "myunion  1.000000  0.000000  1.000000  0.000000  0.000000  2.000000  0.000000   \n",
       "\n",
       "                7  \n",
       "x        0.763435  \n",
       "y        0.449343  \n",
       "z        0.180232  \n",
       "myunion  0.000000  "
      ]
     },
     "execution_count": 387,
     "metadata": {},
     "output_type": "execute_result"
    }
   ],
   "source": [
    "import findspark\n",
    "findspark.init()\n",
    "from pyspark.sql import SparkSession\n",
    "\n",
    "spark = SparkSession.builder.appName('q2').getOrCreate()\n",
    "df = spark.read.csv('data/dataset.csv', header = True, inferSchema = True)\n",
    "df.printSchema()\n",
    "\n",
    "import pandas as pd\n",
    "pd.DataFrame(df.take(8), columns=df.columns).transpose()\n"
   ]
  },
  {
   "cell_type": "code",
   "execution_count": 388,
   "metadata": {},
   "outputs": [],
   "source": [
    "cols = df.columns"
   ]
  },
  {
   "cell_type": "code",
   "execution_count": 389,
   "metadata": {},
   "outputs": [],
   "source": [
    "from pyspark.ml.feature import OneHotEncoderEstimator, StringIndexer, VectorAssembler\n",
    "categoricalColumns = ['x', 'y','z']\n",
    "stages = []\n",
    "for categoricalCol in categoricalColumns:\n",
    "    stringIndexer = StringIndexer(inputCol = categoricalCol, outputCol = categoricalCol + 'Index')\n",
    "    encoder = OneHotEncoderEstimator(inputCols=[stringIndexer.getOutputCol()], outputCols=[categoricalCol + \"classVec\"])\n",
    "    stages += [stringIndexer, encoder]\n",
    "label_stringIdx = StringIndexer(inputCol = 'myunion', outputCol = 'label')\n",
    "stages += [label_stringIdx]\n",
    "numericCols = ['x', 'y','z', 'myunion']\n",
    "assemblerInputs = [c + \"classVec\" for c in categoricalColumns] + numericCols\n",
    "assembler = VectorAssembler(inputCols=assemblerInputs, outputCol=\"features\")\n",
    "stages += [assembler]"
   ]
  },
  {
   "cell_type": "code",
   "execution_count": 390,
   "metadata": {},
   "outputs": [
    {
     "name": "stdout",
     "output_type": "stream",
     "text": [
      "root\n",
      " |-- label: double (nullable = false)\n",
      " |-- features: vector (nullable = true)\n",
      " |-- x: double (nullable = true)\n",
      " |-- y: double (nullable = true)\n",
      " |-- z: double (nullable = true)\n",
      " |-- myunion: integer (nullable = true)\n",
      "\n"
     ]
    }
   ],
   "source": [
    "from pyspark.ml import Pipeline\n",
    "pipeline = Pipeline(stages = stages)\n",
    "pipelineModel = pipeline.fit(df)\n",
    "df = pipelineModel.transform(df)\n",
    "selectedCols = ['label', 'features'] + cols\n",
    "df = df.select(selectedCols)\n",
    "df.printSchema()"
   ]
  },
  {
   "cell_type": "code",
   "execution_count": 414,
   "metadata": {},
   "outputs": [
    {
     "data": {
      "text/html": [
       "<div>\n",
       "<style scoped>\n",
       "    .dataframe tbody tr th:only-of-type {\n",
       "        vertical-align: middle;\n",
       "    }\n",
       "\n",
       "    .dataframe tbody tr th {\n",
       "        vertical-align: top;\n",
       "    }\n",
       "\n",
       "    .dataframe thead th {\n",
       "        text-align: right;\n",
       "    }\n",
       "</style>\n",
       "<table border=\"1\" class=\"dataframe\">\n",
       "  <thead>\n",
       "    <tr style=\"text-align: right;\">\n",
       "      <th></th>\n",
       "      <th>0</th>\n",
       "      <th>1</th>\n",
       "      <th>2</th>\n",
       "      <th>3</th>\n",
       "      <th>4</th>\n",
       "    </tr>\n",
       "  </thead>\n",
       "  <tbody>\n",
       "    <tr>\n",
       "      <th>label</th>\n",
       "      <td>1</td>\n",
       "      <td>0</td>\n",
       "      <td>1</td>\n",
       "      <td>0</td>\n",
       "      <td>0</td>\n",
       "    </tr>\n",
       "    <tr>\n",
       "      <th>features</th>\n",
       "      <td>(0.0, 0.0, 0.0, 0.0, 0.0, 0.0, 0.0, 0.0, 0.0, ...</td>\n",
       "      <td>(0.0, 0.0, 0.0, 0.0, 0.0, 0.0, 0.0, 0.0, 0.0, ...</td>\n",
       "      <td>(0.0, 0.0, 0.0, 0.0, 0.0, 0.0, 0.0, 0.0, 0.0, ...</td>\n",
       "      <td>(0.0, 0.0, 0.0, 0.0, 0.0, 0.0, 0.0, 0.0, 0.0, ...</td>\n",
       "      <td>(0.0, 0.0, 0.0, 0.0, 0.0, 0.0, 0.0, 0.0, 0.0, ...</td>\n",
       "    </tr>\n",
       "    <tr>\n",
       "      <th>x</th>\n",
       "      <td>0.842637</td>\n",
       "      <td>0.0723311</td>\n",
       "      <td>-0.806359</td>\n",
       "      <td>0.247634</td>\n",
       "      <td>0.0677492</td>\n",
       "    </tr>\n",
       "    <tr>\n",
       "      <th>y</th>\n",
       "      <td>0.38626</td>\n",
       "      <td>0.721267</td>\n",
       "      <td>0.61134</td>\n",
       "      <td>0.507109</td>\n",
       "      <td>0.32471</td>\n",
       "    </tr>\n",
       "    <tr>\n",
       "      <th>z</th>\n",
       "      <td>2.72878</td>\n",
       "      <td>0.104368</td>\n",
       "      <td>3.83472</td>\n",
       "      <td>-0.661217</td>\n",
       "      <td>0.408058</td>\n",
       "    </tr>\n",
       "    <tr>\n",
       "      <th>myunion</th>\n",
       "      <td>1</td>\n",
       "      <td>0</td>\n",
       "      <td>1</td>\n",
       "      <td>0</td>\n",
       "      <td>0</td>\n",
       "    </tr>\n",
       "  </tbody>\n",
       "</table>\n",
       "</div>"
      ],
      "text/plain": [
       "                                                          0  \\\n",
       "label                                                     1   \n",
       "features  (0.0, 0.0, 0.0, 0.0, 0.0, 0.0, 0.0, 0.0, 0.0, ...   \n",
       "x                                                  0.842637   \n",
       "y                                                   0.38626   \n",
       "z                                                   2.72878   \n",
       "myunion                                                   1   \n",
       "\n",
       "                                                          1  \\\n",
       "label                                                     0   \n",
       "features  (0.0, 0.0, 0.0, 0.0, 0.0, 0.0, 0.0, 0.0, 0.0, ...   \n",
       "x                                                 0.0723311   \n",
       "y                                                  0.721267   \n",
       "z                                                  0.104368   \n",
       "myunion                                                   0   \n",
       "\n",
       "                                                          2  \\\n",
       "label                                                     1   \n",
       "features  (0.0, 0.0, 0.0, 0.0, 0.0, 0.0, 0.0, 0.0, 0.0, ...   \n",
       "x                                                 -0.806359   \n",
       "y                                                   0.61134   \n",
       "z                                                   3.83472   \n",
       "myunion                                                   1   \n",
       "\n",
       "                                                          3  \\\n",
       "label                                                     0   \n",
       "features  (0.0, 0.0, 0.0, 0.0, 0.0, 0.0, 0.0, 0.0, 0.0, ...   \n",
       "x                                                  0.247634   \n",
       "y                                                  0.507109   \n",
       "z                                                 -0.661217   \n",
       "myunion                                                   0   \n",
       "\n",
       "                                                          4  \n",
       "label                                                     0  \n",
       "features  (0.0, 0.0, 0.0, 0.0, 0.0, 0.0, 0.0, 0.0, 0.0, ...  \n",
       "x                                                 0.0677492  \n",
       "y                                                   0.32471  \n",
       "z                                                  0.408058  \n",
       "myunion                                                   0  "
      ]
     },
     "execution_count": 414,
     "metadata": {},
     "output_type": "execute_result"
    }
   ],
   "source": [
    "pd.DataFrame(df.take(5), columns=df.columns).transpose()"
   ]
  },
  {
   "cell_type": "code",
   "execution_count": 415,
   "metadata": {},
   "outputs": [
    {
     "name": "stdout",
     "output_type": "stream",
     "text": [
      "Training Dataset Count: 451\n",
      "Test Dataset Count: 100\n"
     ]
    }
   ],
   "source": [
    "train, test = df.randomSplit([0.8, 0.2], seed = 2018)\n",
    "print(\"Training Dataset Count: \" + str(train.count()))\n",
    "print(\"Test Dataset Count: \" + str(test.count()))\n"
   ]
  },
  {
   "cell_type": "code",
   "execution_count": 416,
   "metadata": {},
   "outputs": [],
   "source": [
    "from pyspark.ml.classification import LogisticRegression\n",
    "lr = LogisticRegression(featuresCol = 'features', labelCol = 'label', maxIter=10)\n",
    "lrModel = lr.fit(train)\n"
   ]
  },
  {
   "cell_type": "code",
   "execution_count": 417,
   "metadata": {},
   "outputs": [
    {
     "name": "stdout",
     "output_type": "stream",
     "text": [
      "lrModel.coefficients= DenseMatrix([[ 1.59758706,  1.58686674,  1.53285167, ..., -0.04023613,\n",
      "              -0.33373493, -0.87995076],\n",
      "             [-1.02011308, -0.87290941, -0.89356742, ...,  0.01905807,\n",
      "               0.56226789,  0.40720557],\n",
      "             [-0.57747398, -0.71395732, -0.63928425, ...,  0.02117806,\n",
      "              -0.22853296,  0.47274519]])\n"
     ]
    }
   ],
   "source": [
    "print('lrModel.coefficients=', lrModel.coefficientMatrix)"
   ]
  },
  {
   "cell_type": "code",
   "execution_count": 418,
   "metadata": {},
   "outputs": [],
   "source": [
    "# import matplotlib.pyplot as plt\n",
    "# import numpy as np\n",
    "# beta = np.sort(lrModel.coefficients)\n",
    "# plt.plot(beta)\n",
    "# plt.ylabel('Beta Coefficients')\n",
    "# plt.show()"
   ]
  },
  {
   "cell_type": "code",
   "execution_count": 419,
   "metadata": {},
   "outputs": [],
   "source": [
    "# trainingSummary = lrModel.summary\n",
    "# print(trainingSummary)\n",
    "# roc = trainingSummary.roc.toPandas()\n",
    "# # plt.plot(roc['FPR'],roc['TPR'])\n",
    "# # plt.ylabel('False Positive Rate')\n",
    "# # plt.xlabel('True Positive Rate')\n",
    "# # plt.title('ROC Curve')\n",
    "# # plt.show()\n",
    "# # print('Training set areaUnderROC: ' + str(trainingSummary.areaUnderROC))"
   ]
  },
  {
   "cell_type": "code",
   "execution_count": 420,
   "metadata": {},
   "outputs": [],
   "source": [
    "# pr = trainingSummary.pr.toPandas()\n",
    "# plt.plot(pr['recall'],pr['precision'])\n",
    "# plt.ylabel('Precision')\n",
    "# plt.xlabel('Recall')\n",
    "# plt.show()"
   ]
  },
  {
   "cell_type": "code",
   "execution_count": 421,
   "metadata": {},
   "outputs": [
    {
     "name": "stdout",
     "output_type": "stream",
     "text": [
      "+--------------------+--------------------+--------------------+-----+--------------------+----------+--------------------+\n",
      "|                   x|                   y|                   z|label|       rawPrediction|prediction|         probability|\n",
      "+--------------------+--------------------+--------------------+-----+--------------------+----------+--------------------+\n",
      "| 0.09523634217064259|  0.2594789696724389|-0.26114035570724137|  0.0|[1.37994758165136...|       0.0|[0.78430485252652...|\n",
      "|-0.44480209691140726|-0.08948525770121041| -0.2479061628883188|  0.0|[1.49950889653402...|       0.0|[0.80010328083001...|\n",
      "|  0.5470425068395441| 0.08509873547814428|  0.8207793742386784|  0.0|[0.93391417842343...|       0.0|[0.61726538118893...|\n",
      "| 0.05361151152066079| 0.29994068747688063| -0.8390120869343676|  0.0|[1.57964921937548...|       0.0|[0.83962624484586...|\n",
      "|-0.03264910207686...|-0.34007198973650565| -0.7795409285363049|  0.0|[1.60311354938510...|       0.0|[0.84276079838529...|\n",
      "| -0.0541077412543276|  0.7240582570722633| -0.6751366337512421|  0.0|[1.52982210216439...|       0.0|[0.82579903155761...|\n",
      "| -0.4495581951573113| 0.32406641562113103|-0.15576642582653255|  0.0|[1.45308714175803...|       0.0|[0.78528158419114...|\n",
      "|-0.43356397024849547|  -0.536369661953302|  0.6314514591040983|  0.0|[1.22172966195220...|       0.0|[0.67885691493797...|\n",
      "|  0.6833217776320633| -0.5007007100680287|-0.20110389514530014|  0.0|[1.27077989001643...|       0.0|[0.76500229738199...|\n",
      "| -0.3053162598966219| 0.20249062704506748| -0.8207728297678758|  0.0|[1.65055103426525...|       0.0|[0.84943512123097...|\n",
      "+--------------------+--------------------+--------------------+-----+--------------------+----------+--------------------+\n",
      "only showing top 10 rows\n",
      "\n"
     ]
    }
   ],
   "source": [
    "predictions = lrModel.transform(test)\n",
    "predictions.select('x', 'y','z', 'label', 'rawPrediction', 'prediction', 'probability').show(10)\n"
   ]
  },
  {
   "cell_type": "code",
   "execution_count": 422,
   "metadata": {},
   "outputs": [
    {
     "name": "stdout",
     "output_type": "stream",
     "text": [
      "LogisticRegression Test Area Under ROC(accuracy) 0.9931006493506492\n"
     ]
    }
   ],
   "source": [
    "from pyspark.ml.evaluation import BinaryClassificationEvaluator\n",
    "evaluator = BinaryClassificationEvaluator()\n",
    "ee = evaluator.evaluate(predictions)\n",
    "print('LogisticRegression Test Area Under ROC(accuracy)', ee)\n",
    "mydata = []\n",
    "mydata.append(ee)"
   ]
  },
  {
   "cell_type": "code",
   "execution_count": 423,
   "metadata": {},
   "outputs": [
    {
     "name": "stdout",
     "output_type": "stream",
     "text": [
      "+--------------------+--------------------+--------------------+-----+---------------+----------+-------------+\n",
      "|                   x|                   y|                   z|label|  rawPrediction|prediction|  probability|\n",
      "+--------------------+--------------------+--------------------+-----+---------------+----------+-------------+\n",
      "| 0.09523634217064259|  0.2594789696724389|-0.26114035570724137|  0.0|[263.0,0.0,0.0]|       0.0|[1.0,0.0,0.0]|\n",
      "|-0.44480209691140726|-0.08948525770121041| -0.2479061628883188|  0.0|[263.0,0.0,0.0]|       0.0|[1.0,0.0,0.0]|\n",
      "|  0.5470425068395441| 0.08509873547814428|  0.8207793742386784|  0.0|[263.0,0.0,0.0]|       0.0|[1.0,0.0,0.0]|\n",
      "| 0.05361151152066079| 0.29994068747688063| -0.8390120869343676|  0.0|[263.0,0.0,0.0]|       0.0|[1.0,0.0,0.0]|\n",
      "|-0.03264910207686...|-0.34007198973650565| -0.7795409285363049|  0.0|[263.0,0.0,0.0]|       0.0|[1.0,0.0,0.0]|\n",
      "| -0.0541077412543276|  0.7240582570722633| -0.6751366337512421|  0.0|[263.0,0.0,0.0]|       0.0|[1.0,0.0,0.0]|\n",
      "| -0.4495581951573113| 0.32406641562113103|-0.15576642582653255|  0.0|[263.0,0.0,0.0]|       0.0|[1.0,0.0,0.0]|\n",
      "|-0.43356397024849547|  -0.536369661953302|  0.6314514591040983|  0.0|[263.0,0.0,0.0]|       0.0|[1.0,0.0,0.0]|\n",
      "|  0.6833217776320633| -0.5007007100680287|-0.20110389514530014|  0.0|[263.0,0.0,0.0]|       0.0|[1.0,0.0,0.0]|\n",
      "| -0.3053162598966219| 0.20249062704506748| -0.8207728297678758|  0.0|[263.0,0.0,0.0]|       0.0|[1.0,0.0,0.0]|\n",
      "+--------------------+--------------------+--------------------+-----+---------------+----------+-------------+\n",
      "only showing top 10 rows\n",
      "\n"
     ]
    }
   ],
   "source": [
    "from pyspark.ml.classification import DecisionTreeClassifier\n",
    "dt = DecisionTreeClassifier(featuresCol = 'features', labelCol = 'label', maxDepth = 3)\n",
    "dtModel = dt.fit(train)\n",
    "predictions = dtModel.transform(test)\n",
    "predictions.select('x', 'y', 'z', 'label', 'rawPrediction', 'prediction', 'probability').show(10)\n"
   ]
  },
  {
   "cell_type": "code",
   "execution_count": 424,
   "metadata": {},
   "outputs": [],
   "source": [
    "evaluator = BinaryClassificationEvaluator()\n",
    "# print(\"Test Area Under ROC: \" + str(evaluator.evaluate(predictions, {evaluator.metricName: \"areaUnderROC\"})))"
   ]
  },
  {
   "cell_type": "code",
   "execution_count": 425,
   "metadata": {},
   "outputs": [],
   "source": [
    "from pyspark.ml.classification import DecisionTreeClassifier\n",
    "dt = DecisionTreeClassifier(featuresCol = 'features', labelCol = 'label', maxDepth = 3)\n",
    "dtModel = dt.fit(train)\n",
    "predictions = dtModel.transform(test)\n"
   ]
  },
  {
   "cell_type": "code",
   "execution_count": 426,
   "metadata": {},
   "outputs": [
    {
     "name": "stdout",
     "output_type": "stream",
     "text": [
      "DecisionTreeClassifier Test Area Under ROC(accuracy): 0.9318181818181819\n"
     ]
    }
   ],
   "source": [
    "evaluator = BinaryClassificationEvaluator()\n",
    "ee2 = evaluator.evaluate(predictions, {evaluator.metricName: \"areaUnderROC\"})\n",
    "print(\"DecisionTreeClassifier Test Area Under ROC(accuracy): \" + str(ee2))\n",
    "mydata.append(ee2)"
   ]
  },
  {
   "cell_type": "code",
   "execution_count": 427,
   "metadata": {},
   "outputs": [
    {
     "data": {
      "image/png": "[encoded data removed]",
      "text/plain": [
       "<Figure size 432x288 with 1 Axes>"
      ]
     },
     "metadata": {
      "needs_background": "light"
     },
     "output_type": "display_data"
    }
   ],
   "source": [
    "import matplotlib.pyplot as plt\n",
    "\n",
    "# data = [5, 20, 15, 25, 10]\n",
    "labels = ['LogisticRegression', 'DecisionTree']\n",
    "plt.bar(range(len(mydata)), mydata, tick_label=labels)\n",
    "plt.show()"
   ]
  },
  {
   "cell_type": "code",
   "execution_count": 428,
   "metadata": {},
   "outputs": [
    {
     "name": "stdout",
     "output_type": "stream",
     "text": [
      "----------kmean-------\n",
      "\n",
      "\n",
      "\n",
      "\n",
      "\n",
      "\n",
      "\n",
      "\n"
     ]
    }
   ],
   "source": [
    "print('----------kmean-------\\n\\n\\n\\n\\n\\n\\n\\n')"
   ]
  },
  {
   "cell_type": "code",
   "execution_count": 406,
   "metadata": {},
   "outputs": [
    {
     "name": "stdout",
     "output_type": "stream",
     "text": [
      "+-----+--------------------+-------------------+-------------------+-------------------+-------+\n",
      "|label|            features|                  x|                  y|                  z|myunion|\n",
      "+-----+--------------------+-------------------+-------------------+-------------------+-------+\n",
      "|  1.0|(1654,[59,716,158...| 0.8426366843931521|0.38626007182305955|  2.728782926636305|      1|\n",
      "|  0.0|(1654,[351,1096,1...|0.07233108156807222| 0.7212666880629572|0.10436794434214747|      0|\n",
      "+-----+--------------------+-------------------+-------------------+-------------------+-------+\n",
      "only showing top 2 rows\n",
      "\n"
     ]
    }
   ],
   "source": [
    "from pyspark.ml.feature import VectorAssembler\n",
    "# assemble=VectorAssembler(inputCols=[\n",
    "#  'x',\n",
    "#  'y',\n",
    "#  'z',\n",
    "#  'myunion'], outputCol='features')\n",
    "# assembled_data=assemble.transform(df)\n",
    "assembled_data = df\n",
    "assembled_data.show(2)"
   ]
  },
  {
   "cell_type": "code",
   "execution_count": 410,
   "metadata": {},
   "outputs": [
    {
     "name": "stdout",
     "output_type": "stream",
     "text": [
      "+-----+--------------------+-------------------+-------------------+-------------------+-------+--------------------+\n",
      "|label|            features|                  x|                  y|                  z|myunion|        standardized|\n",
      "+-----+--------------------+-------------------+-------------------+-------------------+-------+--------------------+\n",
      "|  1.0|(1654,[59,716,158...| 0.8426366843931521|0.38626007182305955|  2.728782926636305|      1|(1654,[59,716,158...|\n",
      "|  0.0|(1654,[351,1096,1...|0.07233108156807222| 0.7212666880629572|0.10436794434214747|      0|(1654,[351,1096,1...|\n",
      "+-----+--------------------+-------------------+-------------------+-------------------+-------+--------------------+\n",
      "only showing top 2 rows\n",
      "\n"
     ]
    }
   ],
   "source": [
    "from pyspark.ml.feature import StandardScaler\n",
    "scale=StandardScaler(inputCol='features',outputCol='standardized')\n",
    "data_scale=scale.fit(assembled_data)\n",
    "data_scale_output=data_scale.transform(assembled_data)\n",
    "data_scale_output.show(2)\n"
   ]
  },
  {
   "cell_type": "code",
   "execution_count": 412,
   "metadata": {},
   "outputs": [
    {
     "name": "stdout",
     "output_type": "stream",
     "text": [
      "location of the centroids= [array([ 0.04267889,  0.04267889,  0.04267889, ..., -0.06168474,\n",
      "        0.62812461,  0.77179382]), array([ 0.        ,  0.        ,  0.        , ..., -1.37694208,\n",
      "        0.61481814,  2.9580948 ])]\n",
      "K of clusters= 2 -------------------- Silhouette Score: 0.00441132766260338\n",
      "location of the centroids= [array([ 0.        ,  0.        ,  0.        , ..., -0.24610704,\n",
      "        1.68402685,  1.4790474 ]), array([ 0.        ,  0.        ,  0.        , ..., -0.20691636,\n",
      "        0.3190635 ,  2.9580948 ]), array([ 0.04291296,  0.04291296,  0.04291296, ..., -0.06288392,\n",
      "        0.6253696 ,  0.76521099])]\n",
      "K of clusters= 3 -------------------- Silhouette Score: 0.000552762866400319\n",
      "location of the centroids= [array([ 0.04330884,  0.04330884,  0.04330884, ..., -0.06839184,\n",
      "        0.63937127,  0.78864335]), array([ 0.        ,  0.        ,  0.        , ...,  0.74223186,\n",
      "       -0.41218446,  0.        ]), array([0.        , 0.        , 0.        , ..., 0.569986  , 0.19845867,\n",
      "       0.        ]), array([ 0.        ,  0.        ,  0.        , ..., -0.35739765,\n",
      "       -0.05672092,  0.        ])]\n",
      "K of clusters= 4 -------------------- Silhouette Score: -8.690735653806783e-05\n"
     ]
    }
   ],
   "source": [
    "from pyspark.ml.clustering import KMeans\n",
    "from pyspark.ml.evaluation import ClusteringEvaluator\n",
    "silhouette_score=[]\n",
    "evaluator = ClusteringEvaluator(predictionCol='prediction', featuresCol='standardized', \\\n",
    "                                metricName='silhouette', distanceMeasure='squaredEuclidean')\n",
    "for i in range(2,5):\n",
    "    \n",
    "    KMeans_algo=KMeans(featuresCol='standardized', k=i)\n",
    "    \n",
    "    KMeans_fit=KMeans_algo.fit(data_scale_output)\n",
    "    print('location of the centroids=',KMeans_fit.clusterCenters() )\n",
    "    output=KMeans_fit.transform(data_scale_output)\n",
    "    \n",
    "    \n",
    "    \n",
    "    score=evaluator.evaluate(output)\n",
    "    \n",
    "    silhouette_score.append(score)\n",
    "    \n",
    "    print(\"K of clusters=\",i,'-'*20,\"Silhouette Score:\",score)"
   ]
  },
  {
   "cell_type": "code",
   "execution_count": 413,
   "metadata": {},
   "outputs": [
    {
     "data": {
      "text/plain": [
       "Text(0, 0.5, 'cost')"
      ]
     },
     "execution_count": 413,
     "metadata": {},
     "output_type": "execute_result"
    },
    {
     "data": {
      "image/png": "[encoded data removed]",
      "text/plain": [
       "<Figure size 576x432 with 1 Axes>"
      ]
     },
     "metadata": {
      "needs_background": "light"
     },
     "output_type": "display_data"
    }
   ],
   "source": [
    "#Visualizing the silhouette scores in KMeans\n",
    "import matplotlib.pyplot as plt\n",
    "fig, ax = plt.subplots(1,1, figsize =(8,6))\n",
    "ax.plot(range(2,5),silhouette_score)\n",
    "ax.set_xlabel('k')\n",
    "ax.set_ylabel('cost')"
   ]
  },
  {
   "cell_type": "code",
   "execution_count": null,
   "metadata": {},
   "outputs": [],
   "source": []
  },
  {
   "cell_type": "code",
   "execution_count": null,
   "metadata": {},
   "outputs": [],
   "source": []
  },
  {
   "cell_type": "code",
   "execution_count": null,
   "metadata": {},
   "outputs": [],
   "source": []
  },
  {
   "cell_type": "code",
   "execution_count": null,
   "metadata": {},
   "outputs": [],
   "source": []
  }
 ],
 "metadata": {
  "kernelspec": {
   "display_name": "Python 3",
   "language": "python",
   "name": "python3"
  },
  "language_info": {
   "codemirror_mode": {
    "name": "ipython",
    "version": 3
   },
   "file_extension": ".py",
   "mimetype": "text/x-python",
   "name": "python",
   "nbconvert_exporter": "python",
   "pygments_lexer": "ipython3",
   "version": "3.7.7"
  }
 },
 "nbformat": 4,
 "nbformat_minor": 4
}
