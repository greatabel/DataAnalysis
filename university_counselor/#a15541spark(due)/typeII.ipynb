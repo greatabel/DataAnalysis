{
 "cells": [
  {
   "cell_type": "markdown",
   "metadata": {},
   "source": [
    "# Setup"
   ]
  },
  {
   "cell_type": "code",
   "execution_count": 44,
   "metadata": {},
   "outputs": [
    {
     "name": "stdout",
     "output_type": "stream",
     "text": [
      "Loading tweets from /home/abel/AbelProject/DataAnalysis/a15541spark/air_transit_2007.csv\n"
     ]
    }
   ],
   "source": [
    "# # Init pyspark\n",
    "# from pyspark import SparkContext\n",
    "# sc = SparkContext.getOrCreate()\n",
    "# # Init sparksql -- Only used to format the output nicely!\n",
    "# from pyspark.sql import SQLContext\n",
    "# sqlContext = SQLContext(sc)\n",
    "\n",
    "# rows = sc.textFile(\"/air_transit_2007.csv\")\n",
    "# #rows = sc.textFile(\"/Users/abel/Downloads/spare_time/working/a13544_600_spark/air_transit_2007.csv\")\n",
    "\n",
    "# data = rows.map(lambda line: line.split(\",\"))\n",
    "# # data.cache()\n",
    "\n",
    "# import findspark\n",
    "# findspark.init()\n",
    "# A simple demo for working with SparkSQL and Tweets\n",
    "from pyspark import SparkContext, SparkConf\n",
    "from pyspark.sql import HiveContext, Row\n",
    "from pyspark.sql.types import IntegerType\n",
    "import json\n",
    "import sys\n",
    "\n",
    "\n",
    "inputFile = 'air_transit_2007.csv'\n",
    "inputFile = '/home/abel/AbelProject/DataAnalysis/a15541spark/air_transit_2007.csv'\n",
    "\n",
    "conf = SparkConf().setAppName(\"SparkSQLAirTransit\")\n",
    "SparkConf().set(\"spark.sql.legacy.timeParserPolicy\",\"LEGACY\")\n",
    "\n",
    "sc = SparkContext.getOrCreate(conf=conf)\n",
    "hiveCtx = HiveContext(sc)\n",
    "print(\"Loading tweets from \" + inputFile)\n"
   ]
  },
  {
   "cell_type": "code",
   "execution_count": 45,
   "metadata": {},
   "outputs": [
    {
     "name": "stdout",
     "output_type": "stream",
     "text": [
      "root\n",
      " |-- Year: integer (nullable = true)\n",
      " |-- Month: integer (nullable = true)\n",
      " |-- DayofMonth: integer (nullable = true)\n",
      " |-- DayOfWeek: integer (nullable = true)\n",
      " |-- DepTime: string (nullable = true)\n",
      " |-- CRSDepTime: integer (nullable = true)\n",
      " |-- ArrTime: string (nullable = true)\n",
      " |-- CRSArrTime: integer (nullable = true)\n",
      " |-- UniqueCarrier: string (nullable = true)\n",
      " |-- FlightNum: integer (nullable = true)\n",
      " |-- TailNum: string (nullable = true)\n",
      " |-- ActualElapsedTime: string (nullable = true)\n",
      " |-- CRSElapsedTime: integer (nullable = true)\n",
      " |-- AirTime: string (nullable = true)\n",
      " |-- ArrDelay: string (nullable = true)\n",
      " |-- DepDelay: string (nullable = true)\n",
      " |-- Origin: string (nullable = true)\n",
      " |-- Dest: string (nullable = true)\n",
      " |-- Distance: integer (nullable = true)\n",
      " |-- TaxiIn: integer (nullable = true)\n",
      " |-- TaxiOut: integer (nullable = true)\n",
      " |-- Cancelled: integer (nullable = true)\n",
      " |-- CancellationCode: string (nullable = true)\n",
      " |-- Diverted: integer (nullable = true)\n",
      " |-- CarrierDelay: integer (nullable = true)\n",
      " |-- WeatherDelay: integer (nullable = true)\n",
      " |-- NASDelay: integer (nullable = true)\n",
      " |-- SecurityDelay: integer (nullable = true)\n",
      " |-- LateAircraftDelay: integer (nullable = true)\n",
      "\n"
     ]
    }
   ],
   "source": [
    "input = hiveCtx.read.option(\"header\",True).csv(inputFile,inferSchema =True)\n",
    "input.printSchema()\n",
    "\n"
   ]
  },
  {
   "cell_type": "code",
   "execution_count": 46,
   "metadata": {},
   "outputs": [],
   "source": [
    "# Sample Query"
   ]
  },
  {
   "cell_type": "code",
   "execution_count": 47,
   "metadata": {
    "scrolled": false
   },
   "outputs": [
    {
     "name": "stdout",
     "output_type": "stream",
     "text": [
      "myair_transits:\n",
      "Row(Year=2007, Month=1, DayofMonth=1, DayOfWeek=1, DepTime='1232', CRSDepTime=1225, ArrTime='1341', CRSArrTime=1340, UniqueCarrier='WN', FlightNum=2891, TailNum='N351', ActualElapsedTime='69', CRSElapsedTime=75, AirTime='54', ArrDelay='1', DepDelay='7', Origin='SMF', Dest='ONT', Distance=389, TaxiIn=4, TaxiOut=11, Cancelled=0, CancellationCode=None, Diverted=0, CarrierDelay=0, WeatherDelay=0, NASDelay=0, SecurityDelay=0, LateAircraftDelay=0) \n",
      "\n",
      "Row(Year=2007, Month=1, DayofMonth=1, DayOfWeek=1, DepTime='1918', CRSDepTime=1905, ArrTime='2043', CRSArrTime=2035, UniqueCarrier='WN', FlightNum=462, TailNum='N370', ActualElapsedTime='85', CRSElapsedTime=90, AirTime='74', ArrDelay='8', DepDelay='13', Origin='SMF', Dest='PDX', Distance=479, TaxiIn=5, TaxiOut=6, Cancelled=0, CancellationCode=None, Diverted=0, CarrierDelay=0, WeatherDelay=0, NASDelay=0, SecurityDelay=0, LateAircraftDelay=0) \n",
      "\n",
      "Row(Year=2007, Month=1, DayofMonth=1, DayOfWeek=1, DepTime='2206', CRSDepTime=2130, ArrTime='2334', CRSArrTime=2300, UniqueCarrier='WN', FlightNum=1229, TailNum='N685', ActualElapsedTime='88', CRSElapsedTime=90, AirTime='73', ArrDelay='34', DepDelay='36', Origin='SMF', Dest='PDX', Distance=479, TaxiIn=6, TaxiOut=9, Cancelled=0, CancellationCode=None, Diverted=0, CarrierDelay=3, WeatherDelay=0, NASDelay=0, SecurityDelay=0, LateAircraftDelay=31) \n",
      "\n"
     ]
    }
   ],
   "source": [
    "\n",
    "input.registerTempTable(\"air_transit\")\n",
    "\n",
    "myair_transits = hiveCtx.sql(\"SELECT * FROM air_transit  LIMIT 3\")\n",
    "print('myair_transits:' )\n",
    "for item in myair_transits.collect():\n",
    "    print(item, '\\n')"
   ]
  },
  {
   "cell_type": "markdown",
   "metadata": {},
   "source": [
    "## explore1\n",
    "Compute the total number of records."
   ]
  },
  {
   "cell_type": "code",
   "execution_count": 48,
   "metadata": {
    "scrolled": false
   },
   "outputs": [
    {
     "name": "stdout",
     "output_type": "stream",
     "text": [
      "total number of records. 8326\n"
     ]
    }
   ],
   "source": [
    "# Response...\n",
    "df = input\n",
    "\n",
    "# mycount = hiveCtx.sql(\"SELECT count(*) as mycount FROM air_transit\")\n",
    "# print('mycount=', mycount.collect()[0]['mycount'] )\n",
    "\n",
    "print('total number of records.',df.count() )"
   ]
  },
  {
   "cell_type": "code",
   "execution_count": 49,
   "metadata": {},
   "outputs": [
    {
     "name": "stdout",
     "output_type": "stream",
     "text": [
      "Explore2 total number of operated flights per month, sorted by the month:\n",
      "None 10\n",
      "1 1100\n",
      "2 2739\n",
      "12 4477\n"
     ]
    }
   ],
   "source": [
    "\n",
    "#Find total number of operated flights per month, sorted by the month..\n",
    "\n",
    "\n",
    "# mymonth = hiveCtx.sql(\"select Month, count(*) as flight_number from air_transit group by Month order by Month LIMIT 100\")\n",
    "# print('total number of operated flights per month:')  \n",
    "# for item in mymonth.collect():\n",
    "#     print(item['Month'], 'month', item['flight_number'])\n",
    "    \n",
    "from pyspark.sql.functions import col\n",
    "\n",
    "print('Explore2 total number of operated flights per month, sorted by the month:')\n",
    "\n",
    "df1 = df.groupBy(\"Month\").count().sort('Month',ascending=True)\n",
    "names = []\n",
    "values = []\n",
    "for item in df1.rdd.collect():\n",
    "    print(item['Month'], item['count'])\n",
    "    if item['Month'] is not None:\n",
    "        names.append(item['Month'])\n",
    "        values.append(item['count'])\n"
   ]
  },
  {
   "cell_type": "code",
   "execution_count": 50,
   "metadata": {},
   "outputs": [
    {
     "data": {
      "image/png": "[encoded data removed]",
      "text/plain": [
       "<Figure size 648x216 with 3 Axes>"
      ]
     },
     "metadata": {
      "needs_background": "light"
     },
     "output_type": "display_data"
    }
   ],
   "source": [
    "import matplotlib.pyplot as plt\n",
    "# names = ['group_a', 'group_b', 'group_c']\n",
    "# values = [1, 10, 100]\n",
    "\n",
    "plt.figure(figsize=(9, 3))\n",
    "\n",
    "plt.subplot(131)\n",
    "plt.bar(names, values)\n",
    "plt.subplot(132)\n",
    "plt.scatter(names, values)\n",
    "plt.subplot(133)\n",
    "plt.plot(names, values)\n",
    "plt.suptitle('Categorical Plotting')\n",
    "plt.show()"
   ]
  },
  {
   "cell_type": "code",
   "execution_count": 51,
   "metadata": {},
   "outputs": [
    {
     "name": "stdout",
     "output_type": "stream",
     "text": [
      "Explore3: highest number of flights. Each plane has a unique TailNum\n",
      "N912DE 99\n",
      "N909DE 88\n",
      "N911DE 88\n",
      "highest_number_filghts:  N912DE\n"
     ]
    }
   ],
   "source": [
    "\n",
    "# Find the plane with the highest number of flights. Each plane has a unique TailNum\n",
    "\n",
    "print('Explore3: highest number of flights. Each plane has a unique TailNum')\n",
    "df1 = df.filter(~col('TailNum').isin(['0', '000000']))\n",
    "df1 = df1.groupBy(\"TailNum\").count().sort('count',ascending=False)\n",
    "\n",
    "if df1 is not None:\n",
    "    for item in df1.rdd.collect()[:3]:\n",
    "        print(item['TailNum'], item['count'])\n",
    "    print('highest_number_filghts: ', df1.collect()[0]['TailNum'] )\n"
   ]
  },
  {
   "cell_type": "code",
   "execution_count": 52,
   "metadata": {},
   "outputs": [
    {
     "name": "stdout",
     "output_type": "stream",
     "text": [
      "Q4:total flight time of each airplane, sorted by flight time in descending order\n",
      "N3767 9977.0\n",
      "N385DN 8844.0\n",
      "N6707A 8173.0\n"
     ]
    }
   ],
   "source": [
    "import pyspark.sql.functions as F \n",
    "from pyspark.sql.functions import count, avg\n",
    "from pyspark.sql.functions import  max as max_\n",
    "# Compute the total flight time of each airplane, sorted by flight time in descending order.\n",
    "# total_flight_times = hiveCtx.sql(\"SELECT TailNum, SUM (AirTime) as total_fight_time FROM air_transit GROUP BY TailNum order by total_fight_time desc LIMIT 100\")\n",
    "# print('-'*10, 'We make ', '-'*10)\n",
    "# print('total flight time of each airplane: ')\n",
    "# for item in  total_flight_times.collect():\n",
    "#     print(item['TailNum'], ' total fight time is', item['total_fight_time'])\n",
    "\n",
    "print('Q4:total flight time of each airplane, sorted by flight time in descending order')\n",
    "df1 = df.groupBy(\"TailNum\").agg(F.sum(df['AirTime']).alias('result')).orderBy('result',ascending=False)\n",
    "if df1 is not None:\n",
    "    for item in df1.rdd.collect()[:3]:\n",
    "        print(item['TailNum'], item['result'])"
   ]
  },
  {
   "cell_type": "code",
   "execution_count": 53,
   "metadata": {},
   "outputs": [
    {
     "name": "stdout",
     "output_type": "stream",
     "text": [
      "1 ----------\n",
      "{'SNA': 473, 'SMF': 473, 'STL': 308}\n",
      "month_max: SNA  ,departures + arrivals of this month: 473\n",
      "2 ----------\n",
      "{'LAS': 1771, 'LAX': 1122}\n",
      "month_max: LAS  ,departures + arrivals of this month: 1771\n"
     ]
    }
   ],
   "source": [
    "#  Find the busiest airport (in terms of number of departures + arrivals of all operated flights) for each month.\n",
    "from pyspark.sql.functions import col\n",
    "import operator\n",
    "df = input\n",
    "\n",
    "for month in range(1, 3):\n",
    "    print(month, '-'*10)\n",
    "    df1=df.filter(col('Month').isin([month])).groupBy('Origin').count()\n",
    "    df2=df.filter(col('Month').isin([month])).groupBy('Dest').count()\n",
    "    #print(type(df1), type(df2))\n",
    "    k_v = {}\n",
    "    for orgin in df1.collect():\n",
    "#         print(orgin['Origin'],orgin['cou4t'])\n",
    "        k_v[orgin['Origin']] = orgin['count']\n",
    "    for dest in df2.collect():\n",
    "        if k_v.get(dest['Dest']) :\n",
    "#             print(dest)\n",
    "#             print('before',k_v[dest['Dest']])\n",
    "            k_v[dest['Dest']] += dest['count']\n",
    "#             print('after',k_v[dest['Dest']])\n",
    "\n",
    "    print(k_v)\n",
    "    if k_v is not None and len(k_v.items()) > 0:\n",
    "        month_max, thecount = max(k_v.items(), key=operator.itemgetter(1))\n",
    "        print('month_max:', month_max, ' ,departures + arrivals of this month:', thecount)\n",
    "\n"
   ]
  },
  {
   "cell_type": "code",
   "execution_count": 54,
   "metadata": {},
   "outputs": [
    {
     "name": "stdout",
     "output_type": "stream",
     "text": [
      "1 all of group:\n",
      "+---------+-----------------+-----------------+-------------+------------------+----------------------+\n",
      "|FlightNum|avg(CarrierDelay)|avg(WeatherDelay)|avg(NASDelay)|avg(SecurityDelay)|avg(LateAircraftDelay)|\n",
      "+---------+-----------------+-----------------+-------------+------------------+----------------------+\n",
      "|     1959|              0.0|              0.0|          0.0|               0.0|                   0.0|\n",
      "|     2659|              0.0|              0.0|          0.0|               0.0|                   0.0|\n",
      "|     1238|              0.0|              0.0|          0.0|               0.0|                   0.0|\n",
      "|     1591|              0.0|              0.0|          0.0|               0.0|                   0.0|\n",
      "|     1645|              0.0|              0.0|          0.0|               0.0|                   0.0|\n",
      "|     1460|              0.0|              0.0|          0.0|               0.0|                   0.0|\n",
      "|     1522|              0.0|              0.0|          0.0|               0.0|                   0.0|\n",
      "|      243|              0.0|              0.0|          0.0|               0.0|                   0.0|\n",
      "|     1721|              0.0|              0.0|         33.0|               0.0|                   0.0|\n",
      "|     1896|              0.0|              0.0|          0.0|               0.0|                   0.0|\n",
      "|      516|              0.0|              0.0|          0.0|               0.0|                   0.0|\n",
      "|     1618|              2.5|              0.0|          0.0|               0.0|                  42.0|\n",
      "|     1650|              0.0|              0.0|          0.0|               0.0|                   0.0|\n",
      "|     1699|             78.0|              0.0|          0.0|               0.0|                  50.0|\n",
      "|       31|              5.0|              0.0|          8.0|               0.0|                   7.0|\n",
      "|     1975|             20.0|              0.0|          7.0|               0.0|                   9.0|\n",
      "|     1265|              0.0|              0.0|          0.0|               0.0|                   0.0|\n",
      "|     1884|              0.0|              0.0|          0.0|               0.0|                   0.0|\n",
      "|     1977|              0.0|              0.0|          0.0|               0.0|                   0.0|\n",
      "|      898|              0.0|              0.0|          0.0|               0.0|                   0.0|\n",
      "+---------+-----------------+-----------------+-------------+------------------+----------------------+\n",
      "only showing top 20 rows\n",
      "\n",
      "2 the filghtnum is: 1728\n",
      "3 the max row:\n",
      "+---------+-----------------+-----------------+-------------+------------------+----------------------+\n",
      "|FlightNum|avg(CarrierDelay)|avg(WeatherDelay)|avg(NASDelay)|avg(SecurityDelay)|avg(LateAircraftDelay)|\n",
      "+---------+-----------------+-----------------+-------------+------------------+----------------------+\n",
      "|     1728|              0.0|              0.0|        123.0|               0.0|                   0.0|\n",
      "+---------+-----------------+-----------------+-------------+------------------+----------------------+\n",
      "\n"
     ]
    }
   ],
   "source": [
    "\n",
    "# 6nd the airline with highest average delay of each type in March 2007. \n",
    "#Note: do not write separate code for each error type. \n",
    "# You should compute a single RDD where each row contains the delay type, \n",
    "# the airline that is worst regarding that delay type, and its average delay of that type in minutes.\n",
    "\n",
    "import pyspark.sql.functions as F \n",
    "from pyspark.sql.functions import count, avg\n",
    "from pyspark.sql.functions import  max as max_\n",
    "\n",
    "# d_columns =  ['CarrierDelay','WeatherDelay', 'NASDelay', 'SecurityDelay', 'LateAircraftDelay']\n",
    "print('1 all of group:')\n",
    "df1 = df.groupBy(\"FlightNum\") \\\n",
    "    .avg('CarrierDelay','WeatherDelay', 'NASDelay', 'SecurityDelay', 'LateAircraftDelay')\n",
    "df1.show()\n",
    "\n",
    "r = df1.groupBy(\"FlightNum\").agg(F.sum(df1[1]+df1[2] + df1[3] + df1[4]).alias('result')).orderBy('result',ascending=False).head(1)\n",
    "print('2 the filghtnum is:', r[0].FlightNum)\n",
    "\n",
    "print('3 the max row:')\n",
    "df1.filter(col('FlightNum').isin([r[0].FlightNum])).show()"
   ]
  },
  {
   "cell_type": "code",
   "execution_count": 55,
   "metadata": {},
   "outputs": [
    {
     "name": "stdout",
     "output_type": "stream",
     "text": [
      "filter out week 3\n",
      "median of [12:16]:\n",
      "CRSElapsedTime  median:  []\n",
      "AirTime  median:  []\n",
      "ArrDelay  median:  []\n",
      "DepDelay  median:  []\n",
      "mean of [19:21] :\n",
      "+------+-------+\n",
      "|TaxiIn|TaxiOut|\n",
      "+------+-------+\n",
      "|  null|   null|\n",
      "+------+-------+\n",
      "\n",
      "mode of [25:29] :\n"
     ]
    }
   ],
   "source": [
    "## explore7\n",
    "# Compute median, mean, and mode of columns 12-16, 19-21 and 25-29 \n",
    "# for the flights in the third week of 2007. Exclude the non-numeric values.\n",
    "\n",
    "from pyspark.sql import functions as F\n",
    "from pyspark.sql.types import IntegerType\n",
    "\n",
    "print('filter out week 3')\n",
    "mydf = df.filter(col('DayOfWeek').isin([3])) \n",
    "\n",
    "print('median of [12:16]:')\n",
    "df1 = mydf.select(mydf.columns[12:16])\n",
    "# df1.show()\n",
    "\n",
    "# res  = df1.select(*[F.percentile_approx(c).alias(c) for c in df1.columns])\n",
    "# res.show()\n",
    "for name in ('CRSElapsedTime', 'AirTime', 'ArrDelay', 'DepDelay'):\n",
    "    df1 = df1.withColumn(name, df1[name].cast(IntegerType()))\n",
    "    quantiles = df1.approxQuantile(\"CRSElapsedTime\", [0.25, 0.5, 0.75], 0)\n",
    "    print(name, ' median: ',quantiles)\n",
    "\n",
    "df2 = mydf.select(mydf.columns[19:21])\n",
    "# df2.show()\n",
    "res2  = df2.select(*[F.mean(c).alias(c) for c in df2.columns])\n",
    "print('mean of [19:21] :')\n",
    "res2.show()\n",
    "\n",
    "df3 = mydf.select(mydf.columns[25:29])\n",
    "# df3.show()\n",
    "print('mode of [25:29] :')\n",
    "# [df3.groupby(i).count().orderBy(\"count\", ascending=False).first()[0] for i in df3.columns]\n",
    "for i in df3.columns:\n",
    "    t = df3.groupby(i).count().orderBy(\"count\", ascending=False).first()\n",
    "    if t is not None:\n",
    "        print(t)"
   ]
  },
  {
   "cell_type": "code",
   "execution_count": 56,
   "metadata": {},
   "outputs": [
    {
     "name": "stdout",
     "output_type": "stream",
     "text": [
      "stay 3:0 hour, it means before we shoulf flight here at least before back-fight start time - 3hours\n",
      "{}\n"
     ]
    }
   ],
   "source": [
    "\n",
    "#Assume that a passenger wants to travel from Philadelphia International Airport (airport code: PHL) \n",
    "# to Los Angeles International Airport (airport code: LAX), and then go back to Philadelphia (PHL). \n",
    "# He departs PHL not earlier than 5:59 am (scheduled time), stays at least 3:01 hours in Los Angeles and then arrive at PHL not later than 11pm. Based on the \"scheduled\" times, find which carrier has the highest number of flights with these constraints. \n",
    "# Limit your analysis to February 2007 and use scheduled times.\n",
    "\n",
    "from pyspark.sql.functions import col\n",
    "import pyspark.sql.functions as F\n",
    "\n",
    "\n",
    "df1 = df.filter(col('Month').isin([2]) & df.DepTime.isNotNull() & df.ArrTime.isNotNull() ) \n",
    "# filter datetime is too early data\n",
    "df1 = df1.filter( df.DepTime > '500' ) \n",
    "# df1 = df1.where(col(\"DepTime\").isNotNull()).collect()\n",
    "# df1 = df1.where(col(\"ArrTime\").isNotNull()).collect()\n",
    "\n",
    "df1 = df1.filter(col('Origin').isin(['PHL', 'LAX'])).filter(col('Dest').isin(['PHL', 'LAX']))\n",
    "# df1.show()\n",
    "\n",
    "# df2 = df1.filter(col('DepTime').isin([2])) \n",
    "print('stay 3:0 hour, it means before we shoulf flight here at least before back-fight start time - 3hours')\n",
    "dates = (\"1970-01-01 5:59:00\", \"1970-01-01 20:00:00\", \"1970-01-01 23:00:00\")\n",
    "# date_from, date_to = [to_date(lit(s)).cast(TimestampType()) for s in dates]\n",
    "\n",
    "\n",
    "df2 = df1.withColumn('DepTime_Date', F.to_timestamp('DepTime', 'hhmm'))\n",
    "df3 = df2.withColumn('ArrTime_Date', F.to_timestamp('ArrTime', 'hhmm'))\n",
    "# df2.show()\n",
    "\n",
    "df4 = df3.where( ((col('DepTime_Date') > dates[0]) & (col('ArrTime_Date') < dates[1])) |\n",
    "           (col('ArrTime_Date') < dates[2])\n",
    "         )\n",
    "# df4.show()\n",
    "if df4 is not None:\n",
    "    df5 = df4.groupBy('UniqueCarrier').count()\n",
    "    k_v = {}\n",
    "    for orgin in df5.rdd.collect():\n",
    "\n",
    "        k_v[orgin['UniqueCarrier']] = orgin['count']\n",
    "    print(k_v)\n",
    "    if k_v is not None and len(k_v.items())>0:\n",
    "        carriar_max = max(k_v.items(), key=operator.itemgetter(1))[0]\n",
    "        print('max UniqueCarrier :', carriar_max)"
   ]
  },
  {
   "cell_type": "code",
   "execution_count": 57,
   "metadata": {},
   "outputs": [
    {
     "name": "stdout",
     "output_type": "stream",
     "text": [
      "---------- departure flights(limit 100) ----------\n",
      "1340 1232 2891 ONT\n",
      "1410 1251 933 SAN\n",
      "1205 1042 1554 SAN\n",
      "1225 1045 1502 SEA\n",
      "1300 1140 1596 SNA\n",
      "1300 1233 851 LAS\n",
      "1155 1035 1184 OAK\n",
      "1315 1101 324 PHX\n",
      "1450 1245 1684 PHX\n",
      "1250 1136 2037 SJC\n",
      "1220 1052 1977 SMF\n",
      "1340 1215 2588 SMF\n",
      "1225 959 1477 CLE\n",
      "1225 1058 2108 DAL\n",
      "1115 1014 1361 LIT\n",
      "1340 1232 2891 ONT\n",
      "1410 1251 933 SAN\n",
      "1205 1042 1554 SAN\n",
      "1225 1045 1502 SEA\n",
      "1300 1140 1596 SNA\n",
      "1300 1233 851 LAS\n",
      "1155 1035 1184 OAK\n",
      "1315 1101 324 PHX\n",
      "1450 1245 1684 PHX\n",
      "1250 1136 2037 SJC\n",
      "1220 1052 1977 SMF\n",
      "1340 1215 2588 SMF\n",
      "1225 959 1477 CLE\n",
      "1225 1058 2108 DAL\n",
      "1115 1014 1361 LIT\n",
      "1340 1232 2891 ONT\n",
      "1410 1251 933 SAN\n",
      "1205 1042 1554 SAN\n",
      "1225 1045 1502 SEA\n",
      "1300 1140 1596 SNA\n",
      "1300 1233 851 LAS\n",
      "1155 1035 1184 OAK\n",
      "1315 1101 324 PHX\n",
      "1450 1245 1684 PHX\n",
      "1250 1136 2037 SJC\n",
      "1220 1052 1977 SMF\n",
      "1340 1215 2588 SMF\n",
      "1225 959 1477 CLE\n",
      "1225 1058 2108 DAL\n",
      "1115 1014 1361 LIT\n",
      "1340 1232 2891 ONT\n",
      "1410 1251 933 SAN\n",
      "1205 1042 1554 SAN\n",
      "1225 1045 1502 SEA\n",
      "1300 1140 1596 SNA\n",
      "1300 1233 851 LAS\n",
      "1155 1035 1184 OAK\n",
      "1315 1101 324 PHX\n",
      "1450 1245 1684 PHX\n",
      "1250 1136 2037 SJC\n",
      "1220 1052 1977 SMF\n",
      "1340 1215 2588 SMF\n",
      "1225 959 1477 CLE\n",
      "1225 1058 2108 DAL\n",
      "1115 1014 1361 LIT\n",
      "1340 1232 2891 ONT\n",
      "1410 1251 933 SAN\n",
      "1205 1042 1554 SAN\n",
      "1225 1045 1502 SEA\n",
      "1300 1140 1596 SNA\n",
      "1300 1233 851 LAS\n",
      "1155 1035 1184 OAK\n",
      "1315 1101 324 PHX\n",
      "1450 1245 1684 PHX\n",
      "1250 1136 2037 SJC\n",
      "1220 1052 1977 SMF\n",
      "1340 1215 2588 SMF\n",
      "1225 959 1477 CLE\n",
      "1225 1058 2108 DAL\n",
      "1115 1014 1361 LIT\n",
      "1340 1232 2891 ONT\n",
      "1410 1251 933 SAN\n",
      "1205 1042 1554 SAN\n",
      "1225 1045 1502 SEA\n",
      "1300 1140 1596 SNA\n",
      "1300 1233 851 LAS\n",
      "1155 1035 1184 OAK\n",
      "1315 1101 324 PHX\n",
      "1450 1245 1684 PHX\n",
      "1250 1136 2037 SJC\n",
      "1220 1052 1977 SMF\n",
      "1340 1215 2588 SMF\n",
      "1225 959 1477 CLE\n",
      "1225 1058 2108 DAL\n",
      "1115 1014 1361 LIT\n",
      "1340 1232 2891 ONT\n",
      "1410 1251 933 SAN\n",
      "1205 1042 1554 SAN\n",
      "1225 1045 1502 SEA\n",
      "1300 1140 1596 SNA\n",
      "1300 1233 851 LAS\n",
      "1155 1035 1184 OAK\n",
      "1315 1101 324 PHX\n",
      "1450 1245 1684 PHX\n",
      "1250 1136 2037 SJC\n"
     ]
    }
   ],
   "source": [
    "\n",
    "#Generate the `departure flights` board of the Los Angeles Airport at 12 Jan 2007 at 13:00. \n",
    "# The board should contain flights with actual departure times between 12:00 and 14:00, \n",
    "# sorted by scheduled departure time. The resulting table should at least contain scheduled departure time, \n",
    "# actual departure time (if departed), \n",
    "# airline code, and destination\n",
    "df1 = df.filter(col('Month').isin([1])).filter(col('DayofMonth').isin([1]))\n",
    "df1 = df1.filter( df.CRSDepTime > '500' ) \n",
    "\n",
    "dates = (\"1970-01-01 12:00:00\", \"1970-01-01 14:00:00\")\n",
    "dates = (\"1970-01-01 00:01:00\", \"1970-01-01 23:59:00\")\n",
    "# date_from, date_to = [to_date(lit(s)).cast(TimestampType()) for s in dates]\n",
    "\n",
    "df1 = df1.withColumn(\n",
    "    \"CRSDepTime\",\n",
    "    F.when(F.col(\"CRSDepTime\").isNull(), '0')\n",
    "    .otherwise(F.col(\"CRSDepTime\").cast(\"string\"))\n",
    ")\n",
    "df2 = df1.withColumn('DepTime_Date', F.to_timestamp('CRSDepTime', 'hhmm'))\n",
    "\n",
    "# df2.show()\n",
    "# print('@'*20)\n",
    "\n",
    "df4 = df2.where( \n",
    "    ((col('DepTime_Date') > dates[0]) & (col('DepTime_Date') < dates[1]))\n",
    "         )\n",
    "\n",
    "print('-'*10, 'departure flights(limit 100)', '-'*10)\n",
    "for item in df4.rdd.collect()[:100]:\n",
    "#     print(item)\n",
    "    print(item['CRSArrTime'],item['DepTime'], item['FlightNum'], item['Dest'])"
   ]
  },
  {
   "cell_type": "code",
   "execution_count": null,
   "metadata": {},
   "outputs": [],
   "source": []
  },
  {
   "cell_type": "code",
   "execution_count": null,
   "metadata": {},
   "outputs": [],
   "source": []
  },
  {
   "cell_type": "code",
   "execution_count": null,
   "metadata": {},
   "outputs": [],
   "source": []
  },
  {
   "cell_type": "code",
   "execution_count": null,
   "metadata": {},
   "outputs": [],
   "source": []
  },
  {
   "cell_type": "code",
   "execution_count": null,
   "metadata": {},
   "outputs": [],
   "source": []
  },
  {
   "cell_type": "code",
   "execution_count": null,
   "metadata": {},
   "outputs": [],
   "source": []
  }
 ],
 "metadata": {
  "kernelspec": {
   "display_name": "Python 3 (ipykernel)",
   "language": "python",
   "name": "python3"
  },
  "language_info": {
   "codemirror_mode": {
    "name": "ipython",
    "version": 3
   },
   "file_extension": ".py",
   "mimetype": "text/x-python",
   "name": "python",
   "nbconvert_exporter": "python",
   "pygments_lexer": "ipython3",
   "version": "3.8.11"
  }
 },
 "nbformat": 4,
 "nbformat_minor": 2
}
