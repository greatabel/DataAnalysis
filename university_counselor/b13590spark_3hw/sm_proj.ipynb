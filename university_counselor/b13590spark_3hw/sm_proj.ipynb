{
 "cells": [
  {
   "cell_type": "code",
   "execution_count": 1,
   "metadata": {},
   "outputs": [
    {
     "name": "stdout",
     "output_type": "stream",
     "text": [
      "Loading flights from /Users/abel/Downloads/spare_time/working/b13590_1.8k_spark_7月28日/flights2008.csv\n"
     ]
    }
   ],
   "source": [
    "from pyspark import SparkContext, SparkConf\n",
    "from pyspark.sql import HiveContext, Row\n",
    "from pyspark.sql.types import IntegerType\n",
    "import json\n",
    "import sys\n",
    "inputFile = 'flights2008.csv'\n",
    "inputFile = '/Users/abel/Downloads/spare_time/working/b13590_1.8k_spark_7月28日/flights2008.csv'\n",
    "\n",
    "conf = SparkConf().setAppName(\"SparkSQLAirTransit\")\n",
    "SparkConf().set(\"spark.sql.legacy.timeParserPolicy\",\"LEGACY\")\n",
    "sc = SparkContext.getOrCreate(conf=conf)\n",
    "hiveCtx = HiveContext(sc)\n",
    "print(\"Loading flights from \" + inputFile)\n",
    "\n"
   ]
  },
  {
   "cell_type": "code",
   "execution_count": 2,
   "metadata": {},
   "outputs": [
    {
     "name": "stdout",
     "output_type": "stream",
     "text": [
      "myair_transits:\n",
      "Row(_c0=0, Year=2008, Month=1, DayofMonth=3, DayOfWeek=4, DepTime=2003.0, CRSDepTime=1955, ArrTime=2211.0, CRSArrTime=2225, UniqueCarrier='WN', FlightNum=335, Origin='IAD', Dest='TPA') \n",
      "\n",
      "Row(_c0=1, Year=2008, Month=1, DayofMonth=3, DayOfWeek=4, DepTime=754.0, CRSDepTime=735, ArrTime=1002.0, CRSArrTime=1000, UniqueCarrier='WN', FlightNum=3231, Origin='IAD', Dest='TPA') \n",
      "\n",
      "Row(_c0=2, Year=2008, Month=1, DayofMonth=3, DayOfWeek=4, DepTime=628.0, CRSDepTime=620, ArrTime=804.0, CRSArrTime=750, UniqueCarrier='WN', FlightNum=448, Origin='IND', Dest='BWI') \n",
      "\n"
     ]
    }
   ],
   "source": [
    "input = hiveCtx.read.option(\"header\",True).csv(inputFile,inferSchema =True)\n",
    "\n",
    "\n",
    "\n",
    "input.registerTempTable(\"air_transit\")\n",
    "myair_transits = hiveCtx.sql(\"SELECT * FROM air_transit LIMIT 3\")\n",
    "print('myair_transits:' )\n",
    "for item in myair_transits.collect():\n",
    "\tprint(item, '\\n')\n",
    "\n"
   ]
  },
  {
   "cell_type": "code",
   "execution_count": 3,
   "metadata": {},
   "outputs": [
    {
     "name": "stdout",
     "output_type": "stream",
     "text": [
      "1. column= 13\n",
      "1. rows :  [Row(count(1)=7009728)]\n"
     ]
    }
   ],
   "source": [
    "print('1. column=',len(myair_transits.columns))\n",
    "myair_transits = hiveCtx.sql(\"SELECT count(*) FROM air_transit \")\n",
    "print('1. rows : ', myair_transits.collect())\n",
    "\n"
   ]
  },
  {
   "cell_type": "code",
   "execution_count": 12,
   "metadata": {},
   "outputs": [
    {
     "name": "stdout",
     "output_type": "stream",
     "text": [
      "2. print out the schema of this dataframe\n",
      "root\n",
      " |-- _c0: integer (nullable = true)\n",
      " |-- Year: integer (nullable = true)\n",
      " |-- Month: integer (nullable = true)\n",
      " |-- DayofMonth: integer (nullable = true)\n",
      " |-- DayOfWeek: integer (nullable = true)\n",
      " |-- DepTime: double (nullable = true)\n",
      " |-- CRSDepTime: integer (nullable = true)\n",
      " |-- ArrTime: double (nullable = true)\n",
      " |-- CRSArrTime: integer (nullable = true)\n",
      " |-- UniqueCarrier: string (nullable = true)\n",
      " |-- FlightNum: integer (nullable = true)\n",
      " |-- Origin: string (nullable = true)\n",
      " |-- Dest: string (nullable = true)\n",
      "\n"
     ]
    }
   ],
   "source": [
    "print('2. print out the schema of this dataframe')\n",
    "input.printSchema()\n",
    "\n"
   ]
  },
  {
   "cell_type": "code",
   "execution_count": 13,
   "metadata": {},
   "outputs": [
    {
     "name": "stdout",
     "output_type": "stream",
     "text": [
      "3. List the distinct carriers of in the dataframe:\n",
      "UA\n",
      "AA\n",
      "NW\n",
      "EV\n",
      "B6\n",
      "DL\n",
      "OO\n",
      "F9\n",
      "YV\n",
      "US\n",
      "AQ\n",
      "MQ\n",
      "OH\n",
      "HA\n",
      "XE\n",
      "AS\n",
      "FL\n",
      "CO\n",
      "WN\n",
      "9E\n"
     ]
    }
   ],
   "source": [
    "print('3. List the distinct carriers of in the dataframe:')\n",
    "myair_transits = hiveCtx.sql(\"SELECT distinct UniqueCarrier FROM air_transit \")\n",
    "for row in myair_transits.collect():\n",
    "\tprint(row[0])\n",
    "\n",
    "\n"
   ]
  },
  {
   "cell_type": "code",
   "execution_count": 14,
   "metadata": {},
   "outputs": [
    {
     "name": "stdout",
     "output_type": "stream",
     "text": [
      "4. How many flights in total are there in January:\n",
      "[Row(count(1)=605765)]\n"
     ]
    }
   ],
   "source": [
    "print('4. How many flights in total are there in January:')\n",
    "myair_transits = hiveCtx.sql(\"SELECT count(*) FROM air_transit where Month=1 \")\n",
    "print(myair_transits.collect())\n",
    "\n"
   ]
  },
  {
   "cell_type": "code",
   "execution_count": 17,
   "metadata": {},
   "outputs": [
    {
     "name": "stdout",
     "output_type": "stream",
     "text": [
      "5. the total number of flights by each of the carriers\n",
      "UniqueCarrier  count(*)\n",
      "UA          449515\n",
      "AA          604885\n",
      "NW          347652\n",
      "EV          280575\n",
      "B6          196091\n",
      "DL          451931\n",
      "OO          567159\n",
      "F9          95762\n",
      "YV          254930\n",
      "US          453589\n",
      "AQ          7800\n",
      "MQ          490693\n",
      "OH          197607\n",
      "HA          61826\n",
      "XE          374510\n",
      "AS          151102\n",
      "FL          261684\n",
      "CO          298455\n",
      "WN          1201754\n",
      "9E          262208\n"
     ]
    }
   ],
   "source": [
    "print('5. the total number of flights by each of the carriers')\n",
    "myair_transits = hiveCtx.sql(\"SELECT UniqueCarrier, count(*) FROM air_transit group by UniqueCarrier \")\n",
    "print('UniqueCarrier', ' count(*)')\n",
    "for row in myair_transits.collect():\n",
    "\tprint(row[0], '        ',row[1])\n",
    "\n"
   ]
  },
  {
   "cell_type": "code",
   "execution_count": 18,
   "metadata": {},
   "outputs": [
    {
     "name": "stdout",
     "output_type": "stream",
     "text": [
      "6. Count the total number of flights in the first half year (month 1-6) by each of the carriers.\n",
      "UniqueCarrier  count(*)\n",
      "UA         234137\n",
      "AA         308611\n",
      "NW         186376\n",
      "EV         140491\n",
      "B6         100172\n",
      "DL         225602\n",
      "OO         293452\n",
      "F9         47861\n",
      "YV         130307\n",
      "US         231041\n",
      "AQ         7800\n",
      "MQ         255129\n",
      "OH         106344\n",
      "HA         28374\n",
      "XE         208671\n",
      "AS         76412\n",
      "FL         133553\n",
      "CO         155318\n",
      "WN         602447\n",
      "9E         132077\n"
     ]
    }
   ],
   "source": [
    "print('6. Count the total number of flights in the first half year (month 1-6) by each of the carriers.')\n",
    "myair_transits = hiveCtx.sql(\"SELECT UniqueCarrier, count(*) FROM air_transit where Month <= 6 group by UniqueCarrier \")\n",
    "print('UniqueCarrier', ' count(*)')\n",
    "for row in myair_transits.collect():\n",
    "\tprint(row[0],'       ', row[1])"
   ]
  },
  {
   "cell_type": "code",
   "execution_count": null,
   "metadata": {},
   "outputs": [],
   "source": []
  },
  {
   "cell_type": "code",
   "execution_count": null,
   "metadata": {},
   "outputs": [],
   "source": []
  },
  {
   "cell_type": "code",
   "execution_count": null,
   "metadata": {},
   "outputs": [],
   "source": []
  }
 ],
 "metadata": {
  "kernelspec": {
   "display_name": "Python 3",
   "language": "python",
   "name": "python3"
  },
  "language_info": {
   "codemirror_mode": {
    "name": "ipython",
    "version": 3
   },
   "file_extension": ".py",
   "mimetype": "text/x-python",
   "name": "python",
   "nbconvert_exporter": "python",
   "pygments_lexer": "ipython3",
   "version": "3.7.7"
  }
 },
 "nbformat": 4,
 "nbformat_minor": 4
}
