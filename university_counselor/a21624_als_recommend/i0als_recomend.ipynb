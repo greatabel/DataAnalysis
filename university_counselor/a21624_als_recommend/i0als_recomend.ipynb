{
 "cells": [
  {
   "cell_type": "code",
   "execution_count": 29,
   "id": "defined-matter",
   "metadata": {},
   "outputs": [],
   "source": [
    "import pandas as pd\n",
    "from pyspark.sql.functions import col, explode\n",
    "from pyspark import SparkContext\n",
    "# Import the required functions\n",
    "from pyspark.ml.evaluation import RegressionEvaluator\n",
    "from pyspark.ml.recommendation import ALS\n",
    "from pyspark.ml.tuning import ParamGridBuilder, CrossValidator\n"
   ]
  },
  {
   "cell_type": "code",
   "execution_count": 30,
   "id": "increasing-twins",
   "metadata": {},
   "outputs": [],
   "source": [
    "from pyspark.sql import SparkSession\n",
    "sc = SparkContext\n",
    "\n",
    "spark = SparkSession.builder.appName('Recommendations').getOrCreate()"
   ]
  },
  {
   "cell_type": "code",
   "execution_count": 31,
   "id": "labeled-corner",
   "metadata": {},
   "outputs": [],
   "source": [
    "ratings = spark.read.csv(\"item_dedup.csv\",header=False)"
   ]
  },
  {
   "cell_type": "code",
   "execution_count": 32,
   "id": "incorporated-automation",
   "metadata": {},
   "outputs": [
    {
     "name": "stdout",
     "output_type": "stream",
     "text": [
      "+--------------+----------+---+----------+\n",
      "|           _c0|       _c1|_c2|       _c3|\n",
      "+--------------+----------+---+----------+\n",
      "|A3AF8FFZAZYNE5|0000000078|5.0|1092182400|\n",
      "| AH2L9G3DQHHAJ|0000000116|4.0|1019865600|\n",
      "|A2IIIDRK3PRRZY|0000000116|1.0|1395619200|\n",
      "|A1TADCM7YWPQ8M|0000000868|4.0|1031702400|\n",
      "| AWGH7V0BDOJKB|0000013714|4.0|1383177600|\n",
      "|A3UTQPQPM4TQO0|0000013714|5.0|1374883200|\n",
      "| A8ZS0I5L5V31B|0000013714|5.0|1393632000|\n",
      "| ACNGUPJ3A3TM9|0000013714|4.0|1386028800|\n",
      "|A3BED5QFJWK88M|0000013714|4.0|1350345600|\n",
      "|A2SUAM1J3GNN3B|0000013714|5.0|1252800000|\n",
      "| APOZ15IEYQRRR|0000013714|5.0|1362787200|\n",
      "| AYEDW3BFK53XK|0000013714|5.0|1325462400|\n",
      "|A1KLCGLCXYP1U1|0000013714|3.0|1376092800|\n",
      "|A37W6POFWIVG13|0000013714|5.0|1316131200|\n",
      "|A2EIPZNHAEXZHJ|0000013714|4.0|1325030400|\n",
      "|A1VAFVJFT58YI3|0000013714|5.0|1384300800|\n",
      "| A9KTKY6BUR8U6|0000013714|1.0|1357516800|\n",
      "|A2742OG8PK8KU6|0000013714|5.0|1358380800|\n",
      "|A38AAPXSJN4C5G|0000015393|4.0|1239494400|\n",
      "|A14A5Q8VJK5NLR|0000029831|4.0|1393286400|\n",
      "+--------------+----------+---+----------+\n",
      "only showing top 20 rows\n",
      "\n"
     ]
    }
   ],
   "source": [
    "ratings.show()"
   ]
  },
  {
   "cell_type": "code",
   "execution_count": 33,
   "id": "automatic-discretion",
   "metadata": {},
   "outputs": [
    {
     "name": "stdout",
     "output_type": "stream",
     "text": [
      "root\n",
      " |-- _c0: string (nullable = true)\n",
      " |-- _c1: string (nullable = true)\n",
      " |-- _c2: string (nullable = true)\n",
      " |-- _c3: string (nullable = true)\n",
      "\n"
     ]
    }
   ],
   "source": [
    "ratings.printSchema()\n"
   ]
  },
  {
   "cell_type": "code",
   "execution_count": 34,
   "id": "atmospheric-structure",
   "metadata": {},
   "outputs": [
    {
     "name": "stdout",
     "output_type": "stream",
     "text": [
      "数据处理开始：\n",
      "添加属性列头的依据在:\n",
      "https://jmcauley.ucsd.edu/data/amazon/links.html\n"
     ]
    }
   ],
   "source": [
    "print('数据处理开始：')\n",
    "ratings = ratings.toDF('userId', 'productID', 'rating', 'mytime')\n",
    "\n",
    "from operator import attrgetter\n",
    "\n",
    "# data.map(attrgetter(\"label\", \"features\")).toDF([\"some_name\", \"some_other_name\"])\n",
    "\n",
    "print('添加属性列头的依据在:')\n",
    "print('https://jmcauley.ucsd.edu/data/amazon/links.html')"
   ]
  },
  {
   "cell_type": "code",
   "execution_count": 35,
   "id": "alike-envelope",
   "metadata": {},
   "outputs": [
    {
     "name": "stdout",
     "output_type": "stream",
     "text": [
      "+--------------+----------+------+----------+\n",
      "|        userId| productID|rating|    mytime|\n",
      "+--------------+----------+------+----------+\n",
      "|A3AF8FFZAZYNE5|0000000078|   5.0|1092182400|\n",
      "| AH2L9G3DQHHAJ|0000000116|   4.0|1019865600|\n",
      "|A2IIIDRK3PRRZY|0000000116|   1.0|1395619200|\n",
      "|A1TADCM7YWPQ8M|0000000868|   4.0|1031702400|\n",
      "| AWGH7V0BDOJKB|0000013714|   4.0|1383177600|\n",
      "|A3UTQPQPM4TQO0|0000013714|   5.0|1374883200|\n",
      "| A8ZS0I5L5V31B|0000013714|   5.0|1393632000|\n",
      "| ACNGUPJ3A3TM9|0000013714|   4.0|1386028800|\n",
      "|A3BED5QFJWK88M|0000013714|   4.0|1350345600|\n",
      "|A2SUAM1J3GNN3B|0000013714|   5.0|1252800000|\n",
      "| APOZ15IEYQRRR|0000013714|   5.0|1362787200|\n",
      "| AYEDW3BFK53XK|0000013714|   5.0|1325462400|\n",
      "|A1KLCGLCXYP1U1|0000013714|   3.0|1376092800|\n",
      "|A37W6POFWIVG13|0000013714|   5.0|1316131200|\n",
      "|A2EIPZNHAEXZHJ|0000013714|   4.0|1325030400|\n",
      "|A1VAFVJFT58YI3|0000013714|   5.0|1384300800|\n",
      "| A9KTKY6BUR8U6|0000013714|   1.0|1357516800|\n",
      "|A2742OG8PK8KU6|0000013714|   5.0|1358380800|\n",
      "|A38AAPXSJN4C5G|0000015393|   4.0|1239494400|\n",
      "|A14A5Q8VJK5NLR|0000029831|   4.0|1393286400|\n",
      "+--------------+----------+------+----------+\n",
      "only showing top 20 rows\n",
      "\n"
     ]
    }
   ],
   "source": [
    "ratings.show()"
   ]
  },
  {
   "cell_type": "code",
   "execution_count": 36,
   "id": "impaired-amino",
   "metadata": {},
   "outputs": [
    {
     "name": "stdout",
     "output_type": "stream",
     "text": [
      "使用spark F 函数和直接cast函数转换复杂列和简单列\n",
      "\n",
      "+---------+---------+------+\n",
      "|   userId|productID|rating|\n",
      "+---------+---------+------+\n",
      "|171636991|       78|   5.0|\n",
      "|       10|      116|   4.0|\n",
      "|      162|      116|   1.0|\n",
      "|      161|      868|   4.0|\n",
      "|       10|    13714|   4.0|\n",
      "|      163|    13714|   5.0|\n",
      "|      168|    13714|   5.0|\n",
      "|      172|    13714|   4.0|\n",
      "| 10731221|    13714|   4.0|\n",
      "|      162|    13714|   5.0|\n",
      "|       10|    13714|   5.0|\n",
      "|       10|    13714|   5.0|\n",
      "|      161|    13714|   3.0|\n",
      "|     2615|    13714|   5.0|\n",
      "|     2606|    13714|   4.0|\n",
      "|      161|    13714|   5.0|\n",
      "|      169|    13714|   1.0|\n",
      "|   665410|    13714|   5.0|\n",
      "|   669866|    15393|   4.0|\n",
      "|   660645|    29831|   4.0|\n",
      "+---------+---------+------+\n",
      "only showing top 20 rows\n",
      "\n"
     ]
    }
   ],
   "source": [
    "import pyspark.sql.functions as F\n",
    "\n",
    "# ratings.withColumn('userId', F.expr(\"conv(userId, 16, 10)\")).show()\n",
    "print('使用spark F 函数和直接cast函数转换复杂列和简单列\\n')\n",
    "ratings = ratings.\\\n",
    "    withColumn('userId', F.expr(\"conv(userId, 16, 10)\").cast('integer')).\\\n",
    "    withColumn('productID', col('productID').cast('integer')).\\\n",
    "    withColumn('rating', col('rating').cast('float')).\\\n",
    "    drop('mytime')\n",
    "ratings.show()"
   ]
  },
  {
   "cell_type": "code",
   "execution_count": 37,
   "id": "interim-discrimination",
   "metadata": {},
   "outputs": [
    {
     "name": "stdout",
     "output_type": "stream",
     "text": [
      "root\n",
      " |-- userId: integer (nullable = true)\n",
      " |-- productID: integer (nullable = true)\n",
      " |-- rating: float (nullable = true)\n",
      "\n"
     ]
    }
   ],
   "source": [
    "ratings.printSchema()\n"
   ]
  },
  {
   "cell_type": "code",
   "execution_count": 38,
   "id": "italic-karma",
   "metadata": {},
   "outputs": [
    {
     "name": "stdout",
     "output_type": "stream",
     "text": [
      "numerator= 82677131\n",
      "The ratings dataframe is  99.99% empty.\n"
     ]
    }
   ],
   "source": [
    "# Count the total number of ratings in the dataset\n",
    "numerator = ratings.select(\"rating\").count()\n",
    "print('numerator=', numerator)\n",
    "\n",
    "# Count the number of distinct userIds and distinct movieIds\n",
    "num_users = ratings.select(\"userId\").distinct().count()\n",
    "num_products = ratings.select(\"productID\").distinct().count()\n",
    "\n",
    "# Set the denominator equal to the number of users multiplied by the number of movies\n",
    "denominator = num_users * num_products\n",
    "\n",
    "# Divide the numerator by the denominator\n",
    "sparsity = (1.0 - (numerator *1.0)/denominator)*100\n",
    "print(\"The ratings dataframe is \", \"%.2f\" % sparsity + \"% empty.\")"
   ]
  },
  {
   "cell_type": "code",
   "execution_count": 39,
   "id": "compressed-typing",
   "metadata": {},
   "outputs": [
    {
     "name": "stdout",
     "output_type": "stream",
     "text": [
      "数据探索1\n",
      "+------+--------+\n",
      "|userId|   count|\n",
      "+------+--------+\n",
      "|   161|12117249|\n",
      "|    10|12105671|\n",
      "|   162|12089527|\n",
      "|   163| 9871284|\n",
      "|  null|  632787|\n",
      "|  2580|  381534|\n",
      "|   175|  368543|\n",
      "|   173|  345221|\n",
      "|  2602|  343196|\n",
      "|  2595|  342956|\n",
      "|   171|  342613|\n",
      "|  2608|  341928|\n",
      "|   165|  340807|\n",
      "|  2622|  340461|\n",
      "|  2584|  340082|\n",
      "|   164|  339785|\n",
      "|  2620|  339625|\n",
      "|  2585|  339567|\n",
      "|  2577|  339408|\n",
      "|   170|  339219|\n",
      "+------+--------+\n",
      "only showing top 20 rows\n",
      "\n"
     ]
    }
   ],
   "source": [
    "# Group data by userId, count ratings\n",
    "print('数据探索1')\n",
    "userId_ratings = ratings.groupBy(\"userId\").count().orderBy('count', ascending=False)\n",
    "userId_ratings.show()"
   ]
  },
  {
   "cell_type": "code",
   "execution_count": 40,
   "id": "center-marble",
   "metadata": {},
   "outputs": [
    {
     "name": "stdout",
     "output_type": "stream",
     "text": [
      "数据探索2\n",
      "+----------+--------+\n",
      "| productID|   count|\n",
      "+----------+--------+\n",
      "|      null|64387837|\n",
      "| 439023483|   21398|\n",
      "| 439023513|   14114|\n",
      "| 385537859|   12973|\n",
      "|   7444117|   12629|\n",
      "| 375831002|   12571|\n",
      "| 345803485|   12290|\n",
      "|1608838137|   11906|\n",
      "| 316055433|   11746|\n",
      "| 849922070|   10424|\n",
      "|   7442920|   10172|\n",
      "| 345803493|    9980|\n",
      "| 399159347|    9906|\n",
      "| 345803507|    9610|\n",
      "|   7386648|    9062|\n",
      "|1469984202|    8280|\n",
      "| 606238409|    8106|\n",
      "| 316044695|    7986|\n",
      "| 141039280|    7905|\n",
      "| 545265355|    7786|\n",
      "+----------+--------+\n",
      "only showing top 20 rows\n",
      "\n"
     ]
    }
   ],
   "source": [
    "print('数据探索2')\n",
    "productID_ratings = ratings.groupBy(\"productID\").count().orderBy('count', ascending=False)\n",
    "productID_ratings.show()"
   ]
  },
  {
   "cell_type": "code",
   "execution_count": 44,
   "id": "skilled-combat",
   "metadata": {},
   "outputs": [
    {
     "name": "stdout",
     "output_type": "stream",
     "text": [
      "numerator= 18154053\n"
     ]
    }
   ],
   "source": [
    "# 下面开始过滤无效数值\n",
    "ratings = ratings.filter(\"productID is not NULL\")\n",
    "ratings = ratings.filter(\"userId is not NULL\")\n",
    "ratings = ratings.filter(\"rating is not NULL\")\n",
    "\n",
    "ratings=ratings.dropna()\n",
    "\n",
    "numerator = ratings.select(\"rating\").count()\n",
    "print('numerator=', numerator)"
   ]
  },
  {
   "cell_type": "code",
   "execution_count": 45,
   "id": "corresponding-radar",
   "metadata": {},
   "outputs": [
    {
     "name": "stdout",
     "output_type": "stream",
     "text": [
      "数据探索3 检查userid过滤\n",
      "+------+-------+\n",
      "|userId|  count|\n",
      "+------+-------+\n",
      "|   161|2683569|\n",
      "|   162|2670672|\n",
      "|    10|2664444|\n",
      "|   163|2190621|\n",
      "|  2580| 110418|\n",
      "|   175|  99783|\n",
      "|  2589|  77534|\n",
      "|  2584|  77181|\n",
      "|  2579|  77179|\n",
      "|  2577|  76908|\n",
      "|  2623|  76753|\n",
      "|  2595|  76560|\n",
      "|   170|  76376|\n",
      "|  2588|  76215|\n",
      "|   171|  76171|\n",
      "|  2598|  76012|\n",
      "|  2593|  76004|\n",
      "|   173|  75813|\n",
      "|  2599|  75803|\n",
      "|  2585|  75439|\n",
      "+------+-------+\n",
      "only showing top 20 rows\n",
      "\n",
      "数据探索4 检查productid过滤\n",
      "+----------+-----+\n",
      "| productID|count|\n",
      "+----------+-----+\n",
      "| 439023483|21177|\n",
      "| 439023513|13967|\n",
      "| 385537859|12883|\n",
      "|   7444117|12526|\n",
      "| 375831002|12477|\n",
      "| 345803485|12199|\n",
      "|1608838137|11842|\n",
      "| 316055433|11664|\n",
      "| 849922070|10338|\n",
      "|   7442920|10083|\n",
      "| 345803493| 9880|\n",
      "| 399159347| 9837|\n",
      "| 345803507| 9508|\n",
      "|   7386648| 8991|\n",
      "|1469984202| 8222|\n",
      "| 606238409| 8039|\n",
      "| 316044695| 7920|\n",
      "| 141039280| 7834|\n",
      "| 545265355| 7705|\n",
      "|1442359315| 7639|\n",
      "+----------+-----+\n",
      "only showing top 20 rows\n",
      "\n"
     ]
    }
   ],
   "source": [
    "\n",
    "\n",
    "print('数据探索3 检查userid过滤')\n",
    "userId_ratings = ratings.groupBy(\"userId\").count().orderBy('count', ascending=False)\n",
    "userId_ratings.show()\n",
    "\n",
    "print('数据探索4 检查productid过滤')\n",
    "productID_ratings = ratings.groupBy(\"productID\").count().orderBy('count', ascending=False)\n",
    "productID_ratings.show()"
   ]
  },
  {
   "cell_type": "markdown",
   "id": "moved-wildlife",
   "metadata": {},
   "source": [
    "# 构建模型 #"
   ]
  },
  {
   "cell_type": "code",
   "execution_count": 16,
   "id": "operational-convertible",
   "metadata": {},
   "outputs": [
    {
     "name": "stdout",
     "output_type": "stream",
     "text": [
      "输出模型类型，确认使用了ALS =》\n"
     ]
    },
    {
     "data": {
      "text/plain": [
       "pyspark.ml.recommendation.ALS"
      ]
     },
     "execution_count": 16,
     "metadata": {},
     "output_type": "execute_result"
    }
   ],
   "source": [
    "(train, test) = ratings.randomSplit([0.8, 0.2], seed = 1234)\n",
    "\n",
    "# Create ALS model\n",
    "als = ALS(userCol=\"userId\", itemCol=\"productID\", ratingCol=\"rating\", nonnegative = True, implicitPrefs = False, coldStartStrategy=\"drop\")\n",
    "\n",
    "print('输出模型类型，确认使用了ALS =》')\n",
    "type(als)"
   ]
  },
  {
   "cell_type": "code",
   "execution_count": 21,
   "id": "other-corruption",
   "metadata": {},
   "outputs": [
    {
     "name": "stdout",
     "output_type": "stream",
     "text": [
      "Num models to be tested:  16\n"
     ]
    }
   ],
   "source": [
    "from pyspark.ml.evaluation import RegressionEvaluator\n",
    "from pyspark.ml.tuning import ParamGridBuilder, CrossValidator\n",
    "\n",
    "# Add hyperparameters and their respective values to param_grid\n",
    "param_grid = ParamGridBuilder() \\\n",
    "            .addGrid(als.rank, [10, 50, 100, 150]) \\\n",
    "            .addGrid(als.regParam, [.01, .05, .1, .15]) \\\n",
    "            .build()\n",
    "            #             .addGrid(als.maxIter, [5, 50, 100, 200]) \\\n",
    "\n",
    "           \n",
    "# Define evaluator as RMSE and print length of evaluator\n",
    "evaluator = RegressionEvaluator(metricName=\"rmse\", labelCol=\"rating\", predictionCol=\"prediction\") \n",
    "print (\"Num models to be tested: \", len(param_grid))"
   ]
  },
  {
   "cell_type": "markdown",
   "id": "addressed-joint",
   "metadata": {},
   "source": [
    "# 进行模型交叉验证 #"
   ]
  },
  {
   "cell_type": "code",
   "execution_count": 23,
   "id": "enabling-mexican",
   "metadata": {},
   "outputs": [
    {
     "name": "stdout",
     "output_type": "stream",
     "text": [
      "交叉验证 CrossValidator_cae4615c979e\n"
     ]
    }
   ],
   "source": [
    "cv = CrossValidator(estimator=als, estimatorParamMaps=param_grid, evaluator=evaluator, numFolds=5)\n",
    "\n",
    "# Confirm cv was built\n",
    "print('交叉验证', cv)\n",
    "\n",
    "#Fit cross validator to the 'train' dataset\n",
    "model = cv.fit(train)\n",
    "\n",
    "#Extract best model from the cv model above\n",
    "best_model = model.bestModel"
   ]
  },
  {
   "cell_type": "code",
   "execution_count": 24,
   "id": "olive-jungle",
   "metadata": {},
   "outputs": [
    {
     "name": "stdout",
     "output_type": "stream",
     "text": [
      "<class 'pyspark.ml.recommendation.ALSModel'>\n",
      "**Best Model**\n",
      "  Rank: 150\n",
      "  MaxIter: 10\n",
      "  RegParam: 0.15\n"
     ]
    }
   ],
   "source": [
    "# Print best_model\n",
    "print(type(best_model))\n",
    "\n",
    "# Complete the code below to extract the ALS model parameters\n",
    "print(\"**Best Model**\")\n",
    "\n",
    "# # Print \"Rank\"\n",
    "print(\"  Rank:\", best_model._java_obj.parent().getRank())\n",
    "\n",
    "# Print \"MaxIter\"\n",
    "print(\"  MaxIter:\", best_model._java_obj.parent().getMaxIter())\n",
    "\n",
    "# Print \"RegParam\"\n",
    "print(\"  RegParam:\", best_model._java_obj.parent().getRegParam())"
   ]
  },
  {
   "cell_type": "code",
   "execution_count": 41,
   "id": "civil-jamaica",
   "metadata": {},
   "outputs": [],
   "source": [
    "# View the predictions\n",
    "test_predictions = best_model.transform(test)\n",
    "RMSE = evaluator.evaluate(test_predictions)\n"
   ]
  },
  {
   "cell_type": "code",
   "execution_count": 43,
   "id": "israeli-pulse",
   "metadata": {},
   "outputs": [
    {
     "name": "stdout",
     "output_type": "stream",
     "text": [
      "0.8319647284122662\n"
     ]
    }
   ],
   "source": [
    "print(RMSE)"
   ]
  },
  {
   "cell_type": "code",
   "execution_count": null,
   "id": "cooperative-massachusetts",
   "metadata": {},
   "outputs": [],
   "source": []
  },
  {
   "cell_type": "code",
   "execution_count": null,
   "id": "figured-angola",
   "metadata": {},
   "outputs": [],
   "source": []
  },
  {
   "cell_type": "code",
   "execution_count": null,
   "id": "norman-branch",
   "metadata": {},
   "outputs": [],
   "source": []
  },
  {
   "cell_type": "code",
   "execution_count": null,
   "id": "widespread-product",
   "metadata": {},
   "outputs": [],
   "source": []
  },
  {
   "cell_type": "code",
   "execution_count": null,
   "id": "meaning-norfolk",
   "metadata": {},
   "outputs": [],
   "source": []
  },
  {
   "cell_type": "code",
   "execution_count": null,
   "id": "missing-moral",
   "metadata": {},
   "outputs": [],
   "source": []
  },
  {
   "cell_type": "code",
   "execution_count": null,
   "id": "sharing-atlas",
   "metadata": {},
   "outputs": [],
   "source": []
  },
  {
   "cell_type": "code",
   "execution_count": null,
   "id": "latest-hungary",
   "metadata": {},
   "outputs": [],
   "source": []
  },
  {
   "cell_type": "code",
   "execution_count": null,
   "id": "hundred-coffee",
   "metadata": {},
   "outputs": [],
   "source": []
  },
  {
   "cell_type": "code",
   "execution_count": null,
   "id": "former-triple",
   "metadata": {},
   "outputs": [],
   "source": []
  },
  {
   "cell_type": "code",
   "execution_count": null,
   "id": "hired-opportunity",
   "metadata": {},
   "outputs": [],
   "source": []
  },
  {
   "cell_type": "code",
   "execution_count": null,
   "id": "chronic-simpson",
   "metadata": {},
   "outputs": [],
   "source": []
  },
  {
   "cell_type": "code",
   "execution_count": null,
   "id": "light-cattle",
   "metadata": {},
   "outputs": [],
   "source": []
  }
 ],
 "metadata": {
  "kernelspec": {
   "display_name": "Python 3 (ipykernel)",
   "language": "python",
   "name": "python3"
  },
  "language_info": {
   "codemirror_mode": {
    "name": "ipython",
    "version": 3
   },
   "file_extension": ".py",
   "mimetype": "text/x-python",
   "name": "python",
   "nbconvert_exporter": "python",
   "pygments_lexer": "ipython3",
   "version": "3.8.9"
  }
 },
 "nbformat": 4,
 "nbformat_minor": 5
}
